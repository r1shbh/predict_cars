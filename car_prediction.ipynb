{
 "cells": [
  {
   "cell_type": "markdown",
   "metadata": {},
   "source": [
    "# Car Prediction"
   ]
  },
  {
   "cell_type": "code",
   "execution_count": 768,
   "metadata": {},
   "outputs": [],
   "source": [
    "import pandas as pd\n",
    "import numpy as np\n",
    "import matplotlib.pyplot as plt\n",
    "%matplotlib inline\n",
    "import seaborn as sns"
   ]
  },
  {
   "cell_type": "code",
   "execution_count": 769,
   "metadata": {},
   "outputs": [],
   "source": [
    "data = pd.read_excel('Data_Train.xlsx')"
   ]
  },
  {
   "cell_type": "code",
   "execution_count": 770,
   "metadata": {},
   "outputs": [
    {
     "data": {
      "text/html": [
       "<div>\n",
       "<style scoped>\n",
       "    .dataframe tbody tr th:only-of-type {\n",
       "        vertical-align: middle;\n",
       "    }\n",
       "\n",
       "    .dataframe tbody tr th {\n",
       "        vertical-align: top;\n",
       "    }\n",
       "\n",
       "    .dataframe thead th {\n",
       "        text-align: right;\n",
       "    }\n",
       "</style>\n",
       "<table border=\"1\" class=\"dataframe\">\n",
       "  <thead>\n",
       "    <tr style=\"text-align: right;\">\n",
       "      <th></th>\n",
       "      <th>Name</th>\n",
       "      <th>Location</th>\n",
       "      <th>Year</th>\n",
       "      <th>Kilometers_Driven</th>\n",
       "      <th>Fuel_Type</th>\n",
       "      <th>Transmission</th>\n",
       "      <th>Owner_Type</th>\n",
       "      <th>Mileage</th>\n",
       "      <th>Engine</th>\n",
       "      <th>Power</th>\n",
       "      <th>Seats</th>\n",
       "      <th>New_Price</th>\n",
       "      <th>Price</th>\n",
       "    </tr>\n",
       "  </thead>\n",
       "  <tbody>\n",
       "    <tr>\n",
       "      <th>0</th>\n",
       "      <td>Maruti Wagon R LXI CNG</td>\n",
       "      <td>Mumbai</td>\n",
       "      <td>2010</td>\n",
       "      <td>72000</td>\n",
       "      <td>CNG</td>\n",
       "      <td>Manual</td>\n",
       "      <td>First</td>\n",
       "      <td>26.6 km/kg</td>\n",
       "      <td>998 CC</td>\n",
       "      <td>58.16 bhp</td>\n",
       "      <td>5.0</td>\n",
       "      <td>NaN</td>\n",
       "      <td>1.75</td>\n",
       "    </tr>\n",
       "    <tr>\n",
       "      <th>1</th>\n",
       "      <td>Hyundai Creta 1.6 CRDi SX Option</td>\n",
       "      <td>Pune</td>\n",
       "      <td>2015</td>\n",
       "      <td>41000</td>\n",
       "      <td>Diesel</td>\n",
       "      <td>Manual</td>\n",
       "      <td>First</td>\n",
       "      <td>19.67 kmpl</td>\n",
       "      <td>1582 CC</td>\n",
       "      <td>126.2 bhp</td>\n",
       "      <td>5.0</td>\n",
       "      <td>NaN</td>\n",
       "      <td>12.50</td>\n",
       "    </tr>\n",
       "    <tr>\n",
       "      <th>2</th>\n",
       "      <td>Honda Jazz V</td>\n",
       "      <td>Chennai</td>\n",
       "      <td>2011</td>\n",
       "      <td>46000</td>\n",
       "      <td>Petrol</td>\n",
       "      <td>Manual</td>\n",
       "      <td>First</td>\n",
       "      <td>18.2 kmpl</td>\n",
       "      <td>1199 CC</td>\n",
       "      <td>88.7 bhp</td>\n",
       "      <td>5.0</td>\n",
       "      <td>8.61 Lakh</td>\n",
       "      <td>4.50</td>\n",
       "    </tr>\n",
       "    <tr>\n",
       "      <th>3</th>\n",
       "      <td>Maruti Ertiga VDI</td>\n",
       "      <td>Chennai</td>\n",
       "      <td>2012</td>\n",
       "      <td>87000</td>\n",
       "      <td>Diesel</td>\n",
       "      <td>Manual</td>\n",
       "      <td>First</td>\n",
       "      <td>20.77 kmpl</td>\n",
       "      <td>1248 CC</td>\n",
       "      <td>88.76 bhp</td>\n",
       "      <td>7.0</td>\n",
       "      <td>NaN</td>\n",
       "      <td>6.00</td>\n",
       "    </tr>\n",
       "    <tr>\n",
       "      <th>4</th>\n",
       "      <td>Audi A4 New 2.0 TDI Multitronic</td>\n",
       "      <td>Coimbatore</td>\n",
       "      <td>2013</td>\n",
       "      <td>40670</td>\n",
       "      <td>Diesel</td>\n",
       "      <td>Automatic</td>\n",
       "      <td>Second</td>\n",
       "      <td>15.2 kmpl</td>\n",
       "      <td>1968 CC</td>\n",
       "      <td>140.8 bhp</td>\n",
       "      <td>5.0</td>\n",
       "      <td>NaN</td>\n",
       "      <td>17.74</td>\n",
       "    </tr>\n",
       "  </tbody>\n",
       "</table>\n",
       "</div>"
      ],
      "text/plain": [
       "                               Name    Location  Year  Kilometers_Driven  \\\n",
       "0            Maruti Wagon R LXI CNG      Mumbai  2010              72000   \n",
       "1  Hyundai Creta 1.6 CRDi SX Option        Pune  2015              41000   \n",
       "2                      Honda Jazz V     Chennai  2011              46000   \n",
       "3                 Maruti Ertiga VDI     Chennai  2012              87000   \n",
       "4   Audi A4 New 2.0 TDI Multitronic  Coimbatore  2013              40670   \n",
       "\n",
       "  Fuel_Type Transmission Owner_Type     Mileage   Engine      Power  Seats  \\\n",
       "0       CNG       Manual      First  26.6 km/kg   998 CC  58.16 bhp    5.0   \n",
       "1    Diesel       Manual      First  19.67 kmpl  1582 CC  126.2 bhp    5.0   \n",
       "2    Petrol       Manual      First   18.2 kmpl  1199 CC   88.7 bhp    5.0   \n",
       "3    Diesel       Manual      First  20.77 kmpl  1248 CC  88.76 bhp    7.0   \n",
       "4    Diesel    Automatic     Second   15.2 kmpl  1968 CC  140.8 bhp    5.0   \n",
       "\n",
       "   New_Price  Price  \n",
       "0        NaN   1.75  \n",
       "1        NaN  12.50  \n",
       "2  8.61 Lakh   4.50  \n",
       "3        NaN   6.00  \n",
       "4        NaN  17.74  "
      ]
     },
     "execution_count": 770,
     "metadata": {},
     "output_type": "execute_result"
    }
   ],
   "source": [
    "data.head()"
   ]
  },
  {
   "cell_type": "markdown",
   "metadata": {},
   "source": [
    "## Splitting Data"
   ]
  },
  {
   "cell_type": "code",
   "execution_count": 771,
   "metadata": {},
   "outputs": [],
   "source": [
    "from sklearn.model_selection import train_test_split"
   ]
  },
  {
   "cell_type": "code",
   "execution_count": 772,
   "metadata": {},
   "outputs": [],
   "source": [
    "y = data['Price'].values\n",
    "X = data.drop('Price', axis = 'columns')"
   ]
  },
  {
   "cell_type": "code",
   "execution_count": 773,
   "metadata": {},
   "outputs": [],
   "source": [
    "X_train, X_test, y_train, y_test = train_test_split(X, y , test_size = 0.3, random_state = 3)"
   ]
  },
  {
   "cell_type": "markdown",
   "metadata": {},
   "source": [
    "## Data Formatting Helper Functions"
   ]
  },
  {
   "cell_type": "code",
   "execution_count": 774,
   "metadata": {},
   "outputs": [],
   "source": [
    "def mileage_format(X, mean):\n",
    "    mileage_df = X['Mileage'].str.split(\" \", expand = True)\n",
    "    \n",
    "    #Adding two columns\n",
    "    mileage_df['Mileage_kmpl'] = 0.0\n",
    "    mileage_df['Mileage_km/kg'] = 0.0\n",
    "\n",
    "    #Filling these two columns\n",
    "    mileage_df.loc[mileage_df[1]=='kmpl', 'Mileage_kmpl'] = mileage_df.loc[mileage_df[1] == 'kmpl', 0]\n",
    "    mileage_df.loc[mileage_df[1]=='km/kg', 'Mileage_km/kg'] = mileage_df.loc[mileage_df[1] == 'km/kg', 0]\n",
    "    \n",
    "    #merging these two\n",
    "    mileage_df.drop([0,1], axis = 'columns', inplace = True)\n",
    "    X_new = pd.concat([X, mileage_df], axis = 'columns')\n",
    "    \n",
    "    #Deleting extra columns\n",
    "    X_new.drop('Mileage', axis = 'columns', inplace = True)\n",
    "    \n",
    "    #Converting to float\n",
    "    X_new[['Mileage_kmpl', 'Mileage_km/kg']] = X_new[['Mileage_kmpl', 'Mileage_km/kg']].astype(float)\n",
    "    \n",
    "    #Missing value to average\n",
    "    X_new.loc[X_new['Mileage_kmpl'] == 0.0, 'Mileage_kmpl'] = mean\n",
    "    \n",
    "    return X_new"
   ]
  },
  {
   "cell_type": "code",
   "execution_count": 775,
   "metadata": {},
   "outputs": [],
   "source": [
    "def engine_transform(X, mean):\n",
    "    #Splitting into float values\n",
    "    engine_df = X['Engine'].str.split(\" CC\", expand = True)\n",
    "    \n",
    "    #Convert to float\n",
    "    engine_df[0] = engine_df[0].astype(float)\n",
    "    \n",
    "    #Log transform feature\n",
    "    engine_df['Engine_log'] = np.log(1 + engine_df[0].values)\n",
    "    \n",
    "    #Inputting missing feature\n",
    "    engine_df['Engine_log'].fillna(mean, inplace = True)\n",
    "    \n",
    "    #Merging columns\n",
    "    X = pd.concat([X, engine_df], axis = 'columns')\n",
    "    \n",
    "    #Deleting useless features\n",
    "    X.drop([0,1, 'Engine'], axis = 'columns', inplace = True)\n",
    "    \n",
    "    return X"
   ]
  },
  {
   "cell_type": "code",
   "execution_count": 776,
   "metadata": {},
   "outputs": [],
   "source": [
    "def power_transform(X, mean):\n",
    "    \n",
    "    #Splitting\n",
    "    power_df = X['Power'].str.split(\" bhp\", expand = True)[0]\n",
    "    \n",
    "    #Some values contains the value null: Making it NaN\n",
    "    power_df[power_df == 'null'] = np.nan\n",
    "    \n",
    "    #Converting to float\n",
    "    power_df = power_df.astype(float)\n",
    "    \n",
    "    #Log transformation\n",
    "    power_log = np.log(1 + power_df)\n",
    "    \n",
    "    #Missing value\n",
    "    power_log.fillna(mean, inplace = True)\n",
    "    \n",
    "    #Merging\n",
    "    X['Power_log'] = power_log\n",
    "    \n",
    "    #Deleteing\n",
    "    X.drop('Power', axis='columns', inplace = True)\n",
    "    \n",
    "    return X"
   ]
  },
  {
   "cell_type": "code",
   "execution_count": 777,
   "metadata": {},
   "outputs": [],
   "source": [
    "def seat_transform(X, mode):\n",
    "    X['Seats'].fillna(mode, inplace = True)\n",
    "    return X"
   ]
  },
  {
   "cell_type": "code",
   "execution_count": 778,
   "metadata": {},
   "outputs": [],
   "source": [
    "def newPrice_transform(X):\n",
    "    X.drop('New_Price', axis = 'columns', inplace = True)\n",
    "    return X"
   ]
  },
  {
   "cell_type": "code",
   "execution_count": 779,
   "metadata": {},
   "outputs": [],
   "source": [
    "def format_names(X):\n",
    "    first_name = X['Name'].str.split().str.get(0)\n",
    "    \n",
    "    X['Name'] = first_name\n",
    "    \n",
    "    #X.drop('Name', axis='columns', inplace = True)\n",
    "    \n",
    "    return X"
   ]
  },
  {
   "cell_type": "code",
   "execution_count": 780,
   "metadata": {},
   "outputs": [],
   "source": [
    "def owner_transform(X):\n",
    "    \n",
    "    mapp = {'First':1,\n",
    "           'Second':2,\n",
    "           'Third':3,\n",
    "           'Fourth & Above':4}\n",
    "    \n",
    "    X['Owner_Type'] = X['Owner_Type'].map(mapp)\n",
    "    \n",
    "    return X"
   ]
  },
  {
   "cell_type": "code",
   "execution_count": 781,
   "metadata": {},
   "outputs": [],
   "source": [
    "def kilometers_transform(X):\n",
    "    X['Kilometers_log'] = np.log(X['Kilometers_Driven'])\n",
    "    X.drop('Kilometers_Driven', axis = 'columns', inplace = True)\n",
    "    \n",
    "    return X"
   ]
  },
  {
   "cell_type": "code",
   "execution_count": 782,
   "metadata": {},
   "outputs": [],
   "source": [
    "class data_format(object):\n",
    "    \n",
    "    def fit(self, X):\n",
    "        #MILEAGE\n",
    "        mileage_df = X['Mileage'].str.split(\" \", expand = True)\n",
    "\n",
    "        #Adding two columns\n",
    "        mileage_df['Mileage_kmpl'] = 0.0\n",
    "\n",
    "        #Filling these two columns\n",
    "        mileage_df.loc[mileage_df[1]=='kmpl', 'Mileage_kmpl'] = mileage_df.loc[mileage_df[1] == 'kmpl', 0]\n",
    "\n",
    "        #Converting to float\n",
    "        mileage_df['Mileage_kmpl'] = mileage_df['Mileage_kmpl'].astype(float)\n",
    "        \n",
    "        self.mileage_mean = mileage_df['Mileage_kmpl'].mean()\n",
    "        \n",
    "        \n",
    "        #ENGINE\n",
    "        #Splitting into float values\n",
    "        engine_df = X['Engine'].str.split(\" CC\", expand = True)\n",
    "\n",
    "        #Convert to float\n",
    "        engine_df[0] = engine_df[0].astype(float)\n",
    "\n",
    "        #Log transform feature\n",
    "        engine_df['Engine_log'] = np.log(1 + engine_df[0].values)\n",
    "        \n",
    "        self.engine_mean = engine_df['Engine_log'].mean()\n",
    "        \n",
    "        #POWER\n",
    "        #Splitting\n",
    "        power_df = X['Power'].str.split(\" bhp\", expand = True)[0]\n",
    "\n",
    "        #Some values contains the value null: Making it NaN\n",
    "        power_df[power_df == 'null'] = np.nan\n",
    "\n",
    "        #Converting to float\n",
    "        power_df = power_df.astype(float)\n",
    "\n",
    "        #Log transformation\n",
    "        power_log = np.log(1 + power_df)\n",
    "        \n",
    "        self.power_mean = power_log.mean()\n",
    "        \n",
    "        self.moce = 5.0\n",
    "        \n",
    "        \n",
    "        \n",
    "    \n",
    "    def transform(self,X):\n",
    "        X = mileage_format(X, self.mileage_mean)\n",
    "        X = engine_transform(X, self.engine_mean)\n",
    "        X = power_transform(X, self.power_mean)\n",
    "        X = seat_transform(X, 5.0)\n",
    "        X = newPrice_transform(X)\n",
    "        X = format_names(X)\n",
    "        X = owner_transform(X)\n",
    "        X = kilometers_transform(X)\n",
    "        \n",
    "        return X"
   ]
  },
  {
   "cell_type": "code",
   "execution_count": 783,
   "metadata": {},
   "outputs": [],
   "source": [
    "frmt = data_format()"
   ]
  },
  {
   "cell_type": "code",
   "execution_count": 784,
   "metadata": {},
   "outputs": [],
   "source": [
    "frmt.fit(X_train)"
   ]
  },
  {
   "cell_type": "code",
   "execution_count": 785,
   "metadata": {},
   "outputs": [],
   "source": [
    "X_train = frmt.transform(X_train)"
   ]
  },
  {
   "cell_type": "code",
   "execution_count": 786,
   "metadata": {},
   "outputs": [
    {
     "data": {
      "text/html": [
       "<div>\n",
       "<style scoped>\n",
       "    .dataframe tbody tr th:only-of-type {\n",
       "        vertical-align: middle;\n",
       "    }\n",
       "\n",
       "    .dataframe tbody tr th {\n",
       "        vertical-align: top;\n",
       "    }\n",
       "\n",
       "    .dataframe thead th {\n",
       "        text-align: right;\n",
       "    }\n",
       "</style>\n",
       "<table border=\"1\" class=\"dataframe\">\n",
       "  <thead>\n",
       "    <tr style=\"text-align: right;\">\n",
       "      <th></th>\n",
       "      <th>Name</th>\n",
       "      <th>Location</th>\n",
       "      <th>Year</th>\n",
       "      <th>Fuel_Type</th>\n",
       "      <th>Transmission</th>\n",
       "      <th>Owner_Type</th>\n",
       "      <th>Seats</th>\n",
       "      <th>Mileage_kmpl</th>\n",
       "      <th>Mileage_km/kg</th>\n",
       "      <th>Engine_log</th>\n",
       "      <th>Power_log</th>\n",
       "      <th>Kilometers_log</th>\n",
       "    </tr>\n",
       "  </thead>\n",
       "  <tbody>\n",
       "    <tr>\n",
       "      <th>2957</th>\n",
       "      <td>Nissan</td>\n",
       "      <td>Ahmedabad</td>\n",
       "      <td>2016</td>\n",
       "      <td>Petrol</td>\n",
       "      <td>Manual</td>\n",
       "      <td>1</td>\n",
       "      <td>5.0</td>\n",
       "      <td>19.69</td>\n",
       "      <td>0.0</td>\n",
       "      <td>7.089243</td>\n",
       "      <td>4.220096</td>\n",
       "      <td>10.621327</td>\n",
       "    </tr>\n",
       "    <tr>\n",
       "      <th>1602</th>\n",
       "      <td>Maruti</td>\n",
       "      <td>Hyderabad</td>\n",
       "      <td>2011</td>\n",
       "      <td>Petrol</td>\n",
       "      <td>Manual</td>\n",
       "      <td>1</td>\n",
       "      <td>4.0</td>\n",
       "      <td>16.10</td>\n",
       "      <td>0.0</td>\n",
       "      <td>6.680855</td>\n",
       "      <td>3.637586</td>\n",
       "      <td>11.338203</td>\n",
       "    </tr>\n",
       "    <tr>\n",
       "      <th>5018</th>\n",
       "      <td>Honda</td>\n",
       "      <td>Hyderabad</td>\n",
       "      <td>2017</td>\n",
       "      <td>Diesel</td>\n",
       "      <td>Manual</td>\n",
       "      <td>1</td>\n",
       "      <td>5.0</td>\n",
       "      <td>27.30</td>\n",
       "      <td>0.0</td>\n",
       "      <td>7.312553</td>\n",
       "      <td>4.601162</td>\n",
       "      <td>9.749812</td>\n",
       "    </tr>\n",
       "    <tr>\n",
       "      <th>2181</th>\n",
       "      <td>Maruti</td>\n",
       "      <td>Mumbai</td>\n",
       "      <td>2008</td>\n",
       "      <td>Petrol</td>\n",
       "      <td>Manual</td>\n",
       "      <td>1</td>\n",
       "      <td>5.0</td>\n",
       "      <td>19.70</td>\n",
       "      <td>0.0</td>\n",
       "      <td>6.680855</td>\n",
       "      <td>3.856510</td>\n",
       "      <td>10.177286</td>\n",
       "    </tr>\n",
       "    <tr>\n",
       "      <th>2919</th>\n",
       "      <td>Volkswagen</td>\n",
       "      <td>Jaipur</td>\n",
       "      <td>2013</td>\n",
       "      <td>Diesel</td>\n",
       "      <td>Manual</td>\n",
       "      <td>1</td>\n",
       "      <td>5.0</td>\n",
       "      <td>20.54</td>\n",
       "      <td>0.0</td>\n",
       "      <td>7.377134</td>\n",
       "      <td>4.650144</td>\n",
       "      <td>11.877569</td>\n",
       "    </tr>\n",
       "  </tbody>\n",
       "</table>\n",
       "</div>"
      ],
      "text/plain": [
       "            Name   Location  Year Fuel_Type Transmission  Owner_Type  Seats  \\\n",
       "2957      Nissan  Ahmedabad  2016    Petrol       Manual           1    5.0   \n",
       "1602      Maruti  Hyderabad  2011    Petrol       Manual           1    4.0   \n",
       "5018       Honda  Hyderabad  2017    Diesel       Manual           1    5.0   \n",
       "2181      Maruti     Mumbai  2008    Petrol       Manual           1    5.0   \n",
       "2919  Volkswagen     Jaipur  2013    Diesel       Manual           1    5.0   \n",
       "\n",
       "      Mileage_kmpl  Mileage_km/kg  Engine_log  Power_log  Kilometers_log  \n",
       "2957         19.69            0.0    7.089243   4.220096       10.621327  \n",
       "1602         16.10            0.0    6.680855   3.637586       11.338203  \n",
       "5018         27.30            0.0    7.312553   4.601162        9.749812  \n",
       "2181         19.70            0.0    6.680855   3.856510       10.177286  \n",
       "2919         20.54            0.0    7.377134   4.650144       11.877569  "
      ]
     },
     "execution_count": 786,
     "metadata": {},
     "output_type": "execute_result"
    }
   ],
   "source": [
    "X_train.head()"
   ]
  },
  {
   "cell_type": "code",
   "execution_count": 787,
   "metadata": {},
   "outputs": [],
   "source": [
    "X_test = frmt.transform(X_test)"
   ]
  },
  {
   "cell_type": "code",
   "execution_count": 788,
   "metadata": {},
   "outputs": [
    {
     "data": {
      "text/html": [
       "<div>\n",
       "<style scoped>\n",
       "    .dataframe tbody tr th:only-of-type {\n",
       "        vertical-align: middle;\n",
       "    }\n",
       "\n",
       "    .dataframe tbody tr th {\n",
       "        vertical-align: top;\n",
       "    }\n",
       "\n",
       "    .dataframe thead th {\n",
       "        text-align: right;\n",
       "    }\n",
       "</style>\n",
       "<table border=\"1\" class=\"dataframe\">\n",
       "  <thead>\n",
       "    <tr style=\"text-align: right;\">\n",
       "      <th></th>\n",
       "      <th>Name</th>\n",
       "      <th>Location</th>\n",
       "      <th>Year</th>\n",
       "      <th>Fuel_Type</th>\n",
       "      <th>Transmission</th>\n",
       "      <th>Owner_Type</th>\n",
       "      <th>Seats</th>\n",
       "      <th>Mileage_kmpl</th>\n",
       "      <th>Mileage_km/kg</th>\n",
       "      <th>Engine_log</th>\n",
       "      <th>Power_log</th>\n",
       "      <th>Kilometers_log</th>\n",
       "    </tr>\n",
       "  </thead>\n",
       "  <tbody>\n",
       "    <tr>\n",
       "      <th>1741</th>\n",
       "      <td>BMW</td>\n",
       "      <td>Hyderabad</td>\n",
       "      <td>2013</td>\n",
       "      <td>Diesel</td>\n",
       "      <td>Automatic</td>\n",
       "      <td>1</td>\n",
       "      <td>4.0</td>\n",
       "      <td>11.20</td>\n",
       "      <td>0.0</td>\n",
       "      <td>8.004366</td>\n",
       "      <td>5.726848</td>\n",
       "      <td>10.968198</td>\n",
       "    </tr>\n",
       "    <tr>\n",
       "      <th>2667</th>\n",
       "      <td>Tata</td>\n",
       "      <td>Mumbai</td>\n",
       "      <td>2017</td>\n",
       "      <td>Petrol</td>\n",
       "      <td>Manual</td>\n",
       "      <td>1</td>\n",
       "      <td>5.0</td>\n",
       "      <td>17.57</td>\n",
       "      <td>0.0</td>\n",
       "      <td>7.085064</td>\n",
       "      <td>4.496471</td>\n",
       "      <td>11.512925</td>\n",
       "    </tr>\n",
       "    <tr>\n",
       "      <th>3063</th>\n",
       "      <td>Maruti</td>\n",
       "      <td>Jaipur</td>\n",
       "      <td>2016</td>\n",
       "      <td>Diesel</td>\n",
       "      <td>Manual</td>\n",
       "      <td>1</td>\n",
       "      <td>5.0</td>\n",
       "      <td>26.21</td>\n",
       "      <td>0.0</td>\n",
       "      <td>7.130099</td>\n",
       "      <td>4.494239</td>\n",
       "      <td>11.339583</td>\n",
       "    </tr>\n",
       "    <tr>\n",
       "      <th>610</th>\n",
       "      <td>Hyundai</td>\n",
       "      <td>Coimbatore</td>\n",
       "      <td>2017</td>\n",
       "      <td>Diesel</td>\n",
       "      <td>Manual</td>\n",
       "      <td>1</td>\n",
       "      <td>5.0</td>\n",
       "      <td>23.90</td>\n",
       "      <td>0.0</td>\n",
       "      <td>7.367077</td>\n",
       "      <td>4.845761</td>\n",
       "      <td>10.546814</td>\n",
       "    </tr>\n",
       "    <tr>\n",
       "      <th>3510</th>\n",
       "      <td>Hyundai</td>\n",
       "      <td>Mumbai</td>\n",
       "      <td>2016</td>\n",
       "      <td>Petrol</td>\n",
       "      <td>Automatic</td>\n",
       "      <td>1</td>\n",
       "      <td>5.0</td>\n",
       "      <td>13.00</td>\n",
       "      <td>0.0</td>\n",
       "      <td>7.372746</td>\n",
       "      <td>4.806477</td>\n",
       "      <td>10.203592</td>\n",
       "    </tr>\n",
       "  </tbody>\n",
       "</table>\n",
       "</div>"
      ],
      "text/plain": [
       "         Name    Location  Year Fuel_Type Transmission  Owner_Type  Seats  \\\n",
       "1741      BMW   Hyderabad  2013    Diesel    Automatic           1    4.0   \n",
       "2667     Tata      Mumbai  2017    Petrol       Manual           1    5.0   \n",
       "3063   Maruti      Jaipur  2016    Diesel       Manual           1    5.0   \n",
       "610   Hyundai  Coimbatore  2017    Diesel       Manual           1    5.0   \n",
       "3510  Hyundai      Mumbai  2016    Petrol    Automatic           1    5.0   \n",
       "\n",
       "      Mileage_kmpl  Mileage_km/kg  Engine_log  Power_log  Kilometers_log  \n",
       "1741         11.20            0.0    8.004366   5.726848       10.968198  \n",
       "2667         17.57            0.0    7.085064   4.496471       11.512925  \n",
       "3063         26.21            0.0    7.130099   4.494239       11.339583  \n",
       "610          23.90            0.0    7.367077   4.845761       10.546814  \n",
       "3510         13.00            0.0    7.372746   4.806477       10.203592  "
      ]
     },
     "execution_count": 788,
     "metadata": {},
     "output_type": "execute_result"
    }
   ],
   "source": [
    "X_test.head()"
   ]
  },
  {
   "cell_type": "code",
   "execution_count": 789,
   "metadata": {},
   "outputs": [
    {
     "data": {
      "text/plain": [
       "Name              False\n",
       "Location          False\n",
       "Year              False\n",
       "Fuel_Type         False\n",
       "Transmission      False\n",
       "Owner_Type        False\n",
       "Seats             False\n",
       "Mileage_kmpl      False\n",
       "Mileage_km/kg     False\n",
       "Engine_log        False\n",
       "Power_log         False\n",
       "Kilometers_log    False\n",
       "dtype: bool"
      ]
     },
     "execution_count": 789,
     "metadata": {},
     "output_type": "execute_result"
    }
   ],
   "source": [
    "X_test.isnull().any()"
   ]
  },
  {
   "cell_type": "markdown",
   "metadata": {},
   "source": [
    "**Works well mostly**"
   ]
  },
  {
   "cell_type": "markdown",
   "metadata": {},
   "source": [
    "## Rescaling"
   ]
  },
  {
   "cell_type": "markdown",
   "metadata": {},
   "source": [
    "- Year: MinMax\n",
    "- Owner_Type : MinMax\n",
    "- Seats: MinMax\n",
    "- Mileage_kmpl: Standard\n",
    "- Mileage_km/kg : Standard\n",
    "- Engine_log: Standard\n",
    "- Power_log : Standard\n",
    "- Kilometers_log: Standard"
   ]
  },
  {
   "cell_type": "code",
   "execution_count": 790,
   "metadata": {},
   "outputs": [],
   "source": [
    "##Rescaling\n",
    "from sklearn.preprocessing import MinMaxScaler\n",
    "from sklearn.preprocessing import StandardScaler"
   ]
  },
  {
   "cell_type": "code",
   "execution_count": 791,
   "metadata": {},
   "outputs": [],
   "source": [
    "mmScaler = MinMaxScaler()"
   ]
  },
  {
   "cell_type": "raw",
   "metadata": {},
   "source": [
    "ssScaler = StandardScaler()"
   ]
  },
  {
   "cell_type": "raw",
   "metadata": {},
   "source": [
    "X_train[['Year', 'Owner_Type', 'Seats']] = mmScaler.fit_transform(X_train[['Year', 'Owner_Type', 'Seats']])"
   ]
  },
  {
   "cell_type": "raw",
   "metadata": {},
   "source": [
    "X_test[['Year', 'Owner_Type', 'Seats']] = mmScaler.transform(X_test[['Year', 'Owner_Type', 'Seats']])"
   ]
  },
  {
   "cell_type": "raw",
   "metadata": {},
   "source": [
    "ssfeatures = ['Mileage_kmpl', 'Mileage_km/kg', 'Engine_log', 'Power_log', 'Kilometers_log']\n",
    "X_train[ssfeatures] = ssScaler.fit_transform(X_train[ssfeatures])"
   ]
  },
  {
   "cell_type": "raw",
   "metadata": {},
   "source": [
    "X_test[ssfeatures] = ssScaler.transform(X_test[ssfeatures])"
   ]
  },
  {
   "cell_type": "raw",
   "metadata": {},
   "source": [
    "numerical_features = ['Year', 'Owner_Type', 'Seats', 'Mileage_kmpl', 'Mileage_km/kg', 'Engine_log', 'Power_log', 'Kilometers_log']"
   ]
  },
  {
   "cell_type": "raw",
   "metadata": {},
   "source": [
    "X_train[numerical_features] = mmScaler.fit_transform(X_train[numerical_features])"
   ]
  },
  {
   "cell_type": "raw",
   "metadata": {},
   "source": [
    "X_test[numerical_features] = mmScaler.transform(X_test[numerical_features])"
   ]
  },
  {
   "cell_type": "code",
   "execution_count": 792,
   "metadata": {},
   "outputs": [
    {
     "data": {
      "text/html": [
       "<div>\n",
       "<style scoped>\n",
       "    .dataframe tbody tr th:only-of-type {\n",
       "        vertical-align: middle;\n",
       "    }\n",
       "\n",
       "    .dataframe tbody tr th {\n",
       "        vertical-align: top;\n",
       "    }\n",
       "\n",
       "    .dataframe thead th {\n",
       "        text-align: right;\n",
       "    }\n",
       "</style>\n",
       "<table border=\"1\" class=\"dataframe\">\n",
       "  <thead>\n",
       "    <tr style=\"text-align: right;\">\n",
       "      <th></th>\n",
       "      <th>Name</th>\n",
       "      <th>Location</th>\n",
       "      <th>Year</th>\n",
       "      <th>Fuel_Type</th>\n",
       "      <th>Transmission</th>\n",
       "      <th>Owner_Type</th>\n",
       "      <th>Seats</th>\n",
       "      <th>Mileage_kmpl</th>\n",
       "      <th>Mileage_km/kg</th>\n",
       "      <th>Engine_log</th>\n",
       "      <th>Power_log</th>\n",
       "      <th>Kilometers_log</th>\n",
       "    </tr>\n",
       "  </thead>\n",
       "  <tbody>\n",
       "    <tr>\n",
       "      <th>2957</th>\n",
       "      <td>Nissan</td>\n",
       "      <td>Ahmedabad</td>\n",
       "      <td>2016</td>\n",
       "      <td>Petrol</td>\n",
       "      <td>Manual</td>\n",
       "      <td>1</td>\n",
       "      <td>5.0</td>\n",
       "      <td>19.69</td>\n",
       "      <td>0.0</td>\n",
       "      <td>7.089243</td>\n",
       "      <td>4.220096</td>\n",
       "      <td>10.621327</td>\n",
       "    </tr>\n",
       "    <tr>\n",
       "      <th>1602</th>\n",
       "      <td>Maruti</td>\n",
       "      <td>Hyderabad</td>\n",
       "      <td>2011</td>\n",
       "      <td>Petrol</td>\n",
       "      <td>Manual</td>\n",
       "      <td>1</td>\n",
       "      <td>4.0</td>\n",
       "      <td>16.10</td>\n",
       "      <td>0.0</td>\n",
       "      <td>6.680855</td>\n",
       "      <td>3.637586</td>\n",
       "      <td>11.338203</td>\n",
       "    </tr>\n",
       "    <tr>\n",
       "      <th>5018</th>\n",
       "      <td>Honda</td>\n",
       "      <td>Hyderabad</td>\n",
       "      <td>2017</td>\n",
       "      <td>Diesel</td>\n",
       "      <td>Manual</td>\n",
       "      <td>1</td>\n",
       "      <td>5.0</td>\n",
       "      <td>27.30</td>\n",
       "      <td>0.0</td>\n",
       "      <td>7.312553</td>\n",
       "      <td>4.601162</td>\n",
       "      <td>9.749812</td>\n",
       "    </tr>\n",
       "    <tr>\n",
       "      <th>2181</th>\n",
       "      <td>Maruti</td>\n",
       "      <td>Mumbai</td>\n",
       "      <td>2008</td>\n",
       "      <td>Petrol</td>\n",
       "      <td>Manual</td>\n",
       "      <td>1</td>\n",
       "      <td>5.0</td>\n",
       "      <td>19.70</td>\n",
       "      <td>0.0</td>\n",
       "      <td>6.680855</td>\n",
       "      <td>3.856510</td>\n",
       "      <td>10.177286</td>\n",
       "    </tr>\n",
       "    <tr>\n",
       "      <th>2919</th>\n",
       "      <td>Volkswagen</td>\n",
       "      <td>Jaipur</td>\n",
       "      <td>2013</td>\n",
       "      <td>Diesel</td>\n",
       "      <td>Manual</td>\n",
       "      <td>1</td>\n",
       "      <td>5.0</td>\n",
       "      <td>20.54</td>\n",
       "      <td>0.0</td>\n",
       "      <td>7.377134</td>\n",
       "      <td>4.650144</td>\n",
       "      <td>11.877569</td>\n",
       "    </tr>\n",
       "  </tbody>\n",
       "</table>\n",
       "</div>"
      ],
      "text/plain": [
       "            Name   Location  Year Fuel_Type Transmission  Owner_Type  Seats  \\\n",
       "2957      Nissan  Ahmedabad  2016    Petrol       Manual           1    5.0   \n",
       "1602      Maruti  Hyderabad  2011    Petrol       Manual           1    4.0   \n",
       "5018       Honda  Hyderabad  2017    Diesel       Manual           1    5.0   \n",
       "2181      Maruti     Mumbai  2008    Petrol       Manual           1    5.0   \n",
       "2919  Volkswagen     Jaipur  2013    Diesel       Manual           1    5.0   \n",
       "\n",
       "      Mileage_kmpl  Mileage_km/kg  Engine_log  Power_log  Kilometers_log  \n",
       "2957         19.69            0.0    7.089243   4.220096       10.621327  \n",
       "1602         16.10            0.0    6.680855   3.637586       11.338203  \n",
       "5018         27.30            0.0    7.312553   4.601162        9.749812  \n",
       "2181         19.70            0.0    6.680855   3.856510       10.177286  \n",
       "2919         20.54            0.0    7.377134   4.650144       11.877569  "
      ]
     },
     "execution_count": 792,
     "metadata": {},
     "output_type": "execute_result"
    }
   ],
   "source": [
    "X_train.head()"
   ]
  },
  {
   "cell_type": "code",
   "execution_count": 793,
   "metadata": {
    "scrolled": false
   },
   "outputs": [
    {
     "data": {
      "text/html": [
       "<div>\n",
       "<style scoped>\n",
       "    .dataframe tbody tr th:only-of-type {\n",
       "        vertical-align: middle;\n",
       "    }\n",
       "\n",
       "    .dataframe tbody tr th {\n",
       "        vertical-align: top;\n",
       "    }\n",
       "\n",
       "    .dataframe thead th {\n",
       "        text-align: right;\n",
       "    }\n",
       "</style>\n",
       "<table border=\"1\" class=\"dataframe\">\n",
       "  <thead>\n",
       "    <tr style=\"text-align: right;\">\n",
       "      <th></th>\n",
       "      <th>Name</th>\n",
       "      <th>Location</th>\n",
       "      <th>Year</th>\n",
       "      <th>Fuel_Type</th>\n",
       "      <th>Transmission</th>\n",
       "      <th>Owner_Type</th>\n",
       "      <th>Seats</th>\n",
       "      <th>Mileage_kmpl</th>\n",
       "      <th>Mileage_km/kg</th>\n",
       "      <th>Engine_log</th>\n",
       "      <th>Power_log</th>\n",
       "      <th>Kilometers_log</th>\n",
       "    </tr>\n",
       "  </thead>\n",
       "  <tbody>\n",
       "    <tr>\n",
       "      <th>1741</th>\n",
       "      <td>BMW</td>\n",
       "      <td>Hyderabad</td>\n",
       "      <td>2013</td>\n",
       "      <td>Diesel</td>\n",
       "      <td>Automatic</td>\n",
       "      <td>1</td>\n",
       "      <td>4.0</td>\n",
       "      <td>11.20</td>\n",
       "      <td>0.0</td>\n",
       "      <td>8.004366</td>\n",
       "      <td>5.726848</td>\n",
       "      <td>10.968198</td>\n",
       "    </tr>\n",
       "    <tr>\n",
       "      <th>2667</th>\n",
       "      <td>Tata</td>\n",
       "      <td>Mumbai</td>\n",
       "      <td>2017</td>\n",
       "      <td>Petrol</td>\n",
       "      <td>Manual</td>\n",
       "      <td>1</td>\n",
       "      <td>5.0</td>\n",
       "      <td>17.57</td>\n",
       "      <td>0.0</td>\n",
       "      <td>7.085064</td>\n",
       "      <td>4.496471</td>\n",
       "      <td>11.512925</td>\n",
       "    </tr>\n",
       "    <tr>\n",
       "      <th>3063</th>\n",
       "      <td>Maruti</td>\n",
       "      <td>Jaipur</td>\n",
       "      <td>2016</td>\n",
       "      <td>Diesel</td>\n",
       "      <td>Manual</td>\n",
       "      <td>1</td>\n",
       "      <td>5.0</td>\n",
       "      <td>26.21</td>\n",
       "      <td>0.0</td>\n",
       "      <td>7.130099</td>\n",
       "      <td>4.494239</td>\n",
       "      <td>11.339583</td>\n",
       "    </tr>\n",
       "    <tr>\n",
       "      <th>610</th>\n",
       "      <td>Hyundai</td>\n",
       "      <td>Coimbatore</td>\n",
       "      <td>2017</td>\n",
       "      <td>Diesel</td>\n",
       "      <td>Manual</td>\n",
       "      <td>1</td>\n",
       "      <td>5.0</td>\n",
       "      <td>23.90</td>\n",
       "      <td>0.0</td>\n",
       "      <td>7.367077</td>\n",
       "      <td>4.845761</td>\n",
       "      <td>10.546814</td>\n",
       "    </tr>\n",
       "    <tr>\n",
       "      <th>3510</th>\n",
       "      <td>Hyundai</td>\n",
       "      <td>Mumbai</td>\n",
       "      <td>2016</td>\n",
       "      <td>Petrol</td>\n",
       "      <td>Automatic</td>\n",
       "      <td>1</td>\n",
       "      <td>5.0</td>\n",
       "      <td>13.00</td>\n",
       "      <td>0.0</td>\n",
       "      <td>7.372746</td>\n",
       "      <td>4.806477</td>\n",
       "      <td>10.203592</td>\n",
       "    </tr>\n",
       "  </tbody>\n",
       "</table>\n",
       "</div>"
      ],
      "text/plain": [
       "         Name    Location  Year Fuel_Type Transmission  Owner_Type  Seats  \\\n",
       "1741      BMW   Hyderabad  2013    Diesel    Automatic           1    4.0   \n",
       "2667     Tata      Mumbai  2017    Petrol       Manual           1    5.0   \n",
       "3063   Maruti      Jaipur  2016    Diesel       Manual           1    5.0   \n",
       "610   Hyundai  Coimbatore  2017    Diesel       Manual           1    5.0   \n",
       "3510  Hyundai      Mumbai  2016    Petrol    Automatic           1    5.0   \n",
       "\n",
       "      Mileage_kmpl  Mileage_km/kg  Engine_log  Power_log  Kilometers_log  \n",
       "1741         11.20            0.0    8.004366   5.726848       10.968198  \n",
       "2667         17.57            0.0    7.085064   4.496471       11.512925  \n",
       "3063         26.21            0.0    7.130099   4.494239       11.339583  \n",
       "610          23.90            0.0    7.367077   4.845761       10.546814  \n",
       "3510         13.00            0.0    7.372746   4.806477       10.203592  "
      ]
     },
     "execution_count": 793,
     "metadata": {},
     "output_type": "execute_result"
    }
   ],
   "source": [
    "X_test.head()"
   ]
  },
  {
   "cell_type": "markdown",
   "metadata": {},
   "source": [
    "## Some Visualizing"
   ]
  },
  {
   "cell_type": "code",
   "execution_count": 794,
   "metadata": {
    "scrolled": false
   },
   "outputs": [
    {
     "data": {
      "text/plain": [
       "<matplotlib.axes._subplots.AxesSubplot at 0x24bb2e54390>"
      ]
     },
     "execution_count": 794,
     "metadata": {},
     "output_type": "execute_result"
    },
    {
     "data": {
      "image/png": "[encoded data removed]",
      "text/plain": [
       "<Figure size 432x288 with 1 Axes>"
      ]
     },
     "metadata": {
      "needs_background": "light"
     },
     "output_type": "display_data"
    }
   ],
   "source": [
    "X_train['Year'].hist()"
   ]
  },
  {
   "cell_type": "markdown",
   "metadata": {},
   "source": [
    "# X_train['Owner_Type'].hist()"
   ]
  },
  {
   "cell_type": "code",
   "execution_count": 795,
   "metadata": {},
   "outputs": [
    {
     "data": {
      "text/plain": [
       "<matplotlib.axes._subplots.AxesSubplot at 0x24bb2e6d2b0>"
      ]
     },
     "execution_count": 795,
     "metadata": {},
     "output_type": "execute_result"
    },
    {
     "data": {
      "image/png": "[encoded data removed]",
      "text/plain": [
       "<Figure size 432x288 with 1 Axes>"
      ]
     },
     "metadata": {
      "needs_background": "light"
     },
     "output_type": "display_data"
    }
   ],
   "source": [
    "X_train['Seats'].hist()"
   ]
  },
  {
   "cell_type": "code",
   "execution_count": 796,
   "metadata": {},
   "outputs": [
    {
     "data": {
      "text/plain": [
       "<matplotlib.axes._subplots.AxesSubplot at 0x24bb2e0ea90>"
      ]
     },
     "execution_count": 796,
     "metadata": {},
     "output_type": "execute_result"
    },
    {
     "data": {
      "image/png": "[encoded data removed]",
      "text/plain": [
       "<Figure size 432x288 with 1 Axes>"
      ]
     },
     "metadata": {
      "needs_background": "light"
     },
     "output_type": "display_data"
    }
   ],
   "source": [
    "X_train['Mileage_kmpl'].hist()"
   ]
  },
  {
   "cell_type": "code",
   "execution_count": 797,
   "metadata": {
    "scrolled": true
   },
   "outputs": [
    {
     "data": {
      "text/plain": [
       "<matplotlib.axes._subplots.AxesSubplot at 0x24bb2e84320>"
      ]
     },
     "execution_count": 797,
     "metadata": {},
     "output_type": "execute_result"
    },
    {
     "data": {
      "image/png": "[encoded data removed]",
      "text/plain": [
       "<Figure size 432x288 with 1 Axes>"
      ]
     },
     "metadata": {
      "needs_background": "light"
     },
     "output_type": "display_data"
    }
   ],
   "source": [
    "X_train['Mileage_km/kg'].hist()"
   ]
  },
  {
   "cell_type": "code",
   "execution_count": 798,
   "metadata": {
    "scrolled": true
   },
   "outputs": [
    {
     "data": {
      "text/plain": [
       "<matplotlib.axes._subplots.AxesSubplot at 0x24bb2ede470>"
      ]
     },
     "execution_count": 798,
     "metadata": {},
     "output_type": "execute_result"
    },
    {
     "data": {
      "image/png": "[encoded data removed]",
      "text/plain": [
       "<Figure size 432x288 with 1 Axes>"
      ]
     },
     "metadata": {
      "needs_background": "light"
     },
     "output_type": "display_data"
    }
   ],
   "source": [
    "X_train['Engine_log'].hist()"
   ]
  },
  {
   "cell_type": "code",
   "execution_count": 799,
   "metadata": {
    "scrolled": true
   },
   "outputs": [
    {
     "data": {
      "text/plain": [
       "<matplotlib.axes._subplots.AxesSubplot at 0x24bb2eb9b70>"
      ]
     },
     "execution_count": 799,
     "metadata": {},
     "output_type": "execute_result"
    },
    {
     "data": {
      "image/png": "[encoded data removed]",
      "text/plain": [
       "<Figure size 432x288 with 1 Axes>"
      ]
     },
     "metadata": {
      "needs_background": "light"
     },
     "output_type": "display_data"
    }
   ],
   "source": [
    "X_train['Power_log'].hist()"
   ]
  },
  {
   "cell_type": "code",
   "execution_count": 800,
   "metadata": {},
   "outputs": [
    {
     "data": {
      "text/plain": [
       "<matplotlib.axes._subplots.AxesSubplot at 0x24bb2ee4208>"
      ]
     },
     "execution_count": 800,
     "metadata": {},
     "output_type": "execute_result"
    },
    {
     "data": {
      "image/png": "[encoded data removed]",
      "text/plain": [
       "<Figure size 432x288 with 1 Axes>"
      ]
     },
     "metadata": {
      "needs_background": "light"
     },
     "output_type": "display_data"
    }
   ],
   "source": [
    "X_train['Kilometers_log'].hist()"
   ]
  },
  {
   "cell_type": "markdown",
   "metadata": {},
   "source": [
    "## One Hot Encoding"
   ]
  },
  {
   "cell_type": "code",
   "execution_count": 801,
   "metadata": {},
   "outputs": [],
   "source": [
    "X = pd.concat([X_train, X_test], axis = 0)"
   ]
  },
  {
   "cell_type": "code",
   "execution_count": 802,
   "metadata": {},
   "outputs": [],
   "source": [
    "categorical_features = ['Name','Location', 'Fuel_Type', 'Transmission']"
   ]
  },
  {
   "cell_type": "code",
   "execution_count": 803,
   "metadata": {
    "scrolled": true
   },
   "outputs": [],
   "source": [
    "X_hot = pd.get_dummies(X, categorical_features)"
   ]
  },
  {
   "cell_type": "code",
   "execution_count": 804,
   "metadata": {},
   "outputs": [
    {
     "data": {
      "text/html": [
       "<div>\n",
       "<style scoped>\n",
       "    .dataframe tbody tr th:only-of-type {\n",
       "        vertical-align: middle;\n",
       "    }\n",
       "\n",
       "    .dataframe tbody tr th {\n",
       "        vertical-align: top;\n",
       "    }\n",
       "\n",
       "    .dataframe thead th {\n",
       "        text-align: right;\n",
       "    }\n",
       "</style>\n",
       "<table border=\"1\" class=\"dataframe\">\n",
       "  <thead>\n",
       "    <tr style=\"text-align: right;\">\n",
       "      <th></th>\n",
       "      <th>Year</th>\n",
       "      <th>Owner_Type</th>\n",
       "      <th>Seats</th>\n",
       "      <th>Mileage_kmpl</th>\n",
       "      <th>Mileage_km/kg</th>\n",
       "      <th>Engine_log</th>\n",
       "      <th>Power_log</th>\n",
       "      <th>Kilometers_log</th>\n",
       "      <th>Name_Ambassador</th>\n",
       "      <th>Name_Audi</th>\n",
       "      <th>...</th>\n",
       "      <th>Location_Kolkata</th>\n",
       "      <th>Location_Mumbai</th>\n",
       "      <th>Location_Pune</th>\n",
       "      <th>Fuel_Type_CNG</th>\n",
       "      <th>Fuel_Type_Diesel</th>\n",
       "      <th>Fuel_Type_Electric</th>\n",
       "      <th>Fuel_Type_LPG</th>\n",
       "      <th>Fuel_Type_Petrol</th>\n",
       "      <th>Transmission_Automatic</th>\n",
       "      <th>Transmission_Manual</th>\n",
       "    </tr>\n",
       "  </thead>\n",
       "  <tbody>\n",
       "    <tr>\n",
       "      <th>2957</th>\n",
       "      <td>2016</td>\n",
       "      <td>1</td>\n",
       "      <td>5.0</td>\n",
       "      <td>19.69</td>\n",
       "      <td>0.0</td>\n",
       "      <td>7.089243</td>\n",
       "      <td>4.220096</td>\n",
       "      <td>10.621327</td>\n",
       "      <td>0</td>\n",
       "      <td>0</td>\n",
       "      <td>...</td>\n",
       "      <td>0</td>\n",
       "      <td>0</td>\n",
       "      <td>0</td>\n",
       "      <td>0</td>\n",
       "      <td>0</td>\n",
       "      <td>0</td>\n",
       "      <td>0</td>\n",
       "      <td>1</td>\n",
       "      <td>0</td>\n",
       "      <td>1</td>\n",
       "    </tr>\n",
       "    <tr>\n",
       "      <th>1602</th>\n",
       "      <td>2011</td>\n",
       "      <td>1</td>\n",
       "      <td>4.0</td>\n",
       "      <td>16.10</td>\n",
       "      <td>0.0</td>\n",
       "      <td>6.680855</td>\n",
       "      <td>3.637586</td>\n",
       "      <td>11.338203</td>\n",
       "      <td>0</td>\n",
       "      <td>0</td>\n",
       "      <td>...</td>\n",
       "      <td>0</td>\n",
       "      <td>0</td>\n",
       "      <td>0</td>\n",
       "      <td>0</td>\n",
       "      <td>0</td>\n",
       "      <td>0</td>\n",
       "      <td>0</td>\n",
       "      <td>1</td>\n",
       "      <td>0</td>\n",
       "      <td>1</td>\n",
       "    </tr>\n",
       "    <tr>\n",
       "      <th>5018</th>\n",
       "      <td>2017</td>\n",
       "      <td>1</td>\n",
       "      <td>5.0</td>\n",
       "      <td>27.30</td>\n",
       "      <td>0.0</td>\n",
       "      <td>7.312553</td>\n",
       "      <td>4.601162</td>\n",
       "      <td>9.749812</td>\n",
       "      <td>0</td>\n",
       "      <td>0</td>\n",
       "      <td>...</td>\n",
       "      <td>0</td>\n",
       "      <td>0</td>\n",
       "      <td>0</td>\n",
       "      <td>0</td>\n",
       "      <td>1</td>\n",
       "      <td>0</td>\n",
       "      <td>0</td>\n",
       "      <td>0</td>\n",
       "      <td>0</td>\n",
       "      <td>1</td>\n",
       "    </tr>\n",
       "    <tr>\n",
       "      <th>2181</th>\n",
       "      <td>2008</td>\n",
       "      <td>1</td>\n",
       "      <td>5.0</td>\n",
       "      <td>19.70</td>\n",
       "      <td>0.0</td>\n",
       "      <td>6.680855</td>\n",
       "      <td>3.856510</td>\n",
       "      <td>10.177286</td>\n",
       "      <td>0</td>\n",
       "      <td>0</td>\n",
       "      <td>...</td>\n",
       "      <td>0</td>\n",
       "      <td>1</td>\n",
       "      <td>0</td>\n",
       "      <td>0</td>\n",
       "      <td>0</td>\n",
       "      <td>0</td>\n",
       "      <td>0</td>\n",
       "      <td>1</td>\n",
       "      <td>0</td>\n",
       "      <td>1</td>\n",
       "    </tr>\n",
       "    <tr>\n",
       "      <th>2919</th>\n",
       "      <td>2013</td>\n",
       "      <td>1</td>\n",
       "      <td>5.0</td>\n",
       "      <td>20.54</td>\n",
       "      <td>0.0</td>\n",
       "      <td>7.377134</td>\n",
       "      <td>4.650144</td>\n",
       "      <td>11.877569</td>\n",
       "      <td>0</td>\n",
       "      <td>0</td>\n",
       "      <td>...</td>\n",
       "      <td>0</td>\n",
       "      <td>0</td>\n",
       "      <td>0</td>\n",
       "      <td>0</td>\n",
       "      <td>1</td>\n",
       "      <td>0</td>\n",
       "      <td>0</td>\n",
       "      <td>0</td>\n",
       "      <td>0</td>\n",
       "      <td>1</td>\n",
       "    </tr>\n",
       "  </tbody>\n",
       "</table>\n",
       "<p>5 rows × 57 columns</p>\n",
       "</div>"
      ],
      "text/plain": [
       "      Year  Owner_Type  Seats  Mileage_kmpl  Mileage_km/kg  Engine_log  \\\n",
       "2957  2016           1    5.0         19.69            0.0    7.089243   \n",
       "1602  2011           1    4.0         16.10            0.0    6.680855   \n",
       "5018  2017           1    5.0         27.30            0.0    7.312553   \n",
       "2181  2008           1    5.0         19.70            0.0    6.680855   \n",
       "2919  2013           1    5.0         20.54            0.0    7.377134   \n",
       "\n",
       "      Power_log  Kilometers_log  Name_Ambassador  Name_Audi  ...  \\\n",
       "2957   4.220096       10.621327                0          0  ...   \n",
       "1602   3.637586       11.338203                0          0  ...   \n",
       "5018   4.601162        9.749812                0          0  ...   \n",
       "2181   3.856510       10.177286                0          0  ...   \n",
       "2919   4.650144       11.877569                0          0  ...   \n",
       "\n",
       "      Location_Kolkata  Location_Mumbai  Location_Pune  Fuel_Type_CNG  \\\n",
       "2957                 0                0              0              0   \n",
       "1602                 0                0              0              0   \n",
       "5018                 0                0              0              0   \n",
       "2181                 0                1              0              0   \n",
       "2919                 0                0              0              0   \n",
       "\n",
       "      Fuel_Type_Diesel  Fuel_Type_Electric  Fuel_Type_LPG  Fuel_Type_Petrol  \\\n",
       "2957                 0                   0              0                 1   \n",
       "1602                 0                   0              0                 1   \n",
       "5018                 1                   0              0                 0   \n",
       "2181                 0                   0              0                 1   \n",
       "2919                 1                   0              0                 0   \n",
       "\n",
       "      Transmission_Automatic  Transmission_Manual  \n",
       "2957                       0                    1  \n",
       "1602                       0                    1  \n",
       "5018                       0                    1  \n",
       "2181                       0                    1  \n",
       "2919                       0                    1  \n",
       "\n",
       "[5 rows x 57 columns]"
      ]
     },
     "execution_count": 804,
     "metadata": {},
     "output_type": "execute_result"
    }
   ],
   "source": [
    "X_hot.head()"
   ]
  },
  {
   "cell_type": "code",
   "execution_count": 805,
   "metadata": {},
   "outputs": [],
   "source": [
    "X_train = X_hot.iloc[X_train.index]"
   ]
  },
  {
   "cell_type": "code",
   "execution_count": 806,
   "metadata": {},
   "outputs": [],
   "source": [
    "X_test = X_hot.iloc[X_test.index]"
   ]
  },
  {
   "cell_type": "code",
   "execution_count": 807,
   "metadata": {},
   "outputs": [
    {
     "data": {
      "text/html": [
       "<div>\n",
       "<style scoped>\n",
       "    .dataframe tbody tr th:only-of-type {\n",
       "        vertical-align: middle;\n",
       "    }\n",
       "\n",
       "    .dataframe tbody tr th {\n",
       "        vertical-align: top;\n",
       "    }\n",
       "\n",
       "    .dataframe thead th {\n",
       "        text-align: right;\n",
       "    }\n",
       "</style>\n",
       "<table border=\"1\" class=\"dataframe\">\n",
       "  <thead>\n",
       "    <tr style=\"text-align: right;\">\n",
       "      <th></th>\n",
       "      <th>Year</th>\n",
       "      <th>Owner_Type</th>\n",
       "      <th>Seats</th>\n",
       "      <th>Mileage_kmpl</th>\n",
       "      <th>Mileage_km/kg</th>\n",
       "      <th>Engine_log</th>\n",
       "      <th>Power_log</th>\n",
       "      <th>Kilometers_log</th>\n",
       "      <th>Name_Ambassador</th>\n",
       "      <th>Name_Audi</th>\n",
       "      <th>...</th>\n",
       "      <th>Location_Kolkata</th>\n",
       "      <th>Location_Mumbai</th>\n",
       "      <th>Location_Pune</th>\n",
       "      <th>Fuel_Type_CNG</th>\n",
       "      <th>Fuel_Type_Diesel</th>\n",
       "      <th>Fuel_Type_Electric</th>\n",
       "      <th>Fuel_Type_LPG</th>\n",
       "      <th>Fuel_Type_Petrol</th>\n",
       "      <th>Transmission_Automatic</th>\n",
       "      <th>Transmission_Manual</th>\n",
       "    </tr>\n",
       "  </thead>\n",
       "  <tbody>\n",
       "    <tr>\n",
       "      <th>2330</th>\n",
       "      <td>2012</td>\n",
       "      <td>1</td>\n",
       "      <td>5.0</td>\n",
       "      <td>16.25</td>\n",
       "      <td>0.0</td>\n",
       "      <td>7.089243</td>\n",
       "      <td>4.330733</td>\n",
       "      <td>10.204111</td>\n",
       "      <td>0</td>\n",
       "      <td>0</td>\n",
       "      <td>...</td>\n",
       "      <td>0</td>\n",
       "      <td>1</td>\n",
       "      <td>0</td>\n",
       "      <td>0</td>\n",
       "      <td>0</td>\n",
       "      <td>0</td>\n",
       "      <td>0</td>\n",
       "      <td>1</td>\n",
       "      <td>0</td>\n",
       "      <td>1</td>\n",
       "    </tr>\n",
       "    <tr>\n",
       "      <th>2870</th>\n",
       "      <td>2014</td>\n",
       "      <td>1</td>\n",
       "      <td>5.0</td>\n",
       "      <td>18.00</td>\n",
       "      <td>0.0</td>\n",
       "      <td>7.089243</td>\n",
       "      <td>4.473922</td>\n",
       "      <td>10.708914</td>\n",
       "      <td>0</td>\n",
       "      <td>0</td>\n",
       "      <td>...</td>\n",
       "      <td>0</td>\n",
       "      <td>0</td>\n",
       "      <td>0</td>\n",
       "      <td>0</td>\n",
       "      <td>0</td>\n",
       "      <td>0</td>\n",
       "      <td>0</td>\n",
       "      <td>1</td>\n",
       "      <td>0</td>\n",
       "      <td>1</td>\n",
       "    </tr>\n",
       "    <tr>\n",
       "      <th>2658</th>\n",
       "      <td>2015</td>\n",
       "      <td>1</td>\n",
       "      <td>5.0</td>\n",
       "      <td>21.66</td>\n",
       "      <td>0.0</td>\n",
       "      <td>7.312553</td>\n",
       "      <td>4.649378</td>\n",
       "      <td>11.099257</td>\n",
       "      <td>0</td>\n",
       "      <td>0</td>\n",
       "      <td>...</td>\n",
       "      <td>0</td>\n",
       "      <td>0</td>\n",
       "      <td>0</td>\n",
       "      <td>0</td>\n",
       "      <td>1</td>\n",
       "      <td>0</td>\n",
       "      <td>0</td>\n",
       "      <td>0</td>\n",
       "      <td>1</td>\n",
       "      <td>0</td>\n",
       "    </tr>\n",
       "    <tr>\n",
       "      <th>792</th>\n",
       "      <td>2008</td>\n",
       "      <td>2</td>\n",
       "      <td>7.0</td>\n",
       "      <td>13.10</td>\n",
       "      <td>0.0</td>\n",
       "      <td>7.824046</td>\n",
       "      <td>4.955827</td>\n",
       "      <td>12.230765</td>\n",
       "      <td>0</td>\n",
       "      <td>0</td>\n",
       "      <td>...</td>\n",
       "      <td>0</td>\n",
       "      <td>0</td>\n",
       "      <td>0</td>\n",
       "      <td>0</td>\n",
       "      <td>1</td>\n",
       "      <td>0</td>\n",
       "      <td>0</td>\n",
       "      <td>0</td>\n",
       "      <td>0</td>\n",
       "      <td>1</td>\n",
       "    </tr>\n",
       "    <tr>\n",
       "      <th>4870</th>\n",
       "      <td>2011</td>\n",
       "      <td>3</td>\n",
       "      <td>7.0</td>\n",
       "      <td>16.00</td>\n",
       "      <td>0.0</td>\n",
       "      <td>7.687080</td>\n",
       "      <td>4.948760</td>\n",
       "      <td>11.759786</td>\n",
       "      <td>0</td>\n",
       "      <td>0</td>\n",
       "      <td>...</td>\n",
       "      <td>0</td>\n",
       "      <td>0</td>\n",
       "      <td>0</td>\n",
       "      <td>0</td>\n",
       "      <td>1</td>\n",
       "      <td>0</td>\n",
       "      <td>0</td>\n",
       "      <td>0</td>\n",
       "      <td>0</td>\n",
       "      <td>1</td>\n",
       "    </tr>\n",
       "  </tbody>\n",
       "</table>\n",
       "<p>5 rows × 57 columns</p>\n",
       "</div>"
      ],
      "text/plain": [
       "      Year  Owner_Type  Seats  Mileage_kmpl  Mileage_km/kg  Engine_log  \\\n",
       "2330  2012           1    5.0         16.25            0.0    7.089243   \n",
       "2870  2014           1    5.0         18.00            0.0    7.089243   \n",
       "2658  2015           1    5.0         21.66            0.0    7.312553   \n",
       "792   2008           2    7.0         13.10            0.0    7.824046   \n",
       "4870  2011           3    7.0         16.00            0.0    7.687080   \n",
       "\n",
       "      Power_log  Kilometers_log  Name_Ambassador  Name_Audi  ...  \\\n",
       "2330   4.330733       10.204111                0          0  ...   \n",
       "2870   4.473922       10.708914                0          0  ...   \n",
       "2658   4.649378       11.099257                0          0  ...   \n",
       "792    4.955827       12.230765                0          0  ...   \n",
       "4870   4.948760       11.759786                0          0  ...   \n",
       "\n",
       "      Location_Kolkata  Location_Mumbai  Location_Pune  Fuel_Type_CNG  \\\n",
       "2330                 0                1              0              0   \n",
       "2870                 0                0              0              0   \n",
       "2658                 0                0              0              0   \n",
       "792                  0                0              0              0   \n",
       "4870                 0                0              0              0   \n",
       "\n",
       "      Fuel_Type_Diesel  Fuel_Type_Electric  Fuel_Type_LPG  Fuel_Type_Petrol  \\\n",
       "2330                 0                   0              0                 1   \n",
       "2870                 0                   0              0                 1   \n",
       "2658                 1                   0              0                 0   \n",
       "792                  1                   0              0                 0   \n",
       "4870                 1                   0              0                 0   \n",
       "\n",
       "      Transmission_Automatic  Transmission_Manual  \n",
       "2330                       0                    1  \n",
       "2870                       0                    1  \n",
       "2658                       1                    0  \n",
       "792                        0                    1  \n",
       "4870                       0                    1  \n",
       "\n",
       "[5 rows x 57 columns]"
      ]
     },
     "execution_count": 807,
     "metadata": {},
     "output_type": "execute_result"
    }
   ],
   "source": [
    "X_train.head()"
   ]
  },
  {
   "cell_type": "code",
   "execution_count": 808,
   "metadata": {
    "scrolled": true
   },
   "outputs": [
    {
     "data": {
      "text/html": [
       "<div>\n",
       "<style scoped>\n",
       "    .dataframe tbody tr th:only-of-type {\n",
       "        vertical-align: middle;\n",
       "    }\n",
       "\n",
       "    .dataframe tbody tr th {\n",
       "        vertical-align: top;\n",
       "    }\n",
       "\n",
       "    .dataframe thead th {\n",
       "        text-align: right;\n",
       "    }\n",
       "</style>\n",
       "<table border=\"1\" class=\"dataframe\">\n",
       "  <thead>\n",
       "    <tr style=\"text-align: right;\">\n",
       "      <th></th>\n",
       "      <th>Year</th>\n",
       "      <th>Owner_Type</th>\n",
       "      <th>Seats</th>\n",
       "      <th>Mileage_kmpl</th>\n",
       "      <th>Mileage_km/kg</th>\n",
       "      <th>Engine_log</th>\n",
       "      <th>Power_log</th>\n",
       "      <th>Kilometers_log</th>\n",
       "      <th>Name_Ambassador</th>\n",
       "      <th>Name_Audi</th>\n",
       "      <th>...</th>\n",
       "      <th>Location_Kolkata</th>\n",
       "      <th>Location_Mumbai</th>\n",
       "      <th>Location_Pune</th>\n",
       "      <th>Fuel_Type_CNG</th>\n",
       "      <th>Fuel_Type_Diesel</th>\n",
       "      <th>Fuel_Type_Electric</th>\n",
       "      <th>Fuel_Type_LPG</th>\n",
       "      <th>Fuel_Type_Petrol</th>\n",
       "      <th>Transmission_Automatic</th>\n",
       "      <th>Transmission_Manual</th>\n",
       "    </tr>\n",
       "  </thead>\n",
       "  <tbody>\n",
       "    <tr>\n",
       "      <th>2111</th>\n",
       "      <td>2017</td>\n",
       "      <td>1</td>\n",
       "      <td>5.0</td>\n",
       "      <td>17.90</td>\n",
       "      <td>0.0</td>\n",
       "      <td>7.670429</td>\n",
       "      <td>5.309010</td>\n",
       "      <td>10.150387</td>\n",
       "      <td>0</td>\n",
       "      <td>0</td>\n",
       "      <td>...</td>\n",
       "      <td>0</td>\n",
       "      <td>0</td>\n",
       "      <td>0</td>\n",
       "      <td>0</td>\n",
       "      <td>1</td>\n",
       "      <td>0</td>\n",
       "      <td>0</td>\n",
       "      <td>0</td>\n",
       "      <td>1</td>\n",
       "      <td>0</td>\n",
       "    </tr>\n",
       "    <tr>\n",
       "      <th>5989</th>\n",
       "      <td>2013</td>\n",
       "      <td>2</td>\n",
       "      <td>5.0</td>\n",
       "      <td>18.25</td>\n",
       "      <td>0.0</td>\n",
       "      <td>7.585281</td>\n",
       "      <td>5.240370</td>\n",
       "      <td>10.978985</td>\n",
       "      <td>0</td>\n",
       "      <td>1</td>\n",
       "      <td>...</td>\n",
       "      <td>0</td>\n",
       "      <td>0</td>\n",
       "      <td>0</td>\n",
       "      <td>0</td>\n",
       "      <td>1</td>\n",
       "      <td>0</td>\n",
       "      <td>0</td>\n",
       "      <td>0</td>\n",
       "      <td>1</td>\n",
       "      <td>0</td>\n",
       "    </tr>\n",
       "    <tr>\n",
       "      <th>4893</th>\n",
       "      <td>2018</td>\n",
       "      <td>1</td>\n",
       "      <td>2.0</td>\n",
       "      <td>10.37</td>\n",
       "      <td>0.0</td>\n",
       "      <td>7.999679</td>\n",
       "      <td>5.726848</td>\n",
       "      <td>9.205529</td>\n",
       "      <td>0</td>\n",
       "      <td>0</td>\n",
       "      <td>...</td>\n",
       "      <td>0</td>\n",
       "      <td>0</td>\n",
       "      <td>0</td>\n",
       "      <td>0</td>\n",
       "      <td>0</td>\n",
       "      <td>0</td>\n",
       "      <td>0</td>\n",
       "      <td>1</td>\n",
       "      <td>1</td>\n",
       "      <td>0</td>\n",
       "    </tr>\n",
       "    <tr>\n",
       "      <th>3347</th>\n",
       "      <td>2017</td>\n",
       "      <td>1</td>\n",
       "      <td>5.0</td>\n",
       "      <td>18.50</td>\n",
       "      <td>0.0</td>\n",
       "      <td>7.088409</td>\n",
       "      <td>4.432482</td>\n",
       "      <td>10.754685</td>\n",
       "      <td>0</td>\n",
       "      <td>0</td>\n",
       "      <td>...</td>\n",
       "      <td>0</td>\n",
       "      <td>0</td>\n",
       "      <td>0</td>\n",
       "      <td>0</td>\n",
       "      <td>0</td>\n",
       "      <td>0</td>\n",
       "      <td>0</td>\n",
       "      <td>1</td>\n",
       "      <td>1</td>\n",
       "      <td>0</td>\n",
       "    </tr>\n",
       "    <tr>\n",
       "      <th>4036</th>\n",
       "      <td>2015</td>\n",
       "      <td>1</td>\n",
       "      <td>5.0</td>\n",
       "      <td>23.20</td>\n",
       "      <td>0.0</td>\n",
       "      <td>7.130099</td>\n",
       "      <td>4.316688</td>\n",
       "      <td>10.472035</td>\n",
       "      <td>0</td>\n",
       "      <td>0</td>\n",
       "      <td>...</td>\n",
       "      <td>0</td>\n",
       "      <td>0</td>\n",
       "      <td>0</td>\n",
       "      <td>0</td>\n",
       "      <td>1</td>\n",
       "      <td>0</td>\n",
       "      <td>0</td>\n",
       "      <td>0</td>\n",
       "      <td>0</td>\n",
       "      <td>1</td>\n",
       "    </tr>\n",
       "  </tbody>\n",
       "</table>\n",
       "<p>5 rows × 57 columns</p>\n",
       "</div>"
      ],
      "text/plain": [
       "      Year  Owner_Type  Seats  Mileage_kmpl  Mileage_km/kg  Engine_log  \\\n",
       "2111  2017           1    5.0         17.90            0.0    7.670429   \n",
       "5989  2013           2    5.0         18.25            0.0    7.585281   \n",
       "4893  2018           1    2.0         10.37            0.0    7.999679   \n",
       "3347  2017           1    5.0         18.50            0.0    7.088409   \n",
       "4036  2015           1    5.0         23.20            0.0    7.130099   \n",
       "\n",
       "      Power_log  Kilometers_log  Name_Ambassador  Name_Audi  ...  \\\n",
       "2111   5.309010       10.150387                0          0  ...   \n",
       "5989   5.240370       10.978985                0          1  ...   \n",
       "4893   5.726848        9.205529                0          0  ...   \n",
       "3347   4.432482       10.754685                0          0  ...   \n",
       "4036   4.316688       10.472035                0          0  ...   \n",
       "\n",
       "      Location_Kolkata  Location_Mumbai  Location_Pune  Fuel_Type_CNG  \\\n",
       "2111                 0                0              0              0   \n",
       "5989                 0                0              0              0   \n",
       "4893                 0                0              0              0   \n",
       "3347                 0                0              0              0   \n",
       "4036                 0                0              0              0   \n",
       "\n",
       "      Fuel_Type_Diesel  Fuel_Type_Electric  Fuel_Type_LPG  Fuel_Type_Petrol  \\\n",
       "2111                 1                   0              0                 0   \n",
       "5989                 1                   0              0                 0   \n",
       "4893                 0                   0              0                 1   \n",
       "3347                 0                   0              0                 1   \n",
       "4036                 1                   0              0                 0   \n",
       "\n",
       "      Transmission_Automatic  Transmission_Manual  \n",
       "2111                       1                    0  \n",
       "5989                       1                    0  \n",
       "4893                       1                    0  \n",
       "3347                       1                    0  \n",
       "4036                       0                    1  \n",
       "\n",
       "[5 rows x 57 columns]"
      ]
     },
     "execution_count": 808,
     "metadata": {},
     "output_type": "execute_result"
    }
   ],
   "source": [
    "X_test.head()"
   ]
  },
  {
   "cell_type": "code",
   "execution_count": 809,
   "metadata": {},
   "outputs": [],
   "source": [
    "X_train = np.asarray(X_train)"
   ]
  },
  {
   "cell_type": "code",
   "execution_count": 810,
   "metadata": {},
   "outputs": [],
   "source": [
    "X_test = np.asarray(X_test)"
   ]
  },
  {
   "cell_type": "markdown",
   "metadata": {},
   "source": [
    "# Model Building"
   ]
  },
  {
   "cell_type": "markdown",
   "metadata": {},
   "source": [
    "## Make yor own scorer: RMSLE"
   ]
  },
  {
   "cell_type": "code",
   "execution_count": 811,
   "metadata": {},
   "outputs": [],
   "source": [
    "from sklearn.metrics import make_scorer"
   ]
  },
  {
   "cell_type": "code",
   "execution_count": 812,
   "metadata": {},
   "outputs": [],
   "source": [
    "def rmsle_score(y, y_pred):\n",
    "    assert len(y) == len(y_pred)\n",
    "    terms_to_sum = (np.log(y_pred + 1) - np.log(y + 1)) ** 2.0\n",
    "    rmsle =  (np.sum(terms_to_sum) * (1.0/len(y)))** 0.5\n",
    "    \n",
    "    return 1 - rmsle"
   ]
  },
  {
   "cell_type": "code",
   "execution_count": 813,
   "metadata": {},
   "outputs": [],
   "source": [
    "rmsle_scorer = make_scorer(rmsle_score, greater_is_better = True)"
   ]
  },
  {
   "cell_type": "markdown",
   "metadata": {},
   "source": [
    "## Model1: Ridge Regression"
   ]
  },
  {
   "cell_type": "code",
   "execution_count": 814,
   "metadata": {},
   "outputs": [],
   "source": [
    "from sklearn.linear_model import Ridge"
   ]
  },
  {
   "cell_type": "code",
   "execution_count": 815,
   "metadata": {},
   "outputs": [],
   "source": [
    "rdg = Ridge()"
   ]
  },
  {
   "cell_type": "code",
   "execution_count": 816,
   "metadata": {},
   "outputs": [
    {
     "data": {
      "text/plain": [
       "Ridge(alpha=1.0, copy_X=True, fit_intercept=True, max_iter=None,\n",
       "   normalize=False, random_state=None, solver='auto', tol=0.001)"
      ]
     },
     "execution_count": 816,
     "metadata": {},
     "output_type": "execute_result"
    }
   ],
   "source": [
    "rdg.fit(X_train, y_train)"
   ]
  },
  {
   "cell_type": "code",
   "execution_count": 817,
   "metadata": {},
   "outputs": [],
   "source": [
    "y_pred_train = rdg.predict(X_train)"
   ]
  },
  {
   "cell_type": "code",
   "execution_count": 818,
   "metadata": {},
   "outputs": [],
   "source": [
    "y_pred_test = rdg.predict(X_test)"
   ]
  },
  {
   "cell_type": "code",
   "execution_count": 819,
   "metadata": {},
   "outputs": [
    {
     "data": {
      "text/plain": [
       "0.18038582874185527"
      ]
     },
     "execution_count": 819,
     "metadata": {},
     "output_type": "execute_result"
    }
   ],
   "source": [
    "rmsle_score(y_train, y_pred_train)"
   ]
  },
  {
   "cell_type": "code",
   "execution_count": 820,
   "metadata": {
    "scrolled": true
   },
   "outputs": [
    {
     "data": {
      "text/plain": [
       "0.1838988269096724"
      ]
     },
     "execution_count": 820,
     "metadata": {},
     "output_type": "execute_result"
    }
   ],
   "source": [
    "rmsle_score(y_test, y_pred_test)"
   ]
  },
  {
   "cell_type": "code",
   "execution_count": 821,
   "metadata": {},
   "outputs": [
    {
     "data": {
      "text/plain": [
       "0.009636211267008088"
      ]
     },
     "execution_count": 821,
     "metadata": {},
     "output_type": "execute_result"
    }
   ],
   "source": [
    "rdg.score(X_train, y_train)"
   ]
  },
  {
   "cell_type": "code",
   "execution_count": 822,
   "metadata": {},
   "outputs": [
    {
     "data": {
      "text/plain": [
       "-0.008831651646862504"
      ]
     },
     "execution_count": 822,
     "metadata": {},
     "output_type": "execute_result"
    }
   ],
   "source": [
    "rdg.score(X_test, y_test)"
   ]
  },
  {
   "cell_type": "markdown",
   "metadata": {},
   "source": [
    "## Model 2"
   ]
  },
  {
   "cell_type": "code",
   "execution_count": 823,
   "metadata": {},
   "outputs": [],
   "source": [
    "from sklearn.ensemble import RandomForestRegressor"
   ]
  },
  {
   "cell_type": "code",
   "execution_count": 824,
   "metadata": {},
   "outputs": [],
   "source": [
    "rfg = RandomForestRegressor()"
   ]
  },
  {
   "cell_type": "code",
   "execution_count": 825,
   "metadata": {},
   "outputs": [
    {
     "data": {
      "text/plain": [
       "RandomForestRegressor(bootstrap=True, criterion='mse', max_depth=None,\n",
       "           max_features='auto', max_leaf_nodes=None,\n",
       "           min_impurity_decrease=0.0, min_impurity_split=None,\n",
       "           min_samples_leaf=1, min_samples_split=2,\n",
       "           min_weight_fraction_leaf=0.0, n_estimators=10, n_jobs=1,\n",
       "           oob_score=False, random_state=None, verbose=0, warm_start=False)"
      ]
     },
     "execution_count": 825,
     "metadata": {},
     "output_type": "execute_result"
    }
   ],
   "source": [
    "rfg.fit(X_train, y_train)"
   ]
  },
  {
   "cell_type": "code",
   "execution_count": 826,
   "metadata": {},
   "outputs": [],
   "source": [
    "y_pred_train = rfg.predict(X_train)"
   ]
  },
  {
   "cell_type": "code",
   "execution_count": 827,
   "metadata": {},
   "outputs": [],
   "source": [
    "y_pred_test = rfg.predict(X_test)"
   ]
  },
  {
   "cell_type": "code",
   "execution_count": 828,
   "metadata": {},
   "outputs": [
    {
     "data": {
      "text/plain": [
       "0.5494565730913576"
      ]
     },
     "execution_count": 828,
     "metadata": {},
     "output_type": "execute_result"
    }
   ],
   "source": [
    "rmsle_score(y_train, y_pred_train)"
   ]
  },
  {
   "cell_type": "code",
   "execution_count": 829,
   "metadata": {},
   "outputs": [
    {
     "data": {
      "text/plain": [
       "0.10920114503983536"
      ]
     },
     "execution_count": 829,
     "metadata": {},
     "output_type": "execute_result"
    }
   ],
   "source": [
    "rmsle_score(y_test, y_pred_test)"
   ]
  },
  {
   "cell_type": "code",
   "execution_count": 830,
   "metadata": {},
   "outputs": [
    {
     "data": {
      "text/plain": [
       "0.7752131549793673"
      ]
     },
     "execution_count": 830,
     "metadata": {},
     "output_type": "execute_result"
    }
   ],
   "source": [
    "rfg.score(X_train, y_train)"
   ]
  },
  {
   "cell_type": "code",
   "execution_count": 831,
   "metadata": {},
   "outputs": [
    {
     "data": {
      "text/plain": [
       "-0.1794501614114119"
      ]
     },
     "execution_count": 831,
     "metadata": {},
     "output_type": "execute_result"
    }
   ],
   "source": [
    "rfg.score(X_test, y_test)"
   ]
  },
  {
   "cell_type": "markdown",
   "metadata": {},
   "source": [
    "## SVM Regressor"
   ]
  },
  {
   "cell_type": "code",
   "execution_count": 832,
   "metadata": {},
   "outputs": [],
   "source": [
    "from sklearn.svm import SVR"
   ]
  },
  {
   "cell_type": "code",
   "execution_count": 833,
   "metadata": {},
   "outputs": [],
   "source": [
    "svr = SVR()"
   ]
  },
  {
   "cell_type": "code",
   "execution_count": 834,
   "metadata": {},
   "outputs": [
    {
     "data": {
      "text/plain": [
       "SVR(C=1.0, cache_size=200, coef0=0.0, degree=3, epsilon=0.1, gamma='auto',\n",
       "  kernel='rbf', max_iter=-1, shrinking=True, tol=0.001, verbose=False)"
      ]
     },
     "execution_count": 834,
     "metadata": {},
     "output_type": "execute_result"
    }
   ],
   "source": [
    "svr.fit(X_train, y_train)"
   ]
  },
  {
   "cell_type": "code",
   "execution_count": 835,
   "metadata": {},
   "outputs": [
    {
     "data": {
      "text/plain": [
       "-0.11126781453365742"
      ]
     },
     "execution_count": 835,
     "metadata": {},
     "output_type": "execute_result"
    }
   ],
   "source": [
    "svr.score(X_train, y_train)"
   ]
  },
  {
   "cell_type": "code",
   "execution_count": 836,
   "metadata": {},
   "outputs": [
    {
     "data": {
      "text/plain": [
       "-0.10730048608342457"
      ]
     },
     "execution_count": 836,
     "metadata": {},
     "output_type": "execute_result"
    }
   ],
   "source": [
    "svr.score(X_test, y_test)"
   ]
  },
  {
   "cell_type": "code",
   "execution_count": null,
   "metadata": {},
   "outputs": [],
   "source": []
  }
 ],
 "metadata": {
  "kernelspec": {
   "display_name": "Python 3",
   "language": "python",
   "name": "python3"
  },
  "language_info": {
   "codemirror_mode": {
    "name": "ipython",
    "version": 3
   },
   "file_extension": ".py",
   "mimetype": "text/x-python",
   "name": "python",
   "nbconvert_exporter": "python",
   "pygments_lexer": "ipython3",
   "version": "3.7.0"
  }
 },
 "nbformat": 4,
 "nbformat_minor": 2
}
