{
 "cells": [
  {
   "cell_type": "markdown",
   "metadata": {},
   "source": [
    "# Predicting Cost of Used Cars"
   ]
  },
  {
   "cell_type": "markdown",
   "metadata": {},
   "source": [
    "## Importing Data"
   ]
  },
  {
   "cell_type": "code",
   "execution_count": 256,
   "metadata": {},
   "outputs": [],
   "source": [
    "import pandas as pd\n",
    "import numpy as np\n",
    "import matplotlib.pyplot as plt\n",
    "import seaborn as sns\n",
    "%matplotlib inline"
   ]
  },
  {
   "cell_type": "code",
   "execution_count": 257,
   "metadata": {},
   "outputs": [],
   "source": [
    "data = pd.read_excel('Data_Train.xlsx')"
   ]
  },
  {
   "cell_type": "code",
   "execution_count": 258,
   "metadata": {},
   "outputs": [
    {
     "data": {
      "text/html": [
       "<div>\n",
       "<style scoped>\n",
       "    .dataframe tbody tr th:only-of-type {\n",
       "        vertical-align: middle;\n",
       "    }\n",
       "\n",
       "    .dataframe tbody tr th {\n",
       "        vertical-align: top;\n",
       "    }\n",
       "\n",
       "    .dataframe thead th {\n",
       "        text-align: right;\n",
       "    }\n",
       "</style>\n",
       "<table border=\"1\" class=\"dataframe\">\n",
       "  <thead>\n",
       "    <tr style=\"text-align: right;\">\n",
       "      <th></th>\n",
       "      <th>Name</th>\n",
       "      <th>Location</th>\n",
       "      <th>Year</th>\n",
       "      <th>Kilometers_Driven</th>\n",
       "      <th>Fuel_Type</th>\n",
       "      <th>Transmission</th>\n",
       "      <th>Owner_Type</th>\n",
       "      <th>Mileage</th>\n",
       "      <th>Engine</th>\n",
       "      <th>Power</th>\n",
       "      <th>Seats</th>\n",
       "      <th>New_Price</th>\n",
       "      <th>Price</th>\n",
       "    </tr>\n",
       "  </thead>\n",
       "  <tbody>\n",
       "    <tr>\n",
       "      <th>0</th>\n",
       "      <td>Maruti Wagon R LXI CNG</td>\n",
       "      <td>Mumbai</td>\n",
       "      <td>2010</td>\n",
       "      <td>72000</td>\n",
       "      <td>CNG</td>\n",
       "      <td>Manual</td>\n",
       "      <td>First</td>\n",
       "      <td>26.6 km/kg</td>\n",
       "      <td>998 CC</td>\n",
       "      <td>58.16 bhp</td>\n",
       "      <td>5.0</td>\n",
       "      <td>NaN</td>\n",
       "      <td>1.75</td>\n",
       "    </tr>\n",
       "    <tr>\n",
       "      <th>1</th>\n",
       "      <td>Hyundai Creta 1.6 CRDi SX Option</td>\n",
       "      <td>Pune</td>\n",
       "      <td>2015</td>\n",
       "      <td>41000</td>\n",
       "      <td>Diesel</td>\n",
       "      <td>Manual</td>\n",
       "      <td>First</td>\n",
       "      <td>19.67 kmpl</td>\n",
       "      <td>1582 CC</td>\n",
       "      <td>126.2 bhp</td>\n",
       "      <td>5.0</td>\n",
       "      <td>NaN</td>\n",
       "      <td>12.50</td>\n",
       "    </tr>\n",
       "    <tr>\n",
       "      <th>2</th>\n",
       "      <td>Honda Jazz V</td>\n",
       "      <td>Chennai</td>\n",
       "      <td>2011</td>\n",
       "      <td>46000</td>\n",
       "      <td>Petrol</td>\n",
       "      <td>Manual</td>\n",
       "      <td>First</td>\n",
       "      <td>18.2 kmpl</td>\n",
       "      <td>1199 CC</td>\n",
       "      <td>88.7 bhp</td>\n",
       "      <td>5.0</td>\n",
       "      <td>8.61 Lakh</td>\n",
       "      <td>4.50</td>\n",
       "    </tr>\n",
       "    <tr>\n",
       "      <th>3</th>\n",
       "      <td>Maruti Ertiga VDI</td>\n",
       "      <td>Chennai</td>\n",
       "      <td>2012</td>\n",
       "      <td>87000</td>\n",
       "      <td>Diesel</td>\n",
       "      <td>Manual</td>\n",
       "      <td>First</td>\n",
       "      <td>20.77 kmpl</td>\n",
       "      <td>1248 CC</td>\n",
       "      <td>88.76 bhp</td>\n",
       "      <td>7.0</td>\n",
       "      <td>NaN</td>\n",
       "      <td>6.00</td>\n",
       "    </tr>\n",
       "    <tr>\n",
       "      <th>4</th>\n",
       "      <td>Audi A4 New 2.0 TDI Multitronic</td>\n",
       "      <td>Coimbatore</td>\n",
       "      <td>2013</td>\n",
       "      <td>40670</td>\n",
       "      <td>Diesel</td>\n",
       "      <td>Automatic</td>\n",
       "      <td>Second</td>\n",
       "      <td>15.2 kmpl</td>\n",
       "      <td>1968 CC</td>\n",
       "      <td>140.8 bhp</td>\n",
       "      <td>5.0</td>\n",
       "      <td>NaN</td>\n",
       "      <td>17.74</td>\n",
       "    </tr>\n",
       "  </tbody>\n",
       "</table>\n",
       "</div>"
      ],
      "text/plain": [
       "                               Name    Location  Year  Kilometers_Driven  \\\n",
       "0            Maruti Wagon R LXI CNG      Mumbai  2010              72000   \n",
       "1  Hyundai Creta 1.6 CRDi SX Option        Pune  2015              41000   \n",
       "2                      Honda Jazz V     Chennai  2011              46000   \n",
       "3                 Maruti Ertiga VDI     Chennai  2012              87000   \n",
       "4   Audi A4 New 2.0 TDI Multitronic  Coimbatore  2013              40670   \n",
       "\n",
       "  Fuel_Type Transmission Owner_Type     Mileage   Engine      Power  Seats  \\\n",
       "0       CNG       Manual      First  26.6 km/kg   998 CC  58.16 bhp    5.0   \n",
       "1    Diesel       Manual      First  19.67 kmpl  1582 CC  126.2 bhp    5.0   \n",
       "2    Petrol       Manual      First   18.2 kmpl  1199 CC   88.7 bhp    5.0   \n",
       "3    Diesel       Manual      First  20.77 kmpl  1248 CC  88.76 bhp    7.0   \n",
       "4    Diesel    Automatic     Second   15.2 kmpl  1968 CC  140.8 bhp    5.0   \n",
       "\n",
       "   New_Price  Price  \n",
       "0        NaN   1.75  \n",
       "1        NaN  12.50  \n",
       "2  8.61 Lakh   4.50  \n",
       "3        NaN   6.00  \n",
       "4        NaN  17.74  "
      ]
     },
     "execution_count": 258,
     "metadata": {},
     "output_type": "execute_result"
    }
   ],
   "source": [
    "data.head()"
   ]
  },
  {
   "cell_type": "markdown",
   "metadata": {},
   "source": [
    "**Comments on Missing Values**\n",
    "- **Mileage, Engine, Power and Seats** : all are continous numeric features\n",
    "- **New price** : Sparse feature\n",
    "<br>\n",
    "Therefore, the numeric feature will be treated either by their mean/mode <br>\n",
    "New price will be sparse"
   ]
  },
  {
   "cell_type": "markdown",
   "metadata": {},
   "source": [
    "# Some EDA"
   ]
  },
  {
   "cell_type": "markdown",
   "metadata": {},
   "source": [
    "### Name Feature"
   ]
  },
  {
   "cell_type": "code",
   "execution_count": 259,
   "metadata": {},
   "outputs": [
    {
     "data": {
      "text/plain": [
       "Mahindra XUV500 W8 2WD                           49\n",
       "Maruti Swift VDI                                 45\n",
       "Maruti Swift Dzire VDI                           34\n",
       "Honda City 1.5 S MT                              34\n",
       "Maruti Swift VDI BSIV                            31\n",
       "Maruti Ritz VDi                                  30\n",
       "Hyundai i10 Sportz                               30\n",
       "Toyota Fortuner 3.0 Diesel                       29\n",
       "Honda Amaze S i-Dtech                            27\n",
       "Hyundai Grand i10 Sportz                         27\n",
       "Maruti Ertiga VDI                                25\n",
       "Honda Brio S MT                                  25\n",
       "Honda City 1.5 V MT                              24\n",
       "Hyundai Verna 1.6 SX                             23\n",
       "Maruti Wagon R VXI                               23\n",
       "Maruti Wagon R LXI                               22\n",
       "Maruti Alto LXi                                  21\n",
       "Hyundai EON Era Plus                             20\n",
       "Skoda Superb Elegance 1.8 TSI AT                 20\n",
       "Maruti Alto 800 LXI                              20\n",
       "BMW 3 Series 320d                                20\n",
       "Maruti Ertiga ZDI                                20\n",
       "Hyundai i10 Magna 1.2                            19\n",
       "Maruti Celerio VXI AT                            19\n",
       "Toyota Fortuner 4x2 AT                           19\n",
       "Maruti Wagon R LXI CNG                           18\n",
       "Volkswagen Vento Diesel Highline                 18\n",
       "Renault KWID RXT                                 18\n",
       "Hyundai i20 1.2 Magna                            18\n",
       "Volkswagen Polo 1.5 TDI Highline                 18\n",
       "                                                 ..\n",
       "BMW 7 Series 730Ld Design Pure Excellence CBU     1\n",
       "Land Rover Discovery 4 TDV6 SE                    1\n",
       "Mahindra Bolero VLX BS IV                         1\n",
       "Chevrolet Sail Hatchback LS ABS                   1\n",
       "Volkswagen Jetta 2007-2011 1.9 L TDI              1\n",
       "Maruti 800 AC Uniq                                1\n",
       "Tata Indica V2 2001-2011 eLS                      1\n",
       "Hyundai Tucson 2.0 Dual VTVT 2WD AT GL            1\n",
       "Mahindra Scorpio S2 7 Seater                      1\n",
       "BMW X3 xDrive20d Expedition                       1\n",
       "Mercedes-Benz S-Class S 350 d                     1\n",
       "Porsche Cayenne S Diesel                          1\n",
       "Nissan Micra XV                                   1\n",
       "Toyota Etios GD SP                                1\n",
       "Skoda Octavia Ambition 1.8 TSI AT                 1\n",
       "Renault Scala RxL AT                              1\n",
       "Land Rover Freelander 2 HSE SD4                   1\n",
       "Tata New Safari DICOR 2.2 EX 4x4 BS IV            1\n",
       "Maruti Zen VXI                                    1\n",
       "Toyota Innova 2.5 VX 7 STR BSIV                   1\n",
       "Mercedes-Benz E-Class 280 Elegance                1\n",
       "Volkswagen Ameo 1.5 TDI Highline AT               1\n",
       "Audi A6 2011-2015 2.0 TDI Technology              1\n",
       "Skoda Laura L and K AT                            1\n",
       "Tata Indigo eCS LS (TDI) BS-III                   1\n",
       "Datsun GO T Option                                1\n",
       "Tata Indica V2 DLX                                1\n",
       "Ford Classic 1.4 Duratorq Titanium                1\n",
       "Mahindra Scorpio 1.99 S8                          1\n",
       "Maruti S-Cross Delta DDiS 200 SH                  1\n",
       "Name: Name, Length: 1876, dtype: int64"
      ]
     },
     "execution_count": 259,
     "metadata": {},
     "output_type": "execute_result"
    }
   ],
   "source": [
    "data[\"Name\"].value_counts()"
   ]
  },
  {
   "cell_type": "code",
   "execution_count": 260,
   "metadata": {},
   "outputs": [
    {
     "data": {
      "text/plain": [
       "1876"
      ]
     },
     "execution_count": 260,
     "metadata": {},
     "output_type": "execute_result"
    }
   ],
   "source": [
    "len(data['Name'].unique())"
   ]
  },
  {
   "cell_type": "markdown",
   "metadata": {},
   "source": [
    "**Comment**: Each sample is given different car name. Will have to clean this text data"
   ]
  },
  {
   "cell_type": "markdown",
   "metadata": {},
   "source": [
    "## Location Feature"
   ]
  },
  {
   "cell_type": "code",
   "execution_count": 261,
   "metadata": {},
   "outputs": [
    {
     "data": {
      "text/plain": [
       "Text(0,0.5,'Avg Price')"
      ]
     },
     "execution_count": 261,
     "metadata": {},
     "output_type": "execute_result"
    },
    {
     "data": {
      "image/png": "[encoded data removed]",
      "text/plain": [
       "<Figure size 432x288 with 1 Axes>"
      ]
     },
     "metadata": {
      "needs_background": "light"
     },
     "output_type": "display_data"
    }
   ],
   "source": [
    "data.groupby('Location')['Price'].mean().plot.bar()\n",
    "plt.title('Avg Price vs Location')\n",
    "plt.ylabel('Avg Price')"
   ]
  },
  {
   "cell_type": "code",
   "execution_count": 262,
   "metadata": {},
   "outputs": [
    {
     "data": {
      "text/plain": [
       "Text(0,0.5,'Avg Kilometers')"
      ]
     },
     "execution_count": 262,
     "metadata": {},
     "output_type": "execute_result"
    },
    {
     "data": {
      "image/png": "[encoded data removed]",
      "text/plain": [
       "<Figure size 432x288 with 1 Axes>"
      ]
     },
     "metadata": {
      "needs_background": "light"
     },
     "output_type": "display_data"
    }
   ],
   "source": [
    "data.groupby('Location')['Kilometers_Driven'].mean().plot.bar()\n",
    "plt.title('Kilometres Driven in each state')\n",
    "plt.ylabel('Avg Kilometers')"
   ]
  },
  {
   "cell_type": "markdown",
   "metadata": {},
   "source": [
    "## Kilometers Driven Feature"
   ]
  },
  {
   "cell_type": "markdown",
   "metadata": {},
   "source": [
    "**Comment** Kilometers driven has inverse relation with Price"
   ]
  },
  {
   "cell_type": "code",
   "execution_count": 263,
   "metadata": {},
   "outputs": [
    {
     "data": {
      "text/html": [
       "<div>\n",
       "<style scoped>\n",
       "    .dataframe tbody tr th:only-of-type {\n",
       "        vertical-align: middle;\n",
       "    }\n",
       "\n",
       "    .dataframe tbody tr th {\n",
       "        vertical-align: top;\n",
       "    }\n",
       "\n",
       "    .dataframe thead th {\n",
       "        text-align: right;\n",
       "    }\n",
       "</style>\n",
       "<table border=\"1\" class=\"dataframe\">\n",
       "  <thead>\n",
       "    <tr style=\"text-align: right;\">\n",
       "      <th></th>\n",
       "      <th>Kilometers_Driven</th>\n",
       "      <th>Price</th>\n",
       "    </tr>\n",
       "  </thead>\n",
       "  <tbody>\n",
       "    <tr>\n",
       "      <th>Kilometers_Driven</th>\n",
       "      <td>1.000000</td>\n",
       "      <td>-0.011493</td>\n",
       "    </tr>\n",
       "    <tr>\n",
       "      <th>Price</th>\n",
       "      <td>-0.011493</td>\n",
       "      <td>1.000000</td>\n",
       "    </tr>\n",
       "  </tbody>\n",
       "</table>\n",
       "</div>"
      ],
      "text/plain": [
       "                   Kilometers_Driven     Price\n",
       "Kilometers_Driven           1.000000 -0.011493\n",
       "Price                      -0.011493  1.000000"
      ]
     },
     "execution_count": 263,
     "metadata": {},
     "output_type": "execute_result"
    }
   ],
   "source": [
    "data[['Kilometers_Driven','Price']].corr()"
   ]
  },
  {
   "cell_type": "code",
   "execution_count": 264,
   "metadata": {},
   "outputs": [
    {
     "data": {
      "text/plain": [
       "<matplotlib.axes._subplots.AxesSubplot at 0x19dae19f0b8>"
      ]
     },
     "execution_count": 264,
     "metadata": {},
     "output_type": "execute_result"
    },
    {
     "data": {
      "image/png": "[encoded data removed]",
      "text/plain": [
       "<Figure size 432x288 with 2 Axes>"
      ]
     },
     "metadata": {
      "needs_background": "light"
     },
     "output_type": "display_data"
    }
   ],
   "source": [
    "import seaborn as sns\n",
    "sns.heatmap(data.corr())"
   ]
  },
  {
   "cell_type": "markdown",
   "metadata": {},
   "source": [
    "## Fuel Type feature"
   ]
  },
  {
   "cell_type": "code",
   "execution_count": 265,
   "metadata": {},
   "outputs": [
    {
     "data": {
      "text/plain": [
       "Text(0,0.5,'Price')"
      ]
     },
     "execution_count": 265,
     "metadata": {},
     "output_type": "execute_result"
    },
    {
     "data": {
      "image/png": "[encoded data removed]",
      "text/plain": [
       "<Figure size 432x288 with 1 Axes>"
      ]
     },
     "metadata": {
      "needs_background": "light"
     },
     "output_type": "display_data"
    }
   ],
   "source": [
    "data.groupby('Fuel_Type')['Price'].mean().plot.bar()\n",
    "plt.title('Fuel Type vs Price')\n",
    "plt.ylabel('Price')"
   ]
  },
  {
   "cell_type": "markdown",
   "metadata": {},
   "source": [
    "## Year Feature"
   ]
  },
  {
   "cell_type": "code",
   "execution_count": 266,
   "metadata": {},
   "outputs": [
    {
     "data": {
      "text/plain": [
       "Text(0,0.5,'Price')"
      ]
     },
     "execution_count": 266,
     "metadata": {},
     "output_type": "execute_result"
    },
    {
     "data": {
      "image/png": "[encoded data removed]",
      "text/plain": [
       "<Figure size 432x288 with 1 Axes>"
      ]
     },
     "metadata": {
      "needs_background": "light"
     },
     "output_type": "display_data"
    }
   ],
   "source": [
    "data.groupby('Year')['Price'].mean().plot.bar()\n",
    "plt.title('Year vs Price')\n",
    "plt.ylabel('Price')"
   ]
  },
  {
   "cell_type": "markdown",
   "metadata": {},
   "source": [
    "## Transmission Feature"
   ]
  },
  {
   "cell_type": "code",
   "execution_count": 267,
   "metadata": {},
   "outputs": [
    {
     "data": {
      "text/plain": [
       "Text(0,0.5,'Price')"
      ]
     },
     "execution_count": 267,
     "metadata": {},
     "output_type": "execute_result"
    },
    {
     "data": {
      "image/png": "[encoded data removed]",
      "text/plain": [
       "<Figure size 432x288 with 1 Axes>"
      ]
     },
     "metadata": {
      "needs_background": "light"
     },
     "output_type": "display_data"
    }
   ],
   "source": [
    "data.groupby('Transmission')['Price'].mean().plot.bar()\n",
    "plt.title('Transmission vs Price')\n",
    "plt.ylabel('Price')"
   ]
  },
  {
   "cell_type": "markdown",
   "metadata": {},
   "source": [
    "## Owner Type Feature"
   ]
  },
  {
   "cell_type": "code",
   "execution_count": 268,
   "metadata": {},
   "outputs": [
    {
     "data": {
      "text/plain": [
       "Text(0,0.5,'Price')"
      ]
     },
     "execution_count": 268,
     "metadata": {},
     "output_type": "execute_result"
    },
    {
     "data": {
      "image/png": "[encoded data removed]",
      "text/plain": [
       "<Figure size 432x288 with 1 Axes>"
      ]
     },
     "metadata": {
      "needs_background": "light"
     },
     "output_type": "display_data"
    }
   ],
   "source": [
    "data.groupby('Owner_Type')['Price'].mean().plot.bar()\n",
    "plt.title('Owner vs Price')\n",
    "plt.ylabel('Price')"
   ]
  },
  {
   "cell_type": "markdown",
   "metadata": {},
   "source": [
    "## Splitting Data"
   ]
  },
  {
   "cell_type": "code",
   "execution_count": 269,
   "metadata": {},
   "outputs": [],
   "source": [
    "new_data = data.copy()"
   ]
  },
  {
   "cell_type": "code",
   "execution_count": 270,
   "metadata": {},
   "outputs": [],
   "source": [
    "y = new_data[\"Price\"].values"
   ]
  },
  {
   "cell_type": "code",
   "execution_count": 271,
   "metadata": {},
   "outputs": [],
   "source": [
    "X = new_data.drop('Price', axis= 'columns')"
   ]
  },
  {
   "cell_type": "code",
   "execution_count": 272,
   "metadata": {},
   "outputs": [
    {
     "data": {
      "text/plain": [
       "(6019, 12)"
      ]
     },
     "execution_count": 272,
     "metadata": {},
     "output_type": "execute_result"
    }
   ],
   "source": [
    "X.shape"
   ]
  },
  {
   "cell_type": "code",
   "execution_count": 273,
   "metadata": {},
   "outputs": [
    {
     "data": {
      "text/plain": [
       "(6019,)"
      ]
     },
     "execution_count": 273,
     "metadata": {},
     "output_type": "execute_result"
    }
   ],
   "source": [
    "y.shape"
   ]
  },
  {
   "cell_type": "code",
   "execution_count": 274,
   "metadata": {},
   "outputs": [
    {
     "data": {
      "text/html": [
       "<div>\n",
       "<style scoped>\n",
       "    .dataframe tbody tr th:only-of-type {\n",
       "        vertical-align: middle;\n",
       "    }\n",
       "\n",
       "    .dataframe tbody tr th {\n",
       "        vertical-align: top;\n",
       "    }\n",
       "\n",
       "    .dataframe thead th {\n",
       "        text-align: right;\n",
       "    }\n",
       "</style>\n",
       "<table border=\"1\" class=\"dataframe\">\n",
       "  <thead>\n",
       "    <tr style=\"text-align: right;\">\n",
       "      <th></th>\n",
       "      <th>Name</th>\n",
       "      <th>Location</th>\n",
       "      <th>Year</th>\n",
       "      <th>Kilometers_Driven</th>\n",
       "      <th>Fuel_Type</th>\n",
       "      <th>Transmission</th>\n",
       "      <th>Owner_Type</th>\n",
       "      <th>Mileage</th>\n",
       "      <th>Engine</th>\n",
       "      <th>Power</th>\n",
       "      <th>Seats</th>\n",
       "      <th>New_Price</th>\n",
       "    </tr>\n",
       "  </thead>\n",
       "  <tbody>\n",
       "    <tr>\n",
       "      <th>0</th>\n",
       "      <td>Maruti Wagon R LXI CNG</td>\n",
       "      <td>Mumbai</td>\n",
       "      <td>2010</td>\n",
       "      <td>72000</td>\n",
       "      <td>CNG</td>\n",
       "      <td>Manual</td>\n",
       "      <td>First</td>\n",
       "      <td>26.6 km/kg</td>\n",
       "      <td>998 CC</td>\n",
       "      <td>58.16 bhp</td>\n",
       "      <td>5.0</td>\n",
       "      <td>NaN</td>\n",
       "    </tr>\n",
       "    <tr>\n",
       "      <th>1</th>\n",
       "      <td>Hyundai Creta 1.6 CRDi SX Option</td>\n",
       "      <td>Pune</td>\n",
       "      <td>2015</td>\n",
       "      <td>41000</td>\n",
       "      <td>Diesel</td>\n",
       "      <td>Manual</td>\n",
       "      <td>First</td>\n",
       "      <td>19.67 kmpl</td>\n",
       "      <td>1582 CC</td>\n",
       "      <td>126.2 bhp</td>\n",
       "      <td>5.0</td>\n",
       "      <td>NaN</td>\n",
       "    </tr>\n",
       "    <tr>\n",
       "      <th>2</th>\n",
       "      <td>Honda Jazz V</td>\n",
       "      <td>Chennai</td>\n",
       "      <td>2011</td>\n",
       "      <td>46000</td>\n",
       "      <td>Petrol</td>\n",
       "      <td>Manual</td>\n",
       "      <td>First</td>\n",
       "      <td>18.2 kmpl</td>\n",
       "      <td>1199 CC</td>\n",
       "      <td>88.7 bhp</td>\n",
       "      <td>5.0</td>\n",
       "      <td>8.61 Lakh</td>\n",
       "    </tr>\n",
       "    <tr>\n",
       "      <th>3</th>\n",
       "      <td>Maruti Ertiga VDI</td>\n",
       "      <td>Chennai</td>\n",
       "      <td>2012</td>\n",
       "      <td>87000</td>\n",
       "      <td>Diesel</td>\n",
       "      <td>Manual</td>\n",
       "      <td>First</td>\n",
       "      <td>20.77 kmpl</td>\n",
       "      <td>1248 CC</td>\n",
       "      <td>88.76 bhp</td>\n",
       "      <td>7.0</td>\n",
       "      <td>NaN</td>\n",
       "    </tr>\n",
       "    <tr>\n",
       "      <th>4</th>\n",
       "      <td>Audi A4 New 2.0 TDI Multitronic</td>\n",
       "      <td>Coimbatore</td>\n",
       "      <td>2013</td>\n",
       "      <td>40670</td>\n",
       "      <td>Diesel</td>\n",
       "      <td>Automatic</td>\n",
       "      <td>Second</td>\n",
       "      <td>15.2 kmpl</td>\n",
       "      <td>1968 CC</td>\n",
       "      <td>140.8 bhp</td>\n",
       "      <td>5.0</td>\n",
       "      <td>NaN</td>\n",
       "    </tr>\n",
       "  </tbody>\n",
       "</table>\n",
       "</div>"
      ],
      "text/plain": [
       "                               Name    Location  Year  Kilometers_Driven  \\\n",
       "0            Maruti Wagon R LXI CNG      Mumbai  2010              72000   \n",
       "1  Hyundai Creta 1.6 CRDi SX Option        Pune  2015              41000   \n",
       "2                      Honda Jazz V     Chennai  2011              46000   \n",
       "3                 Maruti Ertiga VDI     Chennai  2012              87000   \n",
       "4   Audi A4 New 2.0 TDI Multitronic  Coimbatore  2013              40670   \n",
       "\n",
       "  Fuel_Type Transmission Owner_Type     Mileage   Engine      Power  Seats  \\\n",
       "0       CNG       Manual      First  26.6 km/kg   998 CC  58.16 bhp    5.0   \n",
       "1    Diesel       Manual      First  19.67 kmpl  1582 CC  126.2 bhp    5.0   \n",
       "2    Petrol       Manual      First   18.2 kmpl  1199 CC   88.7 bhp    5.0   \n",
       "3    Diesel       Manual      First  20.77 kmpl  1248 CC  88.76 bhp    7.0   \n",
       "4    Diesel    Automatic     Second   15.2 kmpl  1968 CC  140.8 bhp    5.0   \n",
       "\n",
       "   New_Price  \n",
       "0        NaN  \n",
       "1        NaN  \n",
       "2  8.61 Lakh  \n",
       "3        NaN  \n",
       "4        NaN  "
      ]
     },
     "execution_count": 274,
     "metadata": {},
     "output_type": "execute_result"
    }
   ],
   "source": [
    "X.head()"
   ]
  },
  {
   "cell_type": "code",
   "execution_count": 275,
   "metadata": {},
   "outputs": [],
   "source": [
    "from sklearn.model_selection import train_test_split"
   ]
  },
  {
   "cell_type": "code",
   "execution_count": 276,
   "metadata": {},
   "outputs": [],
   "source": [
    "X_train, X_val, y_train, y_val = train_test_split(X, y, test_size = 0.3, random_state = 2)"
   ]
  },
  {
   "cell_type": "code",
   "execution_count": 277,
   "metadata": {},
   "outputs": [
    {
     "data": {
      "text/plain": [
       "((4213, 12), (4213,))"
      ]
     },
     "execution_count": 277,
     "metadata": {},
     "output_type": "execute_result"
    }
   ],
   "source": [
    "X_train.shape, y_train.shape"
   ]
  },
  {
   "cell_type": "code",
   "execution_count": 278,
   "metadata": {},
   "outputs": [
    {
     "data": {
      "text/plain": [
       "((1806, 12), (1806,))"
      ]
     },
     "execution_count": 278,
     "metadata": {},
     "output_type": "execute_result"
    }
   ],
   "source": [
    "X_val.shape, y_val.shape"
   ]
  },
  {
   "cell_type": "markdown",
   "metadata": {},
   "source": [
    "# Preprocessing Training Data"
   ]
  },
  {
   "cell_type": "markdown",
   "metadata": {},
   "source": [
    "## Observing Missing Values"
   ]
  },
  {
   "cell_type": "code",
   "execution_count": 279,
   "metadata": {},
   "outputs": [
    {
     "data": {
      "text/plain": [
       "Name                 False\n",
       "Location             False\n",
       "Year                 False\n",
       "Kilometers_Driven    False\n",
       "Fuel_Type            False\n",
       "Transmission         False\n",
       "Owner_Type           False\n",
       "Mileage               True\n",
       "Engine                True\n",
       "Power                 True\n",
       "Seats                 True\n",
       "New_Price             True\n",
       "dtype: bool"
      ]
     },
     "execution_count": 279,
     "metadata": {},
     "output_type": "execute_result"
    }
   ],
   "source": [
    "X_train.isnull().any()"
   ]
  },
  {
   "cell_type": "markdown",
   "metadata": {},
   "source": [
    "# 1. Mileage Feature"
   ]
  },
  {
   "cell_type": "code",
   "execution_count": 280,
   "metadata": {},
   "outputs": [
    {
     "data": {
      "text/plain": [
       "523      25.4 kmpl\n",
       "5989    18.25 kmpl\n",
       "4565     17.8 kmpl\n",
       "538      17.8 kmpl\n",
       "253      18.7 kmpl\n",
       "1423     19.0 kmpl\n",
       "3754     13.5 kmpl\n",
       "423     15.26 kmpl\n",
       "1446     11.7 kmpl\n",
       "393      21.1 kmpl\n",
       "2        18.2 kmpl\n",
       "2323    25.0 km/kg\n",
       "5904     22.7 kmpl\n",
       "3551     14.4 kmpl\n",
       "5410    11.74 kmpl\n",
       "1490     17.6 kmpl\n",
       "816      17.0 kmpl\n",
       "1996     17.0 kmpl\n",
       "5644    20.14 kmpl\n",
       "3016    13.93 kmpl\n",
       "3030    22.69 kmpl\n",
       "4669    16.77 kmpl\n",
       "3963     13.7 kmpl\n",
       "5941    25.17 kmpl\n",
       "1608    20.51 kmpl\n",
       "1918    16.55 kmpl\n",
       "476      18.9 kmpl\n",
       "3109    17.01 kmpl\n",
       "599     11.36 kmpl\n",
       "4459     23.1 kmpl\n",
       "           ...    \n",
       "1375     16.8 kmpl\n",
       "1326     22.7 kmpl\n",
       "3780    11.68 kmpl\n",
       "5208    21.14 kmpl\n",
       "1349    18.88 kmpl\n",
       "255     16.38 kmpl\n",
       "4988    18.59 kmpl\n",
       "3642     18.0 kmpl\n",
       "3622    13.01 kmpl\n",
       "4147     28.4 kmpl\n",
       "4971    21.43 kmpl\n",
       "5034     17.7 kmpl\n",
       "5222     17.4 kmpl\n",
       "5315    12.05 kmpl\n",
       "2727    21.19 kmpl\n",
       "3700     17.0 kmpl\n",
       "124      21.9 kmpl\n",
       "2778    11.18 kmpl\n",
       "2879    18.53 kmpl\n",
       "5167    16.02 kmpl\n",
       "2773     17.0 kmpl\n",
       "2635     17.0 kmpl\n",
       "433      21.1 kmpl\n",
       "4770     17.9 kmpl\n",
       "3335    14.53 kmpl\n",
       "1099     17.0 kmpl\n",
       "2514    17.92 kmpl\n",
       "3606     17.8 kmpl\n",
       "5704     22.0 kmpl\n",
       "2575     14.8 kmpl\n",
       "Name: Mileage, Length: 4213, dtype: object"
      ]
     },
     "execution_count": 280,
     "metadata": {},
     "output_type": "execute_result"
    }
   ],
   "source": [
    "X_train['Mileage']"
   ]
  },
  {
   "cell_type": "code",
   "execution_count": 281,
   "metadata": {},
   "outputs": [],
   "source": [
    "mileage_df = X_train['Mileage'].str.split(\" \", expand = True)"
   ]
  },
  {
   "cell_type": "code",
   "execution_count": 282,
   "metadata": {},
   "outputs": [
    {
     "data": {
      "text/html": [
       "<div>\n",
       "<style scoped>\n",
       "    .dataframe tbody tr th:only-of-type {\n",
       "        vertical-align: middle;\n",
       "    }\n",
       "\n",
       "    .dataframe tbody tr th {\n",
       "        vertical-align: top;\n",
       "    }\n",
       "\n",
       "    .dataframe thead th {\n",
       "        text-align: right;\n",
       "    }\n",
       "</style>\n",
       "<table border=\"1\" class=\"dataframe\">\n",
       "  <thead>\n",
       "    <tr style=\"text-align: right;\">\n",
       "      <th></th>\n",
       "      <th>0</th>\n",
       "      <th>1</th>\n",
       "    </tr>\n",
       "  </thead>\n",
       "  <tbody>\n",
       "    <tr>\n",
       "      <th>523</th>\n",
       "      <td>25.4</td>\n",
       "      <td>kmpl</td>\n",
       "    </tr>\n",
       "    <tr>\n",
       "      <th>5989</th>\n",
       "      <td>18.25</td>\n",
       "      <td>kmpl</td>\n",
       "    </tr>\n",
       "    <tr>\n",
       "      <th>4565</th>\n",
       "      <td>17.8</td>\n",
       "      <td>kmpl</td>\n",
       "    </tr>\n",
       "    <tr>\n",
       "      <th>538</th>\n",
       "      <td>17.8</td>\n",
       "      <td>kmpl</td>\n",
       "    </tr>\n",
       "    <tr>\n",
       "      <th>253</th>\n",
       "      <td>18.7</td>\n",
       "      <td>kmpl</td>\n",
       "    </tr>\n",
       "  </tbody>\n",
       "</table>\n",
       "</div>"
      ],
      "text/plain": [
       "          0     1\n",
       "523    25.4  kmpl\n",
       "5989  18.25  kmpl\n",
       "4565   17.8  kmpl\n",
       "538    17.8  kmpl\n",
       "253    18.7  kmpl"
      ]
     },
     "execution_count": 282,
     "metadata": {},
     "output_type": "execute_result"
    }
   ],
   "source": [
    "mileage_df.head()"
   ]
  },
  {
   "cell_type": "code",
   "execution_count": 283,
   "metadata": {},
   "outputs": [
    {
     "data": {
      "text/plain": [
       "kmpl     4164\n",
       "km/kg      47\n",
       "Name: 1, dtype: int64"
      ]
     },
     "execution_count": 283,
     "metadata": {},
     "output_type": "execute_result"
    }
   ],
   "source": [
    "mileage_df[1].value_counts()"
   ]
  },
  {
   "cell_type": "code",
   "execution_count": 284,
   "metadata": {},
   "outputs": [],
   "source": [
    "#Adding two columns\n",
    "mileage_df['Mileage_kmpl'] = np.nan\n",
    "mileage_df['Mileage_km/kg'] = np.nan\n",
    "\n",
    "#Filling these two columns\n",
    "mileage_df.loc[mileage_df[1]=='kmpl', 'Mileage_kmpl'] = mileage_df.loc[mileage_df[1] == 'kmpl', 0]\n",
    "mileage_df.loc[mileage_df[1]=='km/kg', 'Mileage_km/kg'] = mileage_df.loc[mileage_df[1] == 'km/kg', 0]"
   ]
  },
  {
   "cell_type": "code",
   "execution_count": 285,
   "metadata": {},
   "outputs": [
    {
     "data": {
      "text/html": [
       "<div>\n",
       "<style scoped>\n",
       "    .dataframe tbody tr th:only-of-type {\n",
       "        vertical-align: middle;\n",
       "    }\n",
       "\n",
       "    .dataframe tbody tr th {\n",
       "        vertical-align: top;\n",
       "    }\n",
       "\n",
       "    .dataframe thead th {\n",
       "        text-align: right;\n",
       "    }\n",
       "</style>\n",
       "<table border=\"1\" class=\"dataframe\">\n",
       "  <thead>\n",
       "    <tr style=\"text-align: right;\">\n",
       "      <th></th>\n",
       "      <th>0</th>\n",
       "      <th>1</th>\n",
       "      <th>Mileage_kmpl</th>\n",
       "      <th>Mileage_km/kg</th>\n",
       "    </tr>\n",
       "  </thead>\n",
       "  <tbody>\n",
       "    <tr>\n",
       "      <th>523</th>\n",
       "      <td>25.4</td>\n",
       "      <td>kmpl</td>\n",
       "      <td>25.4</td>\n",
       "      <td>NaN</td>\n",
       "    </tr>\n",
       "    <tr>\n",
       "      <th>5989</th>\n",
       "      <td>18.25</td>\n",
       "      <td>kmpl</td>\n",
       "      <td>18.25</td>\n",
       "      <td>NaN</td>\n",
       "    </tr>\n",
       "    <tr>\n",
       "      <th>4565</th>\n",
       "      <td>17.8</td>\n",
       "      <td>kmpl</td>\n",
       "      <td>17.8</td>\n",
       "      <td>NaN</td>\n",
       "    </tr>\n",
       "    <tr>\n",
       "      <th>538</th>\n",
       "      <td>17.8</td>\n",
       "      <td>kmpl</td>\n",
       "      <td>17.8</td>\n",
       "      <td>NaN</td>\n",
       "    </tr>\n",
       "    <tr>\n",
       "      <th>253</th>\n",
       "      <td>18.7</td>\n",
       "      <td>kmpl</td>\n",
       "      <td>18.7</td>\n",
       "      <td>NaN</td>\n",
       "    </tr>\n",
       "  </tbody>\n",
       "</table>\n",
       "</div>"
      ],
      "text/plain": [
       "          0     1 Mileage_kmpl Mileage_km/kg\n",
       "523    25.4  kmpl         25.4           NaN\n",
       "5989  18.25  kmpl        18.25           NaN\n",
       "4565   17.8  kmpl         17.8           NaN\n",
       "538    17.8  kmpl         17.8           NaN\n",
       "253    18.7  kmpl         18.7           NaN"
      ]
     },
     "execution_count": 285,
     "metadata": {},
     "output_type": "execute_result"
    }
   ],
   "source": [
    "mileage_df.head()"
   ]
  },
  {
   "cell_type": "code",
   "execution_count": 286,
   "metadata": {},
   "outputs": [],
   "source": [
    "mileage_df.drop([0,1], axis = 'columns', inplace = True)\n",
    "X_train = pd.concat([X_train, mileage_df], axis = 'columns')"
   ]
  },
  {
   "cell_type": "code",
   "execution_count": 287,
   "metadata": {},
   "outputs": [],
   "source": [
    "X_train.drop('Mileage', axis = 'columns', inplace = True)"
   ]
  },
  {
   "cell_type": "code",
   "execution_count": 288,
   "metadata": {},
   "outputs": [],
   "source": [
    "X_train[['Mileage_kmpl', 'Mileage_km/kg']] = X_train[['Mileage_kmpl', 'Mileage_km/kg']].astype(float)"
   ]
  },
  {
   "cell_type": "code",
   "execution_count": 289,
   "metadata": {},
   "outputs": [
    {
     "data": {
      "text/html": [
       "<div>\n",
       "<style scoped>\n",
       "    .dataframe tbody tr th:only-of-type {\n",
       "        vertical-align: middle;\n",
       "    }\n",
       "\n",
       "    .dataframe tbody tr th {\n",
       "        vertical-align: top;\n",
       "    }\n",
       "\n",
       "    .dataframe thead th {\n",
       "        text-align: right;\n",
       "    }\n",
       "</style>\n",
       "<table border=\"1\" class=\"dataframe\">\n",
       "  <thead>\n",
       "    <tr style=\"text-align: right;\">\n",
       "      <th></th>\n",
       "      <th>Name</th>\n",
       "      <th>Location</th>\n",
       "      <th>Year</th>\n",
       "      <th>Kilometers_Driven</th>\n",
       "      <th>Fuel_Type</th>\n",
       "      <th>Transmission</th>\n",
       "      <th>Owner_Type</th>\n",
       "      <th>Engine</th>\n",
       "      <th>Power</th>\n",
       "      <th>Seats</th>\n",
       "      <th>New_Price</th>\n",
       "      <th>Mileage_kmpl</th>\n",
       "      <th>Mileage_km/kg</th>\n",
       "    </tr>\n",
       "  </thead>\n",
       "  <tbody>\n",
       "    <tr>\n",
       "      <th>523</th>\n",
       "      <td>Tata Nano Twist XT</td>\n",
       "      <td>Ahmedabad</td>\n",
       "      <td>2014</td>\n",
       "      <td>18000</td>\n",
       "      <td>Petrol</td>\n",
       "      <td>Manual</td>\n",
       "      <td>Second</td>\n",
       "      <td>624 CC</td>\n",
       "      <td>37.5 bhp</td>\n",
       "      <td>4.0</td>\n",
       "      <td>NaN</td>\n",
       "      <td>25.40</td>\n",
       "      <td>NaN</td>\n",
       "    </tr>\n",
       "    <tr>\n",
       "      <th>5989</th>\n",
       "      <td>Audi A4 35 TDI Premium Plus</td>\n",
       "      <td>Coimbatore</td>\n",
       "      <td>2013</td>\n",
       "      <td>58629</td>\n",
       "      <td>Diesel</td>\n",
       "      <td>Automatic</td>\n",
       "      <td>Second</td>\n",
       "      <td>1968 CC</td>\n",
       "      <td>187.74 bhp</td>\n",
       "      <td>5.0</td>\n",
       "      <td>53.14 Lakh</td>\n",
       "      <td>18.25</td>\n",
       "      <td>NaN</td>\n",
       "    </tr>\n",
       "    <tr>\n",
       "      <th>4565</th>\n",
       "      <td>Chevrolet Beat LT</td>\n",
       "      <td>Delhi</td>\n",
       "      <td>2010</td>\n",
       "      <td>54000</td>\n",
       "      <td>Petrol</td>\n",
       "      <td>Manual</td>\n",
       "      <td>Second</td>\n",
       "      <td>1199 CC</td>\n",
       "      <td>76.8 bhp</td>\n",
       "      <td>5.0</td>\n",
       "      <td>NaN</td>\n",
       "      <td>17.80</td>\n",
       "      <td>NaN</td>\n",
       "    </tr>\n",
       "    <tr>\n",
       "      <th>538</th>\n",
       "      <td>Ford Fiesta Classic 1.4 Duratorq CLXI</td>\n",
       "      <td>Hyderabad</td>\n",
       "      <td>2012</td>\n",
       "      <td>107000</td>\n",
       "      <td>Diesel</td>\n",
       "      <td>Manual</td>\n",
       "      <td>First</td>\n",
       "      <td>1399 CC</td>\n",
       "      <td>67 bhp</td>\n",
       "      <td>5.0</td>\n",
       "      <td>NaN</td>\n",
       "      <td>17.80</td>\n",
       "      <td>NaN</td>\n",
       "    </tr>\n",
       "    <tr>\n",
       "      <th>253</th>\n",
       "      <td>Honda Jazz 1.2 VX i VTEC</td>\n",
       "      <td>Coimbatore</td>\n",
       "      <td>2017</td>\n",
       "      <td>49575</td>\n",
       "      <td>Petrol</td>\n",
       "      <td>Manual</td>\n",
       "      <td>First</td>\n",
       "      <td>1199 CC</td>\n",
       "      <td>88.7 bhp</td>\n",
       "      <td>5.0</td>\n",
       "      <td>NaN</td>\n",
       "      <td>18.70</td>\n",
       "      <td>NaN</td>\n",
       "    </tr>\n",
       "  </tbody>\n",
       "</table>\n",
       "</div>"
      ],
      "text/plain": [
       "                                       Name    Location  Year  \\\n",
       "523                      Tata Nano Twist XT   Ahmedabad  2014   \n",
       "5989            Audi A4 35 TDI Premium Plus  Coimbatore  2013   \n",
       "4565                      Chevrolet Beat LT       Delhi  2010   \n",
       "538   Ford Fiesta Classic 1.4 Duratorq CLXI   Hyderabad  2012   \n",
       "253                Honda Jazz 1.2 VX i VTEC  Coimbatore  2017   \n",
       "\n",
       "      Kilometers_Driven Fuel_Type Transmission Owner_Type   Engine  \\\n",
       "523               18000    Petrol       Manual     Second   624 CC   \n",
       "5989              58629    Diesel    Automatic     Second  1968 CC   \n",
       "4565              54000    Petrol       Manual     Second  1199 CC   \n",
       "538              107000    Diesel       Manual      First  1399 CC   \n",
       "253               49575    Petrol       Manual      First  1199 CC   \n",
       "\n",
       "           Power  Seats   New_Price  Mileage_kmpl  Mileage_km/kg  \n",
       "523     37.5 bhp    4.0         NaN         25.40            NaN  \n",
       "5989  187.74 bhp    5.0  53.14 Lakh         18.25            NaN  \n",
       "4565    76.8 bhp    5.0         NaN         17.80            NaN  \n",
       "538       67 bhp    5.0         NaN         17.80            NaN  \n",
       "253     88.7 bhp    5.0         NaN         18.70            NaN  "
      ]
     },
     "execution_count": 289,
     "metadata": {},
     "output_type": "execute_result"
    }
   ],
   "source": [
    "X_train.head()"
   ]
  },
  {
   "cell_type": "markdown",
   "metadata": {},
   "source": [
    "### Treating Missing values in Mileage"
   ]
  },
  {
   "cell_type": "code",
   "execution_count": 290,
   "metadata": {},
   "outputs": [
    {
     "data": {
      "text/html": [
       "<div>\n",
       "<style scoped>\n",
       "    .dataframe tbody tr th:only-of-type {\n",
       "        vertical-align: middle;\n",
       "    }\n",
       "\n",
       "    .dataframe tbody tr th {\n",
       "        vertical-align: top;\n",
       "    }\n",
       "\n",
       "    .dataframe thead th {\n",
       "        text-align: right;\n",
       "    }\n",
       "</style>\n",
       "<table border=\"1\" class=\"dataframe\">\n",
       "  <thead>\n",
       "    <tr style=\"text-align: right;\">\n",
       "      <th></th>\n",
       "      <th>Name</th>\n",
       "      <th>Location</th>\n",
       "      <th>Year</th>\n",
       "      <th>Kilometers_Driven</th>\n",
       "      <th>Fuel_Type</th>\n",
       "      <th>Transmission</th>\n",
       "      <th>Owner_Type</th>\n",
       "      <th>Engine</th>\n",
       "      <th>Power</th>\n",
       "      <th>Seats</th>\n",
       "      <th>New_Price</th>\n",
       "      <th>Mileage_kmpl</th>\n",
       "      <th>Mileage_km/kg</th>\n",
       "    </tr>\n",
       "  </thead>\n",
       "  <tbody>\n",
       "    <tr>\n",
       "      <th>4904</th>\n",
       "      <td>Toyota Prius 2009-2016 Z4</td>\n",
       "      <td>Mumbai</td>\n",
       "      <td>2011</td>\n",
       "      <td>44000</td>\n",
       "      <td>Electric</td>\n",
       "      <td>Automatic</td>\n",
       "      <td>First</td>\n",
       "      <td>1798 CC</td>\n",
       "      <td>73 bhp</td>\n",
       "      <td>5.0</td>\n",
       "      <td>NaN</td>\n",
       "      <td>NaN</td>\n",
       "      <td>NaN</td>\n",
       "    </tr>\n",
       "    <tr>\n",
       "      <th>4446</th>\n",
       "      <td>Mahindra E Verito D4</td>\n",
       "      <td>Chennai</td>\n",
       "      <td>2016</td>\n",
       "      <td>50000</td>\n",
       "      <td>Electric</td>\n",
       "      <td>Automatic</td>\n",
       "      <td>First</td>\n",
       "      <td>72 CC</td>\n",
       "      <td>41 bhp</td>\n",
       "      <td>5.0</td>\n",
       "      <td>13.58 Lakh</td>\n",
       "      <td>NaN</td>\n",
       "      <td>NaN</td>\n",
       "    </tr>\n",
       "  </tbody>\n",
       "</table>\n",
       "</div>"
      ],
      "text/plain": [
       "                           Name Location  Year  Kilometers_Driven Fuel_Type  \\\n",
       "4904  Toyota Prius 2009-2016 Z4   Mumbai  2011              44000  Electric   \n",
       "4446       Mahindra E Verito D4  Chennai  2016              50000  Electric   \n",
       "\n",
       "     Transmission Owner_Type   Engine   Power  Seats   New_Price  \\\n",
       "4904    Automatic      First  1798 CC  73 bhp    5.0         NaN   \n",
       "4446    Automatic      First    72 CC  41 bhp    5.0  13.58 Lakh   \n",
       "\n",
       "      Mileage_kmpl  Mileage_km/kg  \n",
       "4904           NaN            NaN  \n",
       "4446           NaN            NaN  "
      ]
     },
     "execution_count": 290,
     "metadata": {},
     "output_type": "execute_result"
    }
   ],
   "source": [
    "X_train[X_train['Mileage_kmpl'].isnull() & X_train['Mileage_km/kg'].isnull()]"
   ]
  },
  {
   "cell_type": "markdown",
   "metadata": {},
   "source": [
    "**Comments**: No missing values in Mileage now (as Electric type has no fuel)"
   ]
  },
  {
   "cell_type": "markdown",
   "metadata": {},
   "source": [
    "### Plotting Mileage Feature"
   ]
  },
  {
   "cell_type": "code",
   "execution_count": 291,
   "metadata": {
    "scrolled": true
   },
   "outputs": [
    {
     "data": {
      "text/plain": [
       "<matplotlib.axes._subplots.AxesSubplot at 0x19dafbeee80>"
      ]
     },
     "execution_count": 291,
     "metadata": {},
     "output_type": "execute_result"
    },
    {
     "data": {
      "image/png": "[encoded data removed]",
      "text/plain": [
       "<Figure size 432x288 with 1 Axes>"
      ]
     },
     "metadata": {
      "needs_background": "light"
     },
     "output_type": "display_data"
    }
   ],
   "source": [
    "X_train['Mileage_kmpl'].hist()"
   ]
  },
  {
   "cell_type": "code",
   "execution_count": 292,
   "metadata": {},
   "outputs": [
    {
     "data": {
      "text/plain": [
       "count    4164.000000\n",
       "mean       18.017166\n",
       "std         4.462597\n",
       "min         0.000000\n",
       "25%        15.100000\n",
       "50%        18.000000\n",
       "75%        20.890000\n",
       "max        28.400000\n",
       "Name: Mileage_kmpl, dtype: float64"
      ]
     },
     "execution_count": 292,
     "metadata": {},
     "output_type": "execute_result"
    }
   ],
   "source": [
    "X_train['Mileage_kmpl'].describe()"
   ]
  },
  {
   "cell_type": "code",
   "execution_count": 293,
   "metadata": {},
   "outputs": [],
   "source": [
    "mileage_mean = X_train['Mileage_kmpl'].mean()"
   ]
  },
  {
   "cell_type": "markdown",
   "metadata": {},
   "source": [
    "### Need to remove zeros in Mileage"
   ]
  },
  {
   "cell_type": "code",
   "execution_count": 294,
   "metadata": {},
   "outputs": [
    {
     "data": {
      "text/html": [
       "<div>\n",
       "<style scoped>\n",
       "    .dataframe tbody tr th:only-of-type {\n",
       "        vertical-align: middle;\n",
       "    }\n",
       "\n",
       "    .dataframe tbody tr th {\n",
       "        vertical-align: top;\n",
       "    }\n",
       "\n",
       "    .dataframe thead th {\n",
       "        text-align: right;\n",
       "    }\n",
       "</style>\n",
       "<table border=\"1\" class=\"dataframe\">\n",
       "  <thead>\n",
       "    <tr style=\"text-align: right;\">\n",
       "      <th></th>\n",
       "      <th>Name</th>\n",
       "      <th>Location</th>\n",
       "      <th>Year</th>\n",
       "      <th>Kilometers_Driven</th>\n",
       "      <th>Fuel_Type</th>\n",
       "      <th>Transmission</th>\n",
       "      <th>Owner_Type</th>\n",
       "      <th>Engine</th>\n",
       "      <th>Power</th>\n",
       "      <th>Seats</th>\n",
       "      <th>New_Price</th>\n",
       "      <th>Mileage_kmpl</th>\n",
       "      <th>Mileage_km/kg</th>\n",
       "    </tr>\n",
       "  </thead>\n",
       "  <tbody>\n",
       "    <tr>\n",
       "      <th>5016</th>\n",
       "      <td>Land Rover Freelander 2 TD4 HSE</td>\n",
       "      <td>Delhi</td>\n",
       "      <td>2013</td>\n",
       "      <td>72000</td>\n",
       "      <td>Diesel</td>\n",
       "      <td>Automatic</td>\n",
       "      <td>First</td>\n",
       "      <td>2179 CC</td>\n",
       "      <td>115 bhp</td>\n",
       "      <td>5.0</td>\n",
       "      <td>NaN</td>\n",
       "      <td>0.0</td>\n",
       "      <td>NaN</td>\n",
       "    </tr>\n",
       "    <tr>\n",
       "      <th>2597</th>\n",
       "      <td>Hyundai Santro Xing XP</td>\n",
       "      <td>Pune</td>\n",
       "      <td>2007</td>\n",
       "      <td>70000</td>\n",
       "      <td>Petrol</td>\n",
       "      <td>Manual</td>\n",
       "      <td>First</td>\n",
       "      <td>1086 CC</td>\n",
       "      <td>null bhp</td>\n",
       "      <td>5.0</td>\n",
       "      <td>NaN</td>\n",
       "      <td>0.0</td>\n",
       "      <td>NaN</td>\n",
       "    </tr>\n",
       "    <tr>\n",
       "      <th>424</th>\n",
       "      <td>Volkswagen Jetta 2007-2011 1.9 L TDI</td>\n",
       "      <td>Hyderabad</td>\n",
       "      <td>2010</td>\n",
       "      <td>42021</td>\n",
       "      <td>Diesel</td>\n",
       "      <td>Manual</td>\n",
       "      <td>First</td>\n",
       "      <td>1968 CC</td>\n",
       "      <td>null bhp</td>\n",
       "      <td>5.0</td>\n",
       "      <td>NaN</td>\n",
       "      <td>0.0</td>\n",
       "      <td>NaN</td>\n",
       "    </tr>\n",
       "    <tr>\n",
       "      <th>2096</th>\n",
       "      <td>Hyundai Santro LP zipPlus</td>\n",
       "      <td>Coimbatore</td>\n",
       "      <td>2004</td>\n",
       "      <td>52146</td>\n",
       "      <td>Petrol</td>\n",
       "      <td>Manual</td>\n",
       "      <td>First</td>\n",
       "      <td>NaN</td>\n",
       "      <td>NaN</td>\n",
       "      <td>NaN</td>\n",
       "      <td>NaN</td>\n",
       "      <td>0.0</td>\n",
       "      <td>NaN</td>\n",
       "    </tr>\n",
       "    <tr>\n",
       "      <th>5875</th>\n",
       "      <td>Mercedes-Benz C-Class Progressive C 220d</td>\n",
       "      <td>Ahmedabad</td>\n",
       "      <td>2019</td>\n",
       "      <td>4000</td>\n",
       "      <td>Diesel</td>\n",
       "      <td>Automatic</td>\n",
       "      <td>First</td>\n",
       "      <td>1950 CC</td>\n",
       "      <td>194 bhp</td>\n",
       "      <td>5.0</td>\n",
       "      <td>49.14 Lakh</td>\n",
       "      <td>0.0</td>\n",
       "      <td>NaN</td>\n",
       "    </tr>\n",
       "  </tbody>\n",
       "</table>\n",
       "</div>"
      ],
      "text/plain": [
       "                                          Name    Location  Year  \\\n",
       "5016           Land Rover Freelander 2 TD4 HSE       Delhi  2013   \n",
       "2597                    Hyundai Santro Xing XP        Pune  2007   \n",
       "424       Volkswagen Jetta 2007-2011 1.9 L TDI   Hyderabad  2010   \n",
       "2096                 Hyundai Santro LP zipPlus  Coimbatore  2004   \n",
       "5875  Mercedes-Benz C-Class Progressive C 220d   Ahmedabad  2019   \n",
       "\n",
       "      Kilometers_Driven Fuel_Type Transmission Owner_Type   Engine     Power  \\\n",
       "5016              72000    Diesel    Automatic      First  2179 CC   115 bhp   \n",
       "2597              70000    Petrol       Manual      First  1086 CC  null bhp   \n",
       "424               42021    Diesel       Manual      First  1968 CC  null bhp   \n",
       "2096              52146    Petrol       Manual      First      NaN       NaN   \n",
       "5875               4000    Diesel    Automatic      First  1950 CC   194 bhp   \n",
       "\n",
       "      Seats   New_Price  Mileage_kmpl  Mileage_km/kg  \n",
       "5016    5.0         NaN           0.0            NaN  \n",
       "2597    5.0         NaN           0.0            NaN  \n",
       "424     5.0         NaN           0.0            NaN  \n",
       "2096    NaN         NaN           0.0            NaN  \n",
       "5875    5.0  49.14 Lakh           0.0            NaN  "
      ]
     },
     "execution_count": 294,
     "metadata": {},
     "output_type": "execute_result"
    }
   ],
   "source": [
    "X_train[X_train['Mileage_kmpl'] == 0.0].head()"
   ]
  },
  {
   "cell_type": "code",
   "execution_count": 295,
   "metadata": {},
   "outputs": [],
   "source": [
    "X_train.loc[X_train['Mileage_kmpl'] == 0.0, 'Mileage_kmpl'] = mileage_mean"
   ]
  },
  {
   "cell_type": "code",
   "execution_count": 296,
   "metadata": {},
   "outputs": [
    {
     "data": {
      "text/plain": [
       "<matplotlib.axes._subplots.AxesSubplot at 0x19dafec3e10>"
      ]
     },
     "execution_count": 296,
     "metadata": {},
     "output_type": "execute_result"
    },
    {
     "data": {
      "image/png": "[encoded data removed]",
      "text/plain": [
       "<Figure size 432x288 with 1 Axes>"
      ]
     },
     "metadata": {
      "needs_background": "light"
     },
     "output_type": "display_data"
    }
   ],
   "source": [
    "X_train['Mileage_kmpl'].hist()"
   ]
  },
  {
   "cell_type": "markdown",
   "metadata": {},
   "source": [
    "# Final Mileage Formatting Function"
   ]
  },
  {
   "cell_type": "code",
   "execution_count": 297,
   "metadata": {},
   "outputs": [],
   "source": [
    "def mileage_format(X, mean):\n",
    "    mileage_df = X['Mileage'].str.split(\" \", expand = True)\n",
    "    \n",
    "    #Adding two columns\n",
    "    mileage_df['Mileage_kmpl'] = np.nan\n",
    "    mileage_df['Mileage_km/kg'] = np.nan\n",
    "\n",
    "    #Filling these two columns\n",
    "    mileage_df.loc[mileage_df[1]=='kmpl', 'Mileage_kmpl'] = mileage_df.loc[mileage_df[1] == 'kmpl', 0]\n",
    "    mileage_df.loc[mileage_df[1]=='km/kg', 'Mileage_km/kg'] = mileage_df.loc[mileage_df[1] == 'km/kg', 0]\n",
    "    \n",
    "    #merging these two\n",
    "    mileage_df.drop([0,1], axis = 'columns', inplace = True)\n",
    "    X_new = pd.concat([X, mileage_df], axis = 'columns')\n",
    "    \n",
    "    #Deleting extra columns\n",
    "    X_new.drop('Mileage', axis = 'columns', inplace = True)\n",
    "    \n",
    "    #Converting to float\n",
    "    X_new[['Mileage_kmpl', 'Mileage_km/kg']] = X_new[['Mileage_kmpl', 'Mileage_km/kg']].astype(float)\n",
    "    \n",
    "    #Missing value to average\n",
    "    X_new.loc[X_new['Mileage_kmpl'] == 0.0, 'Mileage_kmpl'] = mean\n",
    "    \n",
    "    return X_new"
   ]
  },
  {
   "cell_type": "markdown",
   "metadata": {},
   "source": [
    "# 2. Engine Feature"
   ]
  },
  {
   "cell_type": "code",
   "execution_count": 298,
   "metadata": {},
   "outputs": [
    {
     "data": {
      "text/html": [
       "<div>\n",
       "<style scoped>\n",
       "    .dataframe tbody tr th:only-of-type {\n",
       "        vertical-align: middle;\n",
       "    }\n",
       "\n",
       "    .dataframe tbody tr th {\n",
       "        vertical-align: top;\n",
       "    }\n",
       "\n",
       "    .dataframe thead th {\n",
       "        text-align: right;\n",
       "    }\n",
       "</style>\n",
       "<table border=\"1\" class=\"dataframe\">\n",
       "  <thead>\n",
       "    <tr style=\"text-align: right;\">\n",
       "      <th></th>\n",
       "      <th>Name</th>\n",
       "      <th>Location</th>\n",
       "      <th>Year</th>\n",
       "      <th>Kilometers_Driven</th>\n",
       "      <th>Fuel_Type</th>\n",
       "      <th>Transmission</th>\n",
       "      <th>Owner_Type</th>\n",
       "      <th>Engine</th>\n",
       "      <th>Power</th>\n",
       "      <th>Seats</th>\n",
       "      <th>New_Price</th>\n",
       "      <th>Mileage_kmpl</th>\n",
       "      <th>Mileage_km/kg</th>\n",
       "    </tr>\n",
       "  </thead>\n",
       "  <tbody>\n",
       "    <tr>\n",
       "      <th>2325</th>\n",
       "      <td>Maruti Swift 1.3 VXI ABS</td>\n",
       "      <td>Pune</td>\n",
       "      <td>2015</td>\n",
       "      <td>67000</td>\n",
       "      <td>Petrol</td>\n",
       "      <td>Manual</td>\n",
       "      <td>First</td>\n",
       "      <td>NaN</td>\n",
       "      <td>NaN</td>\n",
       "      <td>NaN</td>\n",
       "      <td>NaN</td>\n",
       "      <td>16.100000</td>\n",
       "      <td>NaN</td>\n",
       "    </tr>\n",
       "    <tr>\n",
       "      <th>2096</th>\n",
       "      <td>Hyundai Santro LP zipPlus</td>\n",
       "      <td>Coimbatore</td>\n",
       "      <td>2004</td>\n",
       "      <td>52146</td>\n",
       "      <td>Petrol</td>\n",
       "      <td>Manual</td>\n",
       "      <td>First</td>\n",
       "      <td>NaN</td>\n",
       "      <td>NaN</td>\n",
       "      <td>NaN</td>\n",
       "      <td>NaN</td>\n",
       "      <td>18.017166</td>\n",
       "      <td>NaN</td>\n",
       "    </tr>\n",
       "    <tr>\n",
       "      <th>5185</th>\n",
       "      <td>Maruti Swift 1.3 LXI</td>\n",
       "      <td>Delhi</td>\n",
       "      <td>2012</td>\n",
       "      <td>52000</td>\n",
       "      <td>Petrol</td>\n",
       "      <td>Manual</td>\n",
       "      <td>First</td>\n",
       "      <td>NaN</td>\n",
       "      <td>NaN</td>\n",
       "      <td>NaN</td>\n",
       "      <td>NaN</td>\n",
       "      <td>16.100000</td>\n",
       "      <td>NaN</td>\n",
       "    </tr>\n",
       "    <tr>\n",
       "      <th>2842</th>\n",
       "      <td>Hyundai Santro GLS II - Euro II</td>\n",
       "      <td>Bangalore</td>\n",
       "      <td>2012</td>\n",
       "      <td>43000</td>\n",
       "      <td>Petrol</td>\n",
       "      <td>Manual</td>\n",
       "      <td>First</td>\n",
       "      <td>NaN</td>\n",
       "      <td>NaN</td>\n",
       "      <td>NaN</td>\n",
       "      <td>NaN</td>\n",
       "      <td>18.017166</td>\n",
       "      <td>NaN</td>\n",
       "    </tr>\n",
       "    <tr>\n",
       "      <th>2074</th>\n",
       "      <td>Maruti Swift 1.3 LXI</td>\n",
       "      <td>Pune</td>\n",
       "      <td>2011</td>\n",
       "      <td>24255</td>\n",
       "      <td>Petrol</td>\n",
       "      <td>Manual</td>\n",
       "      <td>First</td>\n",
       "      <td>NaN</td>\n",
       "      <td>NaN</td>\n",
       "      <td>NaN</td>\n",
       "      <td>NaN</td>\n",
       "      <td>16.100000</td>\n",
       "      <td>NaN</td>\n",
       "    </tr>\n",
       "  </tbody>\n",
       "</table>\n",
       "</div>"
      ],
      "text/plain": [
       "                                 Name    Location  Year  Kilometers_Driven  \\\n",
       "2325         Maruti Swift 1.3 VXI ABS        Pune  2015              67000   \n",
       "2096        Hyundai Santro LP zipPlus  Coimbatore  2004              52146   \n",
       "5185             Maruti Swift 1.3 LXI       Delhi  2012              52000   \n",
       "2842  Hyundai Santro GLS II - Euro II   Bangalore  2012              43000   \n",
       "2074             Maruti Swift 1.3 LXI        Pune  2011              24255   \n",
       "\n",
       "     Fuel_Type Transmission Owner_Type Engine Power  Seats New_Price  \\\n",
       "2325    Petrol       Manual      First    NaN   NaN    NaN       NaN   \n",
       "2096    Petrol       Manual      First    NaN   NaN    NaN       NaN   \n",
       "5185    Petrol       Manual      First    NaN   NaN    NaN       NaN   \n",
       "2842    Petrol       Manual      First    NaN   NaN    NaN       NaN   \n",
       "2074    Petrol       Manual      First    NaN   NaN    NaN       NaN   \n",
       "\n",
       "      Mileage_kmpl  Mileage_km/kg  \n",
       "2325     16.100000            NaN  \n",
       "2096     18.017166            NaN  \n",
       "5185     16.100000            NaN  \n",
       "2842     18.017166            NaN  \n",
       "2074     16.100000            NaN  "
      ]
     },
     "execution_count": 298,
     "metadata": {},
     "output_type": "execute_result"
    }
   ],
   "source": [
    "X_train[X_train['Engine'].isnull()].head()"
   ]
  },
  {
   "cell_type": "code",
   "execution_count": 299,
   "metadata": {},
   "outputs": [
    {
     "data": {
      "text/plain": [
       "23"
      ]
     },
     "execution_count": 299,
     "metadata": {},
     "output_type": "execute_result"
    }
   ],
   "source": [
    "X_train['Engine'].isnull().sum()"
   ]
  },
  {
   "cell_type": "code",
   "execution_count": 300,
   "metadata": {},
   "outputs": [],
   "source": [
    "engine_df = X_train['Engine'].str.split(\" CC\", expand = True)"
   ]
  },
  {
   "cell_type": "code",
   "execution_count": 301,
   "metadata": {
    "scrolled": true
   },
   "outputs": [
    {
     "data": {
      "text/html": [
       "<div>\n",
       "<style scoped>\n",
       "    .dataframe tbody tr th:only-of-type {\n",
       "        vertical-align: middle;\n",
       "    }\n",
       "\n",
       "    .dataframe tbody tr th {\n",
       "        vertical-align: top;\n",
       "    }\n",
       "\n",
       "    .dataframe thead th {\n",
       "        text-align: right;\n",
       "    }\n",
       "</style>\n",
       "<table border=\"1\" class=\"dataframe\">\n",
       "  <thead>\n",
       "    <tr style=\"text-align: right;\">\n",
       "      <th></th>\n",
       "      <th>0</th>\n",
       "      <th>1</th>\n",
       "    </tr>\n",
       "  </thead>\n",
       "  <tbody>\n",
       "    <tr>\n",
       "      <th>523</th>\n",
       "      <td>624</td>\n",
       "      <td></td>\n",
       "    </tr>\n",
       "    <tr>\n",
       "      <th>5989</th>\n",
       "      <td>1968</td>\n",
       "      <td></td>\n",
       "    </tr>\n",
       "    <tr>\n",
       "      <th>4565</th>\n",
       "      <td>1199</td>\n",
       "      <td></td>\n",
       "    </tr>\n",
       "    <tr>\n",
       "      <th>538</th>\n",
       "      <td>1399</td>\n",
       "      <td></td>\n",
       "    </tr>\n",
       "    <tr>\n",
       "      <th>253</th>\n",
       "      <td>1199</td>\n",
       "      <td></td>\n",
       "    </tr>\n",
       "  </tbody>\n",
       "</table>\n",
       "</div>"
      ],
      "text/plain": [
       "         0 1\n",
       "523    624  \n",
       "5989  1968  \n",
       "4565  1199  \n",
       "538   1399  \n",
       "253   1199  "
      ]
     },
     "execution_count": 301,
     "metadata": {},
     "output_type": "execute_result"
    }
   ],
   "source": [
    "engine_df.head()"
   ]
  },
  {
   "cell_type": "code",
   "execution_count": 302,
   "metadata": {},
   "outputs": [],
   "source": [
    "engine_df[0] = engine_df[0].astype(float)"
   ]
  },
  {
   "cell_type": "code",
   "execution_count": 303,
   "metadata": {},
   "outputs": [
    {
     "data": {
      "text/html": [
       "<div>\n",
       "<style scoped>\n",
       "    .dataframe tbody tr th:only-of-type {\n",
       "        vertical-align: middle;\n",
       "    }\n",
       "\n",
       "    .dataframe tbody tr th {\n",
       "        vertical-align: top;\n",
       "    }\n",
       "\n",
       "    .dataframe thead th {\n",
       "        text-align: right;\n",
       "    }\n",
       "</style>\n",
       "<table border=\"1\" class=\"dataframe\">\n",
       "  <thead>\n",
       "    <tr style=\"text-align: right;\">\n",
       "      <th></th>\n",
       "      <th>0</th>\n",
       "      <th>1</th>\n",
       "    </tr>\n",
       "  </thead>\n",
       "  <tbody>\n",
       "    <tr>\n",
       "      <th>523</th>\n",
       "      <td>624.0</td>\n",
       "      <td></td>\n",
       "    </tr>\n",
       "    <tr>\n",
       "      <th>5989</th>\n",
       "      <td>1968.0</td>\n",
       "      <td></td>\n",
       "    </tr>\n",
       "    <tr>\n",
       "      <th>4565</th>\n",
       "      <td>1199.0</td>\n",
       "      <td></td>\n",
       "    </tr>\n",
       "    <tr>\n",
       "      <th>538</th>\n",
       "      <td>1399.0</td>\n",
       "      <td></td>\n",
       "    </tr>\n",
       "    <tr>\n",
       "      <th>253</th>\n",
       "      <td>1199.0</td>\n",
       "      <td></td>\n",
       "    </tr>\n",
       "  </tbody>\n",
       "</table>\n",
       "</div>"
      ],
      "text/plain": [
       "           0 1\n",
       "523    624.0  \n",
       "5989  1968.0  \n",
       "4565  1199.0  \n",
       "538   1399.0  \n",
       "253   1199.0  "
      ]
     },
     "execution_count": 303,
     "metadata": {},
     "output_type": "execute_result"
    }
   ],
   "source": [
    "engine_df.head()"
   ]
  },
  {
   "cell_type": "code",
   "execution_count": 304,
   "metadata": {},
   "outputs": [
    {
     "data": {
      "text/plain": [
       "<matplotlib.axes._subplots.AxesSubplot at 0x19daff98518>"
      ]
     },
     "execution_count": 304,
     "metadata": {},
     "output_type": "execute_result"
    },
    {
     "data": {
      "image/png": "[encoded data removed]",
      "text/plain": [
       "<Figure size 432x288 with 1 Axes>"
      ]
     },
     "metadata": {
      "needs_background": "light"
     },
     "output_type": "display_data"
    }
   ],
   "source": [
    "engine_df[0].hist(bins=25)"
   ]
  },
  {
   "cell_type": "markdown",
   "metadata": {},
   "source": [
    "### Some Outliers seem to be present in Engine"
   ]
  },
  {
   "cell_type": "code",
   "execution_count": 305,
   "metadata": {
    "scrolled": true
   },
   "outputs": [
    {
     "data": {
      "text/html": [
       "<div>\n",
       "<style scoped>\n",
       "    .dataframe tbody tr th:only-of-type {\n",
       "        vertical-align: middle;\n",
       "    }\n",
       "\n",
       "    .dataframe tbody tr th {\n",
       "        vertical-align: top;\n",
       "    }\n",
       "\n",
       "    .dataframe thead th {\n",
       "        text-align: right;\n",
       "    }\n",
       "</style>\n",
       "<table border=\"1\" class=\"dataframe\">\n",
       "  <thead>\n",
       "    <tr style=\"text-align: right;\">\n",
       "      <th></th>\n",
       "      <th>Name</th>\n",
       "      <th>Location</th>\n",
       "      <th>Year</th>\n",
       "      <th>Kilometers_Driven</th>\n",
       "      <th>Fuel_Type</th>\n",
       "      <th>Transmission</th>\n",
       "      <th>Owner_Type</th>\n",
       "      <th>Engine</th>\n",
       "      <th>Power</th>\n",
       "      <th>Seats</th>\n",
       "      <th>New_Price</th>\n",
       "      <th>Mileage_kmpl</th>\n",
       "      <th>Mileage_km/kg</th>\n",
       "    </tr>\n",
       "  </thead>\n",
       "  <tbody>\n",
       "    <tr>\n",
       "      <th>5781</th>\n",
       "      <td>Lamborghini Gallardo Coupe</td>\n",
       "      <td>Delhi</td>\n",
       "      <td>2011</td>\n",
       "      <td>6500</td>\n",
       "      <td>Petrol</td>\n",
       "      <td>Automatic</td>\n",
       "      <td>Third</td>\n",
       "      <td>5204 CC</td>\n",
       "      <td>560 bhp</td>\n",
       "      <td>2.0</td>\n",
       "      <td>NaN</td>\n",
       "      <td>6.40</td>\n",
       "      <td>NaN</td>\n",
       "    </tr>\n",
       "    <tr>\n",
       "      <th>3341</th>\n",
       "      <td>BMW 7 Series 2007-2012 750Li</td>\n",
       "      <td>Kochi</td>\n",
       "      <td>2010</td>\n",
       "      <td>50161</td>\n",
       "      <td>Petrol</td>\n",
       "      <td>Automatic</td>\n",
       "      <td>First</td>\n",
       "      <td>4395 CC</td>\n",
       "      <td>402 bhp</td>\n",
       "      <td>5.0</td>\n",
       "      <td>NaN</td>\n",
       "      <td>8.77</td>\n",
       "      <td>NaN</td>\n",
       "    </tr>\n",
       "    <tr>\n",
       "      <th>4691</th>\n",
       "      <td>Mercedes-Benz SLK-Class 55 AMG</td>\n",
       "      <td>Bangalore</td>\n",
       "      <td>2014</td>\n",
       "      <td>3000</td>\n",
       "      <td>Petrol</td>\n",
       "      <td>Automatic</td>\n",
       "      <td>Second</td>\n",
       "      <td>5461 CC</td>\n",
       "      <td>421 bhp</td>\n",
       "      <td>2.0</td>\n",
       "      <td>NaN</td>\n",
       "      <td>12.00</td>\n",
       "      <td>NaN</td>\n",
       "    </tr>\n",
       "    <tr>\n",
       "      <th>5416</th>\n",
       "      <td>Land Rover Range Rover Vogue SE 4.4 SDV8</td>\n",
       "      <td>Coimbatore</td>\n",
       "      <td>2013</td>\n",
       "      <td>75995</td>\n",
       "      <td>Diesel</td>\n",
       "      <td>Automatic</td>\n",
       "      <td>Second</td>\n",
       "      <td>4367 CC</td>\n",
       "      <td>335.3 bhp</td>\n",
       "      <td>5.0</td>\n",
       "      <td>NaN</td>\n",
       "      <td>11.49</td>\n",
       "      <td>NaN</td>\n",
       "    </tr>\n",
       "    <tr>\n",
       "      <th>926</th>\n",
       "      <td>Porsche Cayman 2009-2012 S</td>\n",
       "      <td>Hyderabad</td>\n",
       "      <td>2010</td>\n",
       "      <td>10000</td>\n",
       "      <td>Petrol</td>\n",
       "      <td>Manual</td>\n",
       "      <td>First</td>\n",
       "      <td>3436 CC</td>\n",
       "      <td>null bhp</td>\n",
       "      <td>2.0</td>\n",
       "      <td>NaN</td>\n",
       "      <td>9.00</td>\n",
       "      <td>NaN</td>\n",
       "    </tr>\n",
       "  </tbody>\n",
       "</table>\n",
       "</div>"
      ],
      "text/plain": [
       "                                          Name    Location  Year  \\\n",
       "5781                Lamborghini Gallardo Coupe       Delhi  2011   \n",
       "3341              BMW 7 Series 2007-2012 750Li       Kochi  2010   \n",
       "4691            Mercedes-Benz SLK-Class 55 AMG   Bangalore  2014   \n",
       "5416  Land Rover Range Rover Vogue SE 4.4 SDV8  Coimbatore  2013   \n",
       "926                 Porsche Cayman 2009-2012 S   Hyderabad  2010   \n",
       "\n",
       "      Kilometers_Driven Fuel_Type Transmission Owner_Type   Engine      Power  \\\n",
       "5781               6500    Petrol    Automatic      Third  5204 CC    560 bhp   \n",
       "3341              50161    Petrol    Automatic      First  4395 CC    402 bhp   \n",
       "4691               3000    Petrol    Automatic     Second  5461 CC    421 bhp   \n",
       "5416              75995    Diesel    Automatic     Second  4367 CC  335.3 bhp   \n",
       "926               10000    Petrol       Manual      First  3436 CC   null bhp   \n",
       "\n",
       "      Seats New_Price  Mileage_kmpl  Mileage_km/kg  \n",
       "5781    2.0       NaN          6.40            NaN  \n",
       "3341    5.0       NaN          8.77            NaN  \n",
       "4691    2.0       NaN         12.00            NaN  \n",
       "5416    5.0       NaN         11.49            NaN  \n",
       "926     2.0       NaN          9.00            NaN  "
      ]
     },
     "execution_count": 305,
     "metadata": {},
     "output_type": "execute_result"
    }
   ],
   "source": [
    "X_train[engine_df[0] > 3000].head()"
   ]
  },
  {
   "cell_type": "markdown",
   "metadata": {},
   "source": [
    "**Comment: NOT an Outlier. Engine Power above 3000 CC are luxury cars. Hence DOES affect Price**"
   ]
  },
  {
   "cell_type": "code",
   "execution_count": 306,
   "metadata": {},
   "outputs": [],
   "source": [
    "engine_df['log_transform'] = np.log(1 + engine_df[0].values)"
   ]
  },
  {
   "cell_type": "code",
   "execution_count": 307,
   "metadata": {},
   "outputs": [
    {
     "data": {
      "text/plain": [
       "<matplotlib.axes._subplots.AxesSubplot at 0x19daffcaf60>"
      ]
     },
     "execution_count": 307,
     "metadata": {},
     "output_type": "execute_result"
    },
    {
     "data": {
      "image/png": "[encoded data removed]",
      "text/plain": [
       "<Figure size 432x288 with 1 Axes>"
      ]
     },
     "metadata": {
      "needs_background": "light"
     },
     "output_type": "display_data"
    }
   ],
   "source": [
    "engine_df['log_transform'].hist()"
   ]
  },
  {
   "cell_type": "code",
   "execution_count": 308,
   "metadata": {},
   "outputs": [
    {
     "data": {
      "text/plain": [
       "count    4190.000000\n",
       "mean        7.331936\n",
       "std         0.341278\n",
       "min         4.290459\n",
       "25%         7.089243\n",
       "50%         7.309212\n",
       "75%         7.596894\n",
       "max         8.605570\n",
       "Name: log_transform, dtype: float64"
      ]
     },
     "execution_count": 308,
     "metadata": {},
     "output_type": "execute_result"
    }
   ],
   "source": [
    "engine_df['log_transform'].describe()"
   ]
  },
  {
   "cell_type": "code",
   "execution_count": 309,
   "metadata": {},
   "outputs": [
    {
     "data": {
      "text/html": [
       "<div>\n",
       "<style scoped>\n",
       "    .dataframe tbody tr th:only-of-type {\n",
       "        vertical-align: middle;\n",
       "    }\n",
       "\n",
       "    .dataframe tbody tr th {\n",
       "        vertical-align: top;\n",
       "    }\n",
       "\n",
       "    .dataframe thead th {\n",
       "        text-align: right;\n",
       "    }\n",
       "</style>\n",
       "<table border=\"1\" class=\"dataframe\">\n",
       "  <thead>\n",
       "    <tr style=\"text-align: right;\">\n",
       "      <th></th>\n",
       "      <th>Name</th>\n",
       "      <th>Location</th>\n",
       "      <th>Year</th>\n",
       "      <th>Kilometers_Driven</th>\n",
       "      <th>Fuel_Type</th>\n",
       "      <th>Transmission</th>\n",
       "      <th>Owner_Type</th>\n",
       "      <th>Engine</th>\n",
       "      <th>Power</th>\n",
       "      <th>Seats</th>\n",
       "      <th>New_Price</th>\n",
       "      <th>Mileage_kmpl</th>\n",
       "      <th>Mileage_km/kg</th>\n",
       "    </tr>\n",
       "  </thead>\n",
       "  <tbody>\n",
       "    <tr>\n",
       "      <th>2325</th>\n",
       "      <td>Maruti Swift 1.3 VXI ABS</td>\n",
       "      <td>Pune</td>\n",
       "      <td>2015</td>\n",
       "      <td>67000</td>\n",
       "      <td>Petrol</td>\n",
       "      <td>Manual</td>\n",
       "      <td>First</td>\n",
       "      <td>NaN</td>\n",
       "      <td>NaN</td>\n",
       "      <td>NaN</td>\n",
       "      <td>NaN</td>\n",
       "      <td>16.100000</td>\n",
       "      <td>NaN</td>\n",
       "    </tr>\n",
       "    <tr>\n",
       "      <th>2096</th>\n",
       "      <td>Hyundai Santro LP zipPlus</td>\n",
       "      <td>Coimbatore</td>\n",
       "      <td>2004</td>\n",
       "      <td>52146</td>\n",
       "      <td>Petrol</td>\n",
       "      <td>Manual</td>\n",
       "      <td>First</td>\n",
       "      <td>NaN</td>\n",
       "      <td>NaN</td>\n",
       "      <td>NaN</td>\n",
       "      <td>NaN</td>\n",
       "      <td>18.017166</td>\n",
       "      <td>NaN</td>\n",
       "    </tr>\n",
       "    <tr>\n",
       "      <th>5185</th>\n",
       "      <td>Maruti Swift 1.3 LXI</td>\n",
       "      <td>Delhi</td>\n",
       "      <td>2012</td>\n",
       "      <td>52000</td>\n",
       "      <td>Petrol</td>\n",
       "      <td>Manual</td>\n",
       "      <td>First</td>\n",
       "      <td>NaN</td>\n",
       "      <td>NaN</td>\n",
       "      <td>NaN</td>\n",
       "      <td>NaN</td>\n",
       "      <td>16.100000</td>\n",
       "      <td>NaN</td>\n",
       "    </tr>\n",
       "    <tr>\n",
       "      <th>2842</th>\n",
       "      <td>Hyundai Santro GLS II - Euro II</td>\n",
       "      <td>Bangalore</td>\n",
       "      <td>2012</td>\n",
       "      <td>43000</td>\n",
       "      <td>Petrol</td>\n",
       "      <td>Manual</td>\n",
       "      <td>First</td>\n",
       "      <td>NaN</td>\n",
       "      <td>NaN</td>\n",
       "      <td>NaN</td>\n",
       "      <td>NaN</td>\n",
       "      <td>18.017166</td>\n",
       "      <td>NaN</td>\n",
       "    </tr>\n",
       "    <tr>\n",
       "      <th>2074</th>\n",
       "      <td>Maruti Swift 1.3 LXI</td>\n",
       "      <td>Pune</td>\n",
       "      <td>2011</td>\n",
       "      <td>24255</td>\n",
       "      <td>Petrol</td>\n",
       "      <td>Manual</td>\n",
       "      <td>First</td>\n",
       "      <td>NaN</td>\n",
       "      <td>NaN</td>\n",
       "      <td>NaN</td>\n",
       "      <td>NaN</td>\n",
       "      <td>16.100000</td>\n",
       "      <td>NaN</td>\n",
       "    </tr>\n",
       "  </tbody>\n",
       "</table>\n",
       "</div>"
      ],
      "text/plain": [
       "                                 Name    Location  Year  Kilometers_Driven  \\\n",
       "2325         Maruti Swift 1.3 VXI ABS        Pune  2015              67000   \n",
       "2096        Hyundai Santro LP zipPlus  Coimbatore  2004              52146   \n",
       "5185             Maruti Swift 1.3 LXI       Delhi  2012              52000   \n",
       "2842  Hyundai Santro GLS II - Euro II   Bangalore  2012              43000   \n",
       "2074             Maruti Swift 1.3 LXI        Pune  2011              24255   \n",
       "\n",
       "     Fuel_Type Transmission Owner_Type Engine Power  Seats New_Price  \\\n",
       "2325    Petrol       Manual      First    NaN   NaN    NaN       NaN   \n",
       "2096    Petrol       Manual      First    NaN   NaN    NaN       NaN   \n",
       "5185    Petrol       Manual      First    NaN   NaN    NaN       NaN   \n",
       "2842    Petrol       Manual      First    NaN   NaN    NaN       NaN   \n",
       "2074    Petrol       Manual      First    NaN   NaN    NaN       NaN   \n",
       "\n",
       "      Mileage_kmpl  Mileage_km/kg  \n",
       "2325     16.100000            NaN  \n",
       "2096     18.017166            NaN  \n",
       "5185     16.100000            NaN  \n",
       "2842     18.017166            NaN  \n",
       "2074     16.100000            NaN  "
      ]
     },
     "execution_count": 309,
     "metadata": {},
     "output_type": "execute_result"
    }
   ],
   "source": [
    "X_train[engine_df['log_transform'].isnull()].head()"
   ]
  },
  {
   "cell_type": "code",
   "execution_count": 310,
   "metadata": {},
   "outputs": [],
   "source": [
    "engine_df['log_transform'].fillna(engine_df['log_transform'].mean(), inplace = True)"
   ]
  },
  {
   "cell_type": "code",
   "execution_count": 311,
   "metadata": {},
   "outputs": [
    {
     "data": {
      "text/plain": [
       "False"
      ]
     },
     "execution_count": 311,
     "metadata": {},
     "output_type": "execute_result"
    }
   ],
   "source": [
    "engine_df['log_transform'].isnull().any()"
   ]
  },
  {
   "cell_type": "code",
   "execution_count": 312,
   "metadata": {},
   "outputs": [],
   "source": [
    "engine_mean = engine_df['log_transform'].mean()"
   ]
  },
  {
   "cell_type": "markdown",
   "metadata": {},
   "source": [
    "## Engine Feature Transfromation Function"
   ]
  },
  {
   "cell_type": "code",
   "execution_count": 313,
   "metadata": {},
   "outputs": [],
   "source": [
    "def engine_transform(X, mean):\n",
    "    #Splitting into float values\n",
    "    engine_df = X['Engine'].str.split(\" CC\", expand = True)\n",
    "    \n",
    "    #Convert to float\n",
    "    engine_df[0] = engine_df[0].astype(float)\n",
    "    \n",
    "    #Log transform feature\n",
    "    engine_df['Engine_log'] = np.log(1 + engine_df[0].values)\n",
    "    \n",
    "    #Inputting missing feature\n",
    "    engine_df['Engine_log'].fillna(mean, inplace = True)\n",
    "    \n",
    "    #Merging columns\n",
    "    X = pd.concat([X, engine_df], axis = 'columns')\n",
    "    \n",
    "    #Deleting useless features\n",
    "    X.drop([0,1, 'Engine'], axis = 'columns', inplace = True)\n",
    "    \n",
    "    return X"
   ]
  },
  {
   "cell_type": "code",
   "execution_count": 314,
   "metadata": {},
   "outputs": [],
   "source": [
    "X_train = engine_transform(X_train, engine_mean)"
   ]
  },
  {
   "cell_type": "code",
   "execution_count": 315,
   "metadata": {
    "scrolled": true
   },
   "outputs": [
    {
     "data": {
      "text/html": [
       "<div>\n",
       "<style scoped>\n",
       "    .dataframe tbody tr th:only-of-type {\n",
       "        vertical-align: middle;\n",
       "    }\n",
       "\n",
       "    .dataframe tbody tr th {\n",
       "        vertical-align: top;\n",
       "    }\n",
       "\n",
       "    .dataframe thead th {\n",
       "        text-align: right;\n",
       "    }\n",
       "</style>\n",
       "<table border=\"1\" class=\"dataframe\">\n",
       "  <thead>\n",
       "    <tr style=\"text-align: right;\">\n",
       "      <th></th>\n",
       "      <th>Name</th>\n",
       "      <th>Location</th>\n",
       "      <th>Year</th>\n",
       "      <th>Kilometers_Driven</th>\n",
       "      <th>Fuel_Type</th>\n",
       "      <th>Transmission</th>\n",
       "      <th>Owner_Type</th>\n",
       "      <th>Power</th>\n",
       "      <th>Seats</th>\n",
       "      <th>New_Price</th>\n",
       "      <th>Mileage_kmpl</th>\n",
       "      <th>Mileage_km/kg</th>\n",
       "      <th>Engine_log</th>\n",
       "    </tr>\n",
       "  </thead>\n",
       "  <tbody>\n",
       "    <tr>\n",
       "      <th>523</th>\n",
       "      <td>Tata Nano Twist XT</td>\n",
       "      <td>Ahmedabad</td>\n",
       "      <td>2014</td>\n",
       "      <td>18000</td>\n",
       "      <td>Petrol</td>\n",
       "      <td>Manual</td>\n",
       "      <td>Second</td>\n",
       "      <td>37.5 bhp</td>\n",
       "      <td>4.0</td>\n",
       "      <td>NaN</td>\n",
       "      <td>25.40</td>\n",
       "      <td>NaN</td>\n",
       "      <td>6.437752</td>\n",
       "    </tr>\n",
       "    <tr>\n",
       "      <th>5989</th>\n",
       "      <td>Audi A4 35 TDI Premium Plus</td>\n",
       "      <td>Coimbatore</td>\n",
       "      <td>2013</td>\n",
       "      <td>58629</td>\n",
       "      <td>Diesel</td>\n",
       "      <td>Automatic</td>\n",
       "      <td>Second</td>\n",
       "      <td>187.74 bhp</td>\n",
       "      <td>5.0</td>\n",
       "      <td>53.14 Lakh</td>\n",
       "      <td>18.25</td>\n",
       "      <td>NaN</td>\n",
       "      <td>7.585281</td>\n",
       "    </tr>\n",
       "    <tr>\n",
       "      <th>4565</th>\n",
       "      <td>Chevrolet Beat LT</td>\n",
       "      <td>Delhi</td>\n",
       "      <td>2010</td>\n",
       "      <td>54000</td>\n",
       "      <td>Petrol</td>\n",
       "      <td>Manual</td>\n",
       "      <td>Second</td>\n",
       "      <td>76.8 bhp</td>\n",
       "      <td>5.0</td>\n",
       "      <td>NaN</td>\n",
       "      <td>17.80</td>\n",
       "      <td>NaN</td>\n",
       "      <td>7.090077</td>\n",
       "    </tr>\n",
       "    <tr>\n",
       "      <th>538</th>\n",
       "      <td>Ford Fiesta Classic 1.4 Duratorq CLXI</td>\n",
       "      <td>Hyderabad</td>\n",
       "      <td>2012</td>\n",
       "      <td>107000</td>\n",
       "      <td>Diesel</td>\n",
       "      <td>Manual</td>\n",
       "      <td>First</td>\n",
       "      <td>67 bhp</td>\n",
       "      <td>5.0</td>\n",
       "      <td>NaN</td>\n",
       "      <td>17.80</td>\n",
       "      <td>NaN</td>\n",
       "      <td>7.244228</td>\n",
       "    </tr>\n",
       "    <tr>\n",
       "      <th>253</th>\n",
       "      <td>Honda Jazz 1.2 VX i VTEC</td>\n",
       "      <td>Coimbatore</td>\n",
       "      <td>2017</td>\n",
       "      <td>49575</td>\n",
       "      <td>Petrol</td>\n",
       "      <td>Manual</td>\n",
       "      <td>First</td>\n",
       "      <td>88.7 bhp</td>\n",
       "      <td>5.0</td>\n",
       "      <td>NaN</td>\n",
       "      <td>18.70</td>\n",
       "      <td>NaN</td>\n",
       "      <td>7.090077</td>\n",
       "    </tr>\n",
       "  </tbody>\n",
       "</table>\n",
       "</div>"
      ],
      "text/plain": [
       "                                       Name    Location  Year  \\\n",
       "523                      Tata Nano Twist XT   Ahmedabad  2014   \n",
       "5989            Audi A4 35 TDI Premium Plus  Coimbatore  2013   \n",
       "4565                      Chevrolet Beat LT       Delhi  2010   \n",
       "538   Ford Fiesta Classic 1.4 Duratorq CLXI   Hyderabad  2012   \n",
       "253                Honda Jazz 1.2 VX i VTEC  Coimbatore  2017   \n",
       "\n",
       "      Kilometers_Driven Fuel_Type Transmission Owner_Type       Power  Seats  \\\n",
       "523               18000    Petrol       Manual     Second    37.5 bhp    4.0   \n",
       "5989              58629    Diesel    Automatic     Second  187.74 bhp    5.0   \n",
       "4565              54000    Petrol       Manual     Second    76.8 bhp    5.0   \n",
       "538              107000    Diesel       Manual      First      67 bhp    5.0   \n",
       "253               49575    Petrol       Manual      First    88.7 bhp    5.0   \n",
       "\n",
       "       New_Price  Mileage_kmpl  Mileage_km/kg  Engine_log  \n",
       "523          NaN         25.40            NaN    6.437752  \n",
       "5989  53.14 Lakh         18.25            NaN    7.585281  \n",
       "4565         NaN         17.80            NaN    7.090077  \n",
       "538          NaN         17.80            NaN    7.244228  \n",
       "253          NaN         18.70            NaN    7.090077  "
      ]
     },
     "execution_count": 315,
     "metadata": {},
     "output_type": "execute_result"
    }
   ],
   "source": [
    "X_train.head()"
   ]
  },
  {
   "cell_type": "code",
   "execution_count": 316,
   "metadata": {},
   "outputs": [
    {
     "data": {
      "text/plain": [
       "False"
      ]
     },
     "execution_count": 316,
     "metadata": {},
     "output_type": "execute_result"
    }
   ],
   "source": [
    "X_train['Engine_log'].isnull().any()"
   ]
  },
  {
   "cell_type": "markdown",
   "metadata": {},
   "source": [
    "# 3. Power Feature"
   ]
  },
  {
   "cell_type": "code",
   "execution_count": 317,
   "metadata": {},
   "outputs": [],
   "source": [
    "power_df = X_train['Power'].str.split(\" bhp\", expand = True)[0]"
   ]
  },
  {
   "cell_type": "code",
   "execution_count": 318,
   "metadata": {},
   "outputs": [
    {
     "data": {
      "text/plain": [
       "523       37.5\n",
       "5989    187.74\n",
       "4565      76.8\n",
       "538         67\n",
       "253       88.7\n",
       "Name: 0, dtype: object"
      ]
     },
     "execution_count": 318,
     "metadata": {},
     "output_type": "execute_result"
    }
   ],
   "source": [
    "power_df.head()"
   ]
  },
  {
   "cell_type": "code",
   "execution_count": 319,
   "metadata": {},
   "outputs": [],
   "source": [
    "#Some values contains the value null: Making it NaN\n",
    "power_df[power_df == 'null'] = np.nan"
   ]
  },
  {
   "cell_type": "code",
   "execution_count": 320,
   "metadata": {},
   "outputs": [],
   "source": [
    "#Converting to float\n",
    "power_df = power_df.astype(float)"
   ]
  },
  {
   "cell_type": "code",
   "execution_count": 321,
   "metadata": {},
   "outputs": [
    {
     "data": {
      "text/plain": [
       "<matplotlib.axes._subplots.AxesSubplot at 0x19db00d1978>"
      ]
     },
     "execution_count": 321,
     "metadata": {},
     "output_type": "execute_result"
    },
    {
     "data": {
      "image/png": "[encoded data removed]",
      "text/plain": [
       "<Figure size 432x288 with 1 Axes>"
      ]
     },
     "metadata": {
      "needs_background": "light"
     },
     "output_type": "display_data"
    }
   ],
   "source": [
    "power_df.hist()"
   ]
  },
  {
   "cell_type": "markdown",
   "metadata": {},
   "source": [
    "**Comment** Highly right skew"
   ]
  },
  {
   "cell_type": "code",
   "execution_count": 322,
   "metadata": {},
   "outputs": [
    {
     "data": {
      "text/html": [
       "<div>\n",
       "<style scoped>\n",
       "    .dataframe tbody tr th:only-of-type {\n",
       "        vertical-align: middle;\n",
       "    }\n",
       "\n",
       "    .dataframe tbody tr th {\n",
       "        vertical-align: top;\n",
       "    }\n",
       "\n",
       "    .dataframe thead th {\n",
       "        text-align: right;\n",
       "    }\n",
       "</style>\n",
       "<table border=\"1\" class=\"dataframe\">\n",
       "  <thead>\n",
       "    <tr style=\"text-align: right;\">\n",
       "      <th></th>\n",
       "      <th>Name</th>\n",
       "      <th>Location</th>\n",
       "      <th>Year</th>\n",
       "      <th>Kilometers_Driven</th>\n",
       "      <th>Fuel_Type</th>\n",
       "      <th>Transmission</th>\n",
       "      <th>Owner_Type</th>\n",
       "      <th>Power</th>\n",
       "      <th>Seats</th>\n",
       "      <th>New_Price</th>\n",
       "      <th>Mileage_kmpl</th>\n",
       "      <th>Mileage_km/kg</th>\n",
       "      <th>Engine_log</th>\n",
       "    </tr>\n",
       "  </thead>\n",
       "  <tbody>\n",
       "    <tr>\n",
       "      <th>5781</th>\n",
       "      <td>Lamborghini Gallardo Coupe</td>\n",
       "      <td>Delhi</td>\n",
       "      <td>2011</td>\n",
       "      <td>6500</td>\n",
       "      <td>Petrol</td>\n",
       "      <td>Automatic</td>\n",
       "      <td>Third</td>\n",
       "      <td>560 bhp</td>\n",
       "      <td>2.0</td>\n",
       "      <td>NaN</td>\n",
       "      <td>6.40</td>\n",
       "      <td>NaN</td>\n",
       "      <td>8.557375</td>\n",
       "    </tr>\n",
       "    <tr>\n",
       "      <th>3341</th>\n",
       "      <td>BMW 7 Series 2007-2012 750Li</td>\n",
       "      <td>Kochi</td>\n",
       "      <td>2010</td>\n",
       "      <td>50161</td>\n",
       "      <td>Petrol</td>\n",
       "      <td>Automatic</td>\n",
       "      <td>First</td>\n",
       "      <td>402 bhp</td>\n",
       "      <td>5.0</td>\n",
       "      <td>NaN</td>\n",
       "      <td>8.77</td>\n",
       "      <td>NaN</td>\n",
       "      <td>8.388450</td>\n",
       "    </tr>\n",
       "    <tr>\n",
       "      <th>4691</th>\n",
       "      <td>Mercedes-Benz SLK-Class 55 AMG</td>\n",
       "      <td>Bangalore</td>\n",
       "      <td>2014</td>\n",
       "      <td>3000</td>\n",
       "      <td>Petrol</td>\n",
       "      <td>Automatic</td>\n",
       "      <td>Second</td>\n",
       "      <td>421 bhp</td>\n",
       "      <td>2.0</td>\n",
       "      <td>NaN</td>\n",
       "      <td>12.00</td>\n",
       "      <td>NaN</td>\n",
       "      <td>8.605570</td>\n",
       "    </tr>\n",
       "    <tr>\n",
       "      <th>5416</th>\n",
       "      <td>Land Rover Range Rover Vogue SE 4.4 SDV8</td>\n",
       "      <td>Coimbatore</td>\n",
       "      <td>2013</td>\n",
       "      <td>75995</td>\n",
       "      <td>Diesel</td>\n",
       "      <td>Automatic</td>\n",
       "      <td>Second</td>\n",
       "      <td>335.3 bhp</td>\n",
       "      <td>5.0</td>\n",
       "      <td>NaN</td>\n",
       "      <td>11.49</td>\n",
       "      <td>NaN</td>\n",
       "      <td>8.382061</td>\n",
       "    </tr>\n",
       "    <tr>\n",
       "      <th>1741</th>\n",
       "      <td>BMW X6 xDrive 40d</td>\n",
       "      <td>Hyderabad</td>\n",
       "      <td>2013</td>\n",
       "      <td>58000</td>\n",
       "      <td>Diesel</td>\n",
       "      <td>Automatic</td>\n",
       "      <td>First</td>\n",
       "      <td>306 bhp</td>\n",
       "      <td>4.0</td>\n",
       "      <td>NaN</td>\n",
       "      <td>11.20</td>\n",
       "      <td>NaN</td>\n",
       "      <td>8.004366</td>\n",
       "    </tr>\n",
       "  </tbody>\n",
       "</table>\n",
       "</div>"
      ],
      "text/plain": [
       "                                          Name    Location  Year  \\\n",
       "5781                Lamborghini Gallardo Coupe       Delhi  2011   \n",
       "3341              BMW 7 Series 2007-2012 750Li       Kochi  2010   \n",
       "4691            Mercedes-Benz SLK-Class 55 AMG   Bangalore  2014   \n",
       "5416  Land Rover Range Rover Vogue SE 4.4 SDV8  Coimbatore  2013   \n",
       "1741                         BMW X6 xDrive 40d   Hyderabad  2013   \n",
       "\n",
       "      Kilometers_Driven Fuel_Type Transmission Owner_Type      Power  Seats  \\\n",
       "5781               6500    Petrol    Automatic      Third    560 bhp    2.0   \n",
       "3341              50161    Petrol    Automatic      First    402 bhp    5.0   \n",
       "4691               3000    Petrol    Automatic     Second    421 bhp    2.0   \n",
       "5416              75995    Diesel    Automatic     Second  335.3 bhp    5.0   \n",
       "1741              58000    Diesel    Automatic      First    306 bhp    4.0   \n",
       "\n",
       "     New_Price  Mileage_kmpl  Mileage_km/kg  Engine_log  \n",
       "5781       NaN          6.40            NaN    8.557375  \n",
       "3341       NaN          8.77            NaN    8.388450  \n",
       "4691       NaN         12.00            NaN    8.605570  \n",
       "5416       NaN         11.49            NaN    8.382061  \n",
       "1741       NaN         11.20            NaN    8.004366  "
      ]
     },
     "execution_count": 322,
     "metadata": {},
     "output_type": "execute_result"
    }
   ],
   "source": [
    "X_train[power_df > 300].head()"
   ]
  },
  {
   "cell_type": "markdown",
   "metadata": {},
   "source": [
    "**Comment: Power above 300 bhp are luxury cars. Not outliers**"
   ]
  },
  {
   "cell_type": "code",
   "execution_count": 323,
   "metadata": {},
   "outputs": [],
   "source": [
    "power_log = np.log(1 + power_df)"
   ]
  },
  {
   "cell_type": "code",
   "execution_count": 324,
   "metadata": {},
   "outputs": [
    {
     "data": {
      "text/plain": [
       "<matplotlib.axes._subplots.AxesSubplot at 0x19db0155908>"
      ]
     },
     "execution_count": 324,
     "metadata": {},
     "output_type": "execute_result"
    },
    {
     "data": {
      "image/png": "[encoded data removed]",
      "text/plain": [
       "<Figure size 432x288 with 1 Axes>"
      ]
     },
     "metadata": {
      "needs_background": "light"
     },
     "output_type": "display_data"
    }
   ],
   "source": [
    "power_log.hist()"
   ]
  },
  {
   "cell_type": "code",
   "execution_count": 325,
   "metadata": {},
   "outputs": [
    {
     "data": {
      "text/plain": [
       "count    4120.000000\n",
       "mean        4.652526\n",
       "std         0.416003\n",
       "min         3.561046\n",
       "25%         4.330733\n",
       "50%         4.553877\n",
       "75%         4.948760\n",
       "max         6.329721\n",
       "Name: 0, dtype: float64"
      ]
     },
     "execution_count": 325,
     "metadata": {},
     "output_type": "execute_result"
    }
   ],
   "source": [
    "power_log.describe()"
   ]
  },
  {
   "cell_type": "code",
   "execution_count": 326,
   "metadata": {},
   "outputs": [],
   "source": [
    "power_mean = power_log.mean()"
   ]
  },
  {
   "cell_type": "code",
   "execution_count": 327,
   "metadata": {},
   "outputs": [
    {
     "data": {
      "text/plain": [
       "4.6525256102222885"
      ]
     },
     "execution_count": 327,
     "metadata": {},
     "output_type": "execute_result"
    }
   ],
   "source": [
    "power_mean"
   ]
  },
  {
   "cell_type": "markdown",
   "metadata": {},
   "source": [
    "## Power Feature Final Transformation"
   ]
  },
  {
   "cell_type": "code",
   "execution_count": 328,
   "metadata": {},
   "outputs": [],
   "source": [
    "def power_transform(X, mean):\n",
    "    \n",
    "    #Splitting\n",
    "    power_df = X_train['Power'].str.split(\" bhp\", expand = True)[0]\n",
    "    \n",
    "    #Some values contains the value null: Making it NaN\n",
    "    power_df[power_df == 'null'] = np.nan\n",
    "    \n",
    "    #Converting to float\n",
    "    power_df = power_df.astype(float)\n",
    "    \n",
    "    #Log transformation\n",
    "    power_log = np.log(1 + power_df)\n",
    "    \n",
    "    #Missing value\n",
    "    power_log.fillna(mean, inplace = True)\n",
    "    \n",
    "    #Merging\n",
    "    X['Power_log'] = power_log\n",
    "    \n",
    "    #Deleteing\n",
    "    X.drop('Power', axis='columns', inplace = True)\n",
    "    \n",
    "    return X"
   ]
  },
  {
   "cell_type": "code",
   "execution_count": 329,
   "metadata": {},
   "outputs": [],
   "source": [
    "X_train = power_transform(X_train, power_mean)"
   ]
  },
  {
   "cell_type": "code",
   "execution_count": 330,
   "metadata": {
    "scrolled": true
   },
   "outputs": [
    {
     "data": {
      "text/html": [
       "<div>\n",
       "<style scoped>\n",
       "    .dataframe tbody tr th:only-of-type {\n",
       "        vertical-align: middle;\n",
       "    }\n",
       "\n",
       "    .dataframe tbody tr th {\n",
       "        vertical-align: top;\n",
       "    }\n",
       "\n",
       "    .dataframe thead th {\n",
       "        text-align: right;\n",
       "    }\n",
       "</style>\n",
       "<table border=\"1\" class=\"dataframe\">\n",
       "  <thead>\n",
       "    <tr style=\"text-align: right;\">\n",
       "      <th></th>\n",
       "      <th>Name</th>\n",
       "      <th>Location</th>\n",
       "      <th>Year</th>\n",
       "      <th>Kilometers_Driven</th>\n",
       "      <th>Fuel_Type</th>\n",
       "      <th>Transmission</th>\n",
       "      <th>Owner_Type</th>\n",
       "      <th>Seats</th>\n",
       "      <th>New_Price</th>\n",
       "      <th>Mileage_kmpl</th>\n",
       "      <th>Mileage_km/kg</th>\n",
       "      <th>Engine_log</th>\n",
       "      <th>Power_log</th>\n",
       "    </tr>\n",
       "  </thead>\n",
       "  <tbody>\n",
       "    <tr>\n",
       "      <th>523</th>\n",
       "      <td>Tata Nano Twist XT</td>\n",
       "      <td>Ahmedabad</td>\n",
       "      <td>2014</td>\n",
       "      <td>18000</td>\n",
       "      <td>Petrol</td>\n",
       "      <td>Manual</td>\n",
       "      <td>Second</td>\n",
       "      <td>4.0</td>\n",
       "      <td>NaN</td>\n",
       "      <td>25.40</td>\n",
       "      <td>NaN</td>\n",
       "      <td>6.437752</td>\n",
       "      <td>3.650658</td>\n",
       "    </tr>\n",
       "    <tr>\n",
       "      <th>5989</th>\n",
       "      <td>Audi A4 35 TDI Premium Plus</td>\n",
       "      <td>Coimbatore</td>\n",
       "      <td>2013</td>\n",
       "      <td>58629</td>\n",
       "      <td>Diesel</td>\n",
       "      <td>Automatic</td>\n",
       "      <td>Second</td>\n",
       "      <td>5.0</td>\n",
       "      <td>53.14 Lakh</td>\n",
       "      <td>18.25</td>\n",
       "      <td>NaN</td>\n",
       "      <td>7.585281</td>\n",
       "      <td>5.240370</td>\n",
       "    </tr>\n",
       "    <tr>\n",
       "      <th>4565</th>\n",
       "      <td>Chevrolet Beat LT</td>\n",
       "      <td>Delhi</td>\n",
       "      <td>2010</td>\n",
       "      <td>54000</td>\n",
       "      <td>Petrol</td>\n",
       "      <td>Manual</td>\n",
       "      <td>Second</td>\n",
       "      <td>5.0</td>\n",
       "      <td>NaN</td>\n",
       "      <td>17.80</td>\n",
       "      <td>NaN</td>\n",
       "      <td>7.090077</td>\n",
       "      <td>4.354141</td>\n",
       "    </tr>\n",
       "    <tr>\n",
       "      <th>538</th>\n",
       "      <td>Ford Fiesta Classic 1.4 Duratorq CLXI</td>\n",
       "      <td>Hyderabad</td>\n",
       "      <td>2012</td>\n",
       "      <td>107000</td>\n",
       "      <td>Diesel</td>\n",
       "      <td>Manual</td>\n",
       "      <td>First</td>\n",
       "      <td>5.0</td>\n",
       "      <td>NaN</td>\n",
       "      <td>17.80</td>\n",
       "      <td>NaN</td>\n",
       "      <td>7.244228</td>\n",
       "      <td>4.219508</td>\n",
       "    </tr>\n",
       "    <tr>\n",
       "      <th>253</th>\n",
       "      <td>Honda Jazz 1.2 VX i VTEC</td>\n",
       "      <td>Coimbatore</td>\n",
       "      <td>2017</td>\n",
       "      <td>49575</td>\n",
       "      <td>Petrol</td>\n",
       "      <td>Manual</td>\n",
       "      <td>First</td>\n",
       "      <td>5.0</td>\n",
       "      <td>NaN</td>\n",
       "      <td>18.70</td>\n",
       "      <td>NaN</td>\n",
       "      <td>7.090077</td>\n",
       "      <td>4.496471</td>\n",
       "    </tr>\n",
       "  </tbody>\n",
       "</table>\n",
       "</div>"
      ],
      "text/plain": [
       "                                       Name    Location  Year  \\\n",
       "523                      Tata Nano Twist XT   Ahmedabad  2014   \n",
       "5989            Audi A4 35 TDI Premium Plus  Coimbatore  2013   \n",
       "4565                      Chevrolet Beat LT       Delhi  2010   \n",
       "538   Ford Fiesta Classic 1.4 Duratorq CLXI   Hyderabad  2012   \n",
       "253                Honda Jazz 1.2 VX i VTEC  Coimbatore  2017   \n",
       "\n",
       "      Kilometers_Driven Fuel_Type Transmission Owner_Type  Seats   New_Price  \\\n",
       "523               18000    Petrol       Manual     Second    4.0         NaN   \n",
       "5989              58629    Diesel    Automatic     Second    5.0  53.14 Lakh   \n",
       "4565              54000    Petrol       Manual     Second    5.0         NaN   \n",
       "538              107000    Diesel       Manual      First    5.0         NaN   \n",
       "253               49575    Petrol       Manual      First    5.0         NaN   \n",
       "\n",
       "      Mileage_kmpl  Mileage_km/kg  Engine_log  Power_log  \n",
       "523          25.40            NaN    6.437752   3.650658  \n",
       "5989         18.25            NaN    7.585281   5.240370  \n",
       "4565         17.80            NaN    7.090077   4.354141  \n",
       "538          17.80            NaN    7.244228   4.219508  \n",
       "253          18.70            NaN    7.090077   4.496471  "
      ]
     },
     "execution_count": 330,
     "metadata": {},
     "output_type": "execute_result"
    }
   ],
   "source": [
    "X_train.head()"
   ]
  },
  {
   "cell_type": "code",
   "execution_count": 331,
   "metadata": {},
   "outputs": [
    {
     "data": {
      "text/plain": [
       "False"
      ]
     },
     "execution_count": 331,
     "metadata": {},
     "output_type": "execute_result"
    }
   ],
   "source": [
    "X_train['Power_log'].isnull().any()"
   ]
  },
  {
   "cell_type": "markdown",
   "metadata": {},
   "source": [
    "## 4. Seats Feature "
   ]
  },
  {
   "cell_type": "code",
   "execution_count": 332,
   "metadata": {},
   "outputs": [
    {
     "data": {
      "text/plain": [
       "5.0     3520\n",
       "7.0      461\n",
       "8.0       93\n",
       "4.0       69\n",
       "6.0       21\n",
       "2.0       14\n",
       "10.0       4\n",
       "9.0        3\n",
       "Name: Seats, dtype: int64"
      ]
     },
     "execution_count": 332,
     "metadata": {},
     "output_type": "execute_result"
    }
   ],
   "source": [
    "X_train['Seats'].value_counts()"
   ]
  },
  {
   "cell_type": "code",
   "execution_count": 333,
   "metadata": {},
   "outputs": [],
   "source": [
    "def seat_transform(X, mode):\n",
    "    X['Seats'].fillna(mode, inplace = True)\n",
    "    return X"
   ]
  },
  {
   "cell_type": "code",
   "execution_count": 334,
   "metadata": {},
   "outputs": [],
   "source": [
    "X_train = seat_transform(X_train, 5.0)"
   ]
  },
  {
   "cell_type": "code",
   "execution_count": 335,
   "metadata": {},
   "outputs": [
    {
     "data": {
      "text/html": [
       "<div>\n",
       "<style scoped>\n",
       "    .dataframe tbody tr th:only-of-type {\n",
       "        vertical-align: middle;\n",
       "    }\n",
       "\n",
       "    .dataframe tbody tr th {\n",
       "        vertical-align: top;\n",
       "    }\n",
       "\n",
       "    .dataframe thead th {\n",
       "        text-align: right;\n",
       "    }\n",
       "</style>\n",
       "<table border=\"1\" class=\"dataframe\">\n",
       "  <thead>\n",
       "    <tr style=\"text-align: right;\">\n",
       "      <th></th>\n",
       "      <th>Name</th>\n",
       "      <th>Location</th>\n",
       "      <th>Year</th>\n",
       "      <th>Kilometers_Driven</th>\n",
       "      <th>Fuel_Type</th>\n",
       "      <th>Transmission</th>\n",
       "      <th>Owner_Type</th>\n",
       "      <th>Seats</th>\n",
       "      <th>New_Price</th>\n",
       "      <th>Mileage_kmpl</th>\n",
       "      <th>Mileage_km/kg</th>\n",
       "      <th>Engine_log</th>\n",
       "      <th>Power_log</th>\n",
       "    </tr>\n",
       "  </thead>\n",
       "  <tbody>\n",
       "    <tr>\n",
       "      <th>523</th>\n",
       "      <td>Tata Nano Twist XT</td>\n",
       "      <td>Ahmedabad</td>\n",
       "      <td>2014</td>\n",
       "      <td>18000</td>\n",
       "      <td>Petrol</td>\n",
       "      <td>Manual</td>\n",
       "      <td>Second</td>\n",
       "      <td>4.0</td>\n",
       "      <td>NaN</td>\n",
       "      <td>25.40</td>\n",
       "      <td>NaN</td>\n",
       "      <td>6.437752</td>\n",
       "      <td>3.650658</td>\n",
       "    </tr>\n",
       "    <tr>\n",
       "      <th>5989</th>\n",
       "      <td>Audi A4 35 TDI Premium Plus</td>\n",
       "      <td>Coimbatore</td>\n",
       "      <td>2013</td>\n",
       "      <td>58629</td>\n",
       "      <td>Diesel</td>\n",
       "      <td>Automatic</td>\n",
       "      <td>Second</td>\n",
       "      <td>5.0</td>\n",
       "      <td>53.14 Lakh</td>\n",
       "      <td>18.25</td>\n",
       "      <td>NaN</td>\n",
       "      <td>7.585281</td>\n",
       "      <td>5.240370</td>\n",
       "    </tr>\n",
       "    <tr>\n",
       "      <th>4565</th>\n",
       "      <td>Chevrolet Beat LT</td>\n",
       "      <td>Delhi</td>\n",
       "      <td>2010</td>\n",
       "      <td>54000</td>\n",
       "      <td>Petrol</td>\n",
       "      <td>Manual</td>\n",
       "      <td>Second</td>\n",
       "      <td>5.0</td>\n",
       "      <td>NaN</td>\n",
       "      <td>17.80</td>\n",
       "      <td>NaN</td>\n",
       "      <td>7.090077</td>\n",
       "      <td>4.354141</td>\n",
       "    </tr>\n",
       "    <tr>\n",
       "      <th>538</th>\n",
       "      <td>Ford Fiesta Classic 1.4 Duratorq CLXI</td>\n",
       "      <td>Hyderabad</td>\n",
       "      <td>2012</td>\n",
       "      <td>107000</td>\n",
       "      <td>Diesel</td>\n",
       "      <td>Manual</td>\n",
       "      <td>First</td>\n",
       "      <td>5.0</td>\n",
       "      <td>NaN</td>\n",
       "      <td>17.80</td>\n",
       "      <td>NaN</td>\n",
       "      <td>7.244228</td>\n",
       "      <td>4.219508</td>\n",
       "    </tr>\n",
       "    <tr>\n",
       "      <th>253</th>\n",
       "      <td>Honda Jazz 1.2 VX i VTEC</td>\n",
       "      <td>Coimbatore</td>\n",
       "      <td>2017</td>\n",
       "      <td>49575</td>\n",
       "      <td>Petrol</td>\n",
       "      <td>Manual</td>\n",
       "      <td>First</td>\n",
       "      <td>5.0</td>\n",
       "      <td>NaN</td>\n",
       "      <td>18.70</td>\n",
       "      <td>NaN</td>\n",
       "      <td>7.090077</td>\n",
       "      <td>4.496471</td>\n",
       "    </tr>\n",
       "  </tbody>\n",
       "</table>\n",
       "</div>"
      ],
      "text/plain": [
       "                                       Name    Location  Year  \\\n",
       "523                      Tata Nano Twist XT   Ahmedabad  2014   \n",
       "5989            Audi A4 35 TDI Premium Plus  Coimbatore  2013   \n",
       "4565                      Chevrolet Beat LT       Delhi  2010   \n",
       "538   Ford Fiesta Classic 1.4 Duratorq CLXI   Hyderabad  2012   \n",
       "253                Honda Jazz 1.2 VX i VTEC  Coimbatore  2017   \n",
       "\n",
       "      Kilometers_Driven Fuel_Type Transmission Owner_Type  Seats   New_Price  \\\n",
       "523               18000    Petrol       Manual     Second    4.0         NaN   \n",
       "5989              58629    Diesel    Automatic     Second    5.0  53.14 Lakh   \n",
       "4565              54000    Petrol       Manual     Second    5.0         NaN   \n",
       "538              107000    Diesel       Manual      First    5.0         NaN   \n",
       "253               49575    Petrol       Manual      First    5.0         NaN   \n",
       "\n",
       "      Mileage_kmpl  Mileage_km/kg  Engine_log  Power_log  \n",
       "523          25.40            NaN    6.437752   3.650658  \n",
       "5989         18.25            NaN    7.585281   5.240370  \n",
       "4565         17.80            NaN    7.090077   4.354141  \n",
       "538          17.80            NaN    7.244228   4.219508  \n",
       "253          18.70            NaN    7.090077   4.496471  "
      ]
     },
     "execution_count": 335,
     "metadata": {},
     "output_type": "execute_result"
    }
   ],
   "source": [
    "X_train.head()"
   ]
  },
  {
   "cell_type": "markdown",
   "metadata": {},
   "source": [
    "## 5. New Price Feature"
   ]
  },
  {
   "cell_type": "code",
   "execution_count": 336,
   "metadata": {},
   "outputs": [
    {
     "data": {
      "text/plain": [
       "3637"
      ]
     },
     "execution_count": 336,
     "metadata": {},
     "output_type": "execute_result"
    }
   ],
   "source": [
    "X_train['New_Price'].isnull().sum()"
   ]
  },
  {
   "cell_type": "code",
   "execution_count": 337,
   "metadata": {},
   "outputs": [],
   "source": [
    "X_train.drop('New_Price', axis = 'columns', inplace = True)"
   ]
  },
  {
   "cell_type": "code",
   "execution_count": 338,
   "metadata": {},
   "outputs": [
    {
     "data": {
      "text/html": [
       "<div>\n",
       "<style scoped>\n",
       "    .dataframe tbody tr th:only-of-type {\n",
       "        vertical-align: middle;\n",
       "    }\n",
       "\n",
       "    .dataframe tbody tr th {\n",
       "        vertical-align: top;\n",
       "    }\n",
       "\n",
       "    .dataframe thead th {\n",
       "        text-align: right;\n",
       "    }\n",
       "</style>\n",
       "<table border=\"1\" class=\"dataframe\">\n",
       "  <thead>\n",
       "    <tr style=\"text-align: right;\">\n",
       "      <th></th>\n",
       "      <th>Name</th>\n",
       "      <th>Location</th>\n",
       "      <th>Year</th>\n",
       "      <th>Kilometers_Driven</th>\n",
       "      <th>Fuel_Type</th>\n",
       "      <th>Transmission</th>\n",
       "      <th>Owner_Type</th>\n",
       "      <th>Seats</th>\n",
       "      <th>Mileage_kmpl</th>\n",
       "      <th>Mileage_km/kg</th>\n",
       "      <th>Engine_log</th>\n",
       "      <th>Power_log</th>\n",
       "    </tr>\n",
       "  </thead>\n",
       "  <tbody>\n",
       "    <tr>\n",
       "      <th>523</th>\n",
       "      <td>Tata Nano Twist XT</td>\n",
       "      <td>Ahmedabad</td>\n",
       "      <td>2014</td>\n",
       "      <td>18000</td>\n",
       "      <td>Petrol</td>\n",
       "      <td>Manual</td>\n",
       "      <td>Second</td>\n",
       "      <td>4.0</td>\n",
       "      <td>25.40</td>\n",
       "      <td>NaN</td>\n",
       "      <td>6.437752</td>\n",
       "      <td>3.650658</td>\n",
       "    </tr>\n",
       "    <tr>\n",
       "      <th>5989</th>\n",
       "      <td>Audi A4 35 TDI Premium Plus</td>\n",
       "      <td>Coimbatore</td>\n",
       "      <td>2013</td>\n",
       "      <td>58629</td>\n",
       "      <td>Diesel</td>\n",
       "      <td>Automatic</td>\n",
       "      <td>Second</td>\n",
       "      <td>5.0</td>\n",
       "      <td>18.25</td>\n",
       "      <td>NaN</td>\n",
       "      <td>7.585281</td>\n",
       "      <td>5.240370</td>\n",
       "    </tr>\n",
       "    <tr>\n",
       "      <th>4565</th>\n",
       "      <td>Chevrolet Beat LT</td>\n",
       "      <td>Delhi</td>\n",
       "      <td>2010</td>\n",
       "      <td>54000</td>\n",
       "      <td>Petrol</td>\n",
       "      <td>Manual</td>\n",
       "      <td>Second</td>\n",
       "      <td>5.0</td>\n",
       "      <td>17.80</td>\n",
       "      <td>NaN</td>\n",
       "      <td>7.090077</td>\n",
       "      <td>4.354141</td>\n",
       "    </tr>\n",
       "    <tr>\n",
       "      <th>538</th>\n",
       "      <td>Ford Fiesta Classic 1.4 Duratorq CLXI</td>\n",
       "      <td>Hyderabad</td>\n",
       "      <td>2012</td>\n",
       "      <td>107000</td>\n",
       "      <td>Diesel</td>\n",
       "      <td>Manual</td>\n",
       "      <td>First</td>\n",
       "      <td>5.0</td>\n",
       "      <td>17.80</td>\n",
       "      <td>NaN</td>\n",
       "      <td>7.244228</td>\n",
       "      <td>4.219508</td>\n",
       "    </tr>\n",
       "    <tr>\n",
       "      <th>253</th>\n",
       "      <td>Honda Jazz 1.2 VX i VTEC</td>\n",
       "      <td>Coimbatore</td>\n",
       "      <td>2017</td>\n",
       "      <td>49575</td>\n",
       "      <td>Petrol</td>\n",
       "      <td>Manual</td>\n",
       "      <td>First</td>\n",
       "      <td>5.0</td>\n",
       "      <td>18.70</td>\n",
       "      <td>NaN</td>\n",
       "      <td>7.090077</td>\n",
       "      <td>4.496471</td>\n",
       "    </tr>\n",
       "  </tbody>\n",
       "</table>\n",
       "</div>"
      ],
      "text/plain": [
       "                                       Name    Location  Year  \\\n",
       "523                      Tata Nano Twist XT   Ahmedabad  2014   \n",
       "5989            Audi A4 35 TDI Premium Plus  Coimbatore  2013   \n",
       "4565                      Chevrolet Beat LT       Delhi  2010   \n",
       "538   Ford Fiesta Classic 1.4 Duratorq CLXI   Hyderabad  2012   \n",
       "253                Honda Jazz 1.2 VX i VTEC  Coimbatore  2017   \n",
       "\n",
       "      Kilometers_Driven Fuel_Type Transmission Owner_Type  Seats  \\\n",
       "523               18000    Petrol       Manual     Second    4.0   \n",
       "5989              58629    Diesel    Automatic     Second    5.0   \n",
       "4565              54000    Petrol       Manual     Second    5.0   \n",
       "538              107000    Diesel       Manual      First    5.0   \n",
       "253               49575    Petrol       Manual      First    5.0   \n",
       "\n",
       "      Mileage_kmpl  Mileage_km/kg  Engine_log  Power_log  \n",
       "523          25.40            NaN    6.437752   3.650658  \n",
       "5989         18.25            NaN    7.585281   5.240370  \n",
       "4565         17.80            NaN    7.090077   4.354141  \n",
       "538          17.80            NaN    7.244228   4.219508  \n",
       "253          18.70            NaN    7.090077   4.496471  "
      ]
     },
     "execution_count": 338,
     "metadata": {},
     "output_type": "execute_result"
    }
   ],
   "source": [
    "X_train.head()"
   ]
  },
  {
   "cell_type": "markdown",
   "metadata": {},
   "source": [
    "## 6. Year Feature"
   ]
  },
  {
   "cell_type": "markdown",
   "metadata": {},
   "source": [
    "**The Correlation between year and Price**"
   ]
  },
  {
   "cell_type": "code",
   "execution_count": 339,
   "metadata": {},
   "outputs": [
    {
     "data": {
      "text/plain": [
       "array([[1.        , 0.30163984],\n",
       "       [0.30163984, 1.        ]])"
      ]
     },
     "execution_count": 339,
     "metadata": {},
     "output_type": "execute_result"
    }
   ],
   "source": [
    "np.corrcoef(X_train['Year'].values, y_train)"
   ]
  },
  {
   "cell_type": "markdown",
   "metadata": {},
   "source": [
    "## 7. Name Feature"
   ]
  },
  {
   "cell_type": "code",
   "execution_count": 340,
   "metadata": {},
   "outputs": [],
   "source": [
    "names = X_train['Name'].str.split().str.get(0)+' '+X_train['Name'].str.split().str.get(1)"
   ]
  },
  {
   "cell_type": "code",
   "execution_count": 341,
   "metadata": {},
   "outputs": [
    {
     "data": {
      "text/plain": [
       "523          Tata Nano\n",
       "5989           Audi A4\n",
       "4565    Chevrolet Beat\n",
       "538        Ford Fiesta\n",
       "253         Honda Jazz\n",
       "Name: Name, dtype: object"
      ]
     },
     "execution_count": 341,
     "metadata": {},
     "output_type": "execute_result"
    }
   ],
   "source": [
    "names.head()"
   ]
  },
  {
   "cell_type": "code",
   "execution_count": 342,
   "metadata": {},
   "outputs": [
    {
     "data": {
      "text/plain": [
       "207"
      ]
     },
     "execution_count": 342,
     "metadata": {},
     "output_type": "execute_result"
    }
   ],
   "source": [
    "len(np.unique(names))"
   ]
  },
  {
   "cell_type": "code",
   "execution_count": 343,
   "metadata": {},
   "outputs": [
    {
     "data": {
      "text/plain": [
       "array(['Audi A3', 'Audi A4', 'Audi A6', 'Audi A7', 'Audi A8', 'Audi Q3',\n",
       "       'Audi Q5', 'Audi Q7', 'Audi RS5', 'Audi TT', 'BMW 1', 'BMW 3',\n",
       "       'BMW 5', 'BMW 6', 'BMW 7', 'BMW X1', 'BMW X3', 'BMW X5', 'BMW X6',\n",
       "       'BMW Z4', 'Chevrolet Aveo', 'Chevrolet Beat', 'Chevrolet Captiva',\n",
       "       'Chevrolet Cruze', 'Chevrolet Enjoy', 'Chevrolet Optra',\n",
       "       'Chevrolet Sail', 'Chevrolet Spark', 'Chevrolet Tavera',\n",
       "       'Datsun GO', 'Datsun redi-GO', 'Fiat Avventura', 'Fiat Grande',\n",
       "       'Fiat Linea', 'Fiat Petra', 'Fiat Punto', 'Fiat Siena',\n",
       "       'Force One', 'Ford Aspire', 'Ford Classic', 'Ford EcoSport',\n",
       "       'Ford Ecosport', 'Ford Endeavour', 'Ford Fiesta', 'Ford Figo',\n",
       "       'Ford Freestyle', 'Ford Fusion', 'Ford Ikon', 'Ford Mustang',\n",
       "       'Honda Accord', 'Honda Amaze', 'Honda BR-V', 'Honda BRV',\n",
       "       'Honda Brio', 'Honda CR-V', 'Honda City', 'Honda Civic',\n",
       "       'Honda Jazz', 'Honda Mobilio', 'Honda WR-V', 'Honda WRV',\n",
       "       'Hyundai Accent', 'Hyundai Creta', 'Hyundai EON',\n",
       "       'Hyundai Elantra', 'Hyundai Elite', 'Hyundai Getz',\n",
       "       'Hyundai Grand', 'Hyundai Santa', 'Hyundai Santro',\n",
       "       'Hyundai Sonata', 'Hyundai Tucson', 'Hyundai Verna',\n",
       "       'Hyundai Xcent', 'Hyundai i10', 'Hyundai i20', 'ISUZU D-MAX',\n",
       "       'Jaguar XE', 'Jaguar XF', 'Jaguar XJ', 'Jeep Compass',\n",
       "       'Lamborghini Gallardo', 'Land Rover', 'Mahindra Bolero',\n",
       "       'Mahindra E', 'Mahindra Jeep', 'Mahindra KUV', 'Mahindra Logan',\n",
       "       'Mahindra NuvoSport', 'Mahindra Quanto', 'Mahindra Renault',\n",
       "       'Mahindra Scorpio', 'Mahindra Ssangyong', 'Mahindra TUV',\n",
       "       'Mahindra Thar', 'Mahindra Verito', 'Mahindra XUV300',\n",
       "       'Mahindra XUV500', 'Mahindra Xylo', 'Maruti 1000', 'Maruti 800',\n",
       "       'Maruti A-Star', 'Maruti Alto', 'Maruti Baleno', 'Maruti Celerio',\n",
       "       'Maruti Ciaz', 'Maruti Dzire', 'Maruti Eeco', 'Maruti Ertiga',\n",
       "       'Maruti Esteem', 'Maruti Estilo', 'Maruti Ignis', 'Maruti Omni',\n",
       "       'Maruti Ritz', 'Maruti S', 'Maruti S-Cross', 'Maruti SX4',\n",
       "       'Maruti Swift', 'Maruti Versa', 'Maruti Vitara', 'Maruti Wagon',\n",
       "       'Maruti Zen', 'Mercedes-Benz A', 'Mercedes-Benz B',\n",
       "       'Mercedes-Benz C-Class', 'Mercedes-Benz CLA',\n",
       "       'Mercedes-Benz CLS-Class', 'Mercedes-Benz E-Class',\n",
       "       'Mercedes-Benz GL-Class', 'Mercedes-Benz GLA', 'Mercedes-Benz GLC',\n",
       "       'Mercedes-Benz GLE', 'Mercedes-Benz M-Class', 'Mercedes-Benz New',\n",
       "       'Mercedes-Benz R-Class', 'Mercedes-Benz S',\n",
       "       'Mercedes-Benz S-Class', 'Mercedes-Benz SL-Class',\n",
       "       'Mercedes-Benz SLC', 'Mercedes-Benz SLK-Class', 'Mini Clubman',\n",
       "       'Mini Cooper', 'Mini Countryman', 'Mitsubishi Cedia',\n",
       "       'Mitsubishi Lancer', 'Mitsubishi Montero', 'Mitsubishi Outlander',\n",
       "       'Mitsubishi Pajero', 'Nissan Micra', 'Nissan Sunny',\n",
       "       'Nissan Teana', 'Nissan Terrano', 'Nissan X-Trail',\n",
       "       'Porsche Boxster', 'Porsche Cayenne', 'Porsche Cayman',\n",
       "       'Porsche Panamera', 'Renault Captur', 'Renault Duster',\n",
       "       'Renault Fluence', 'Renault KWID', 'Renault Koleos',\n",
       "       'Renault Lodgy', 'Renault Pulse', 'Renault Scala', 'Skoda Fabia',\n",
       "       'Skoda Laura', 'Skoda Octavia', 'Skoda Rapid', 'Skoda Superb',\n",
       "       'Skoda Yeti', 'Smart Fortwo', 'Tata Bolt', 'Tata Hexa',\n",
       "       'Tata Indica', 'Tata Indigo', 'Tata Manza', 'Tata Nano',\n",
       "       'Tata New', 'Tata Nexon', 'Tata Safari', 'Tata Sumo', 'Tata Tiago',\n",
       "       'Tata Tigor', 'Tata Xenon', 'Tata Zest', 'Toyota Camry',\n",
       "       'Toyota Corolla', 'Toyota Etios', 'Toyota Fortuner',\n",
       "       'Toyota Innova', 'Toyota Platinum', 'Toyota Prius',\n",
       "       'Toyota Qualis', 'Volkswagen Ameo', 'Volkswagen Beetle',\n",
       "       'Volkswagen CrossPolo', 'Volkswagen Jetta', 'Volkswagen Passat',\n",
       "       'Volkswagen Polo', 'Volkswagen Tiguan', 'Volkswagen Vento',\n",
       "       'Volvo S60', 'Volvo S80', 'Volvo V40', 'Volvo XC60', 'Volvo XC90'],\n",
       "      dtype=object)"
      ]
     },
     "execution_count": 343,
     "metadata": {},
     "output_type": "execute_result"
    }
   ],
   "source": [
    "np.unique(names)"
   ]
  },
  {
   "cell_type": "code",
   "execution_count": 344,
   "metadata": {},
   "outputs": [],
   "source": [
    "first_name = X_train['Name'].str.split().str.get(0)"
   ]
  },
  {
   "cell_type": "code",
   "execution_count": 345,
   "metadata": {},
   "outputs": [
    {
     "data": {
      "text/plain": [
       "28"
      ]
     },
     "execution_count": 345,
     "metadata": {},
     "output_type": "execute_result"
    }
   ],
   "source": [
    "len(np.unique(first_name))"
   ]
  },
  {
   "cell_type": "code",
   "execution_count": 346,
   "metadata": {},
   "outputs": [
    {
     "data": {
      "text/plain": [
       "array(['Audi', 'BMW', 'Chevrolet', 'Datsun', 'Fiat', 'Force', 'Ford',\n",
       "       'Honda', 'Hyundai', 'ISUZU', 'Jaguar', 'Jeep', 'Lamborghini',\n",
       "       'Land', 'Mahindra', 'Maruti', 'Mercedes-Benz', 'Mini',\n",
       "       'Mitsubishi', 'Nissan', 'Porsche', 'Renault', 'Skoda', 'Smart',\n",
       "       'Tata', 'Toyota', 'Volkswagen', 'Volvo'], dtype=object)"
      ]
     },
     "execution_count": 346,
     "metadata": {},
     "output_type": "execute_result"
    }
   ],
   "source": [
    "np.unique(first_name)"
   ]
  },
  {
   "cell_type": "code",
   "execution_count": 347,
   "metadata": {},
   "outputs": [],
   "source": [
    "def format_names(X):\n",
    "    first_name = X['Name'].str.split().str.get(0)\n",
    "    \n",
    "    X['Name'] = first_name\n",
    "    \n",
    "    return X"
   ]
  },
  {
   "cell_type": "code",
   "execution_count": 348,
   "metadata": {},
   "outputs": [],
   "source": [
    "X_train = format_names(X_train)"
   ]
  },
  {
   "cell_type": "code",
   "execution_count": 349,
   "metadata": {},
   "outputs": [
    {
     "data": {
      "text/html": [
       "<div>\n",
       "<style scoped>\n",
       "    .dataframe tbody tr th:only-of-type {\n",
       "        vertical-align: middle;\n",
       "    }\n",
       "\n",
       "    .dataframe tbody tr th {\n",
       "        vertical-align: top;\n",
       "    }\n",
       "\n",
       "    .dataframe thead th {\n",
       "        text-align: right;\n",
       "    }\n",
       "</style>\n",
       "<table border=\"1\" class=\"dataframe\">\n",
       "  <thead>\n",
       "    <tr style=\"text-align: right;\">\n",
       "      <th></th>\n",
       "      <th>Name</th>\n",
       "      <th>Location</th>\n",
       "      <th>Year</th>\n",
       "      <th>Kilometers_Driven</th>\n",
       "      <th>Fuel_Type</th>\n",
       "      <th>Transmission</th>\n",
       "      <th>Owner_Type</th>\n",
       "      <th>Seats</th>\n",
       "      <th>Mileage_kmpl</th>\n",
       "      <th>Mileage_km/kg</th>\n",
       "      <th>Engine_log</th>\n",
       "      <th>Power_log</th>\n",
       "    </tr>\n",
       "  </thead>\n",
       "  <tbody>\n",
       "    <tr>\n",
       "      <th>523</th>\n",
       "      <td>Tata</td>\n",
       "      <td>Ahmedabad</td>\n",
       "      <td>2014</td>\n",
       "      <td>18000</td>\n",
       "      <td>Petrol</td>\n",
       "      <td>Manual</td>\n",
       "      <td>Second</td>\n",
       "      <td>4.0</td>\n",
       "      <td>25.40</td>\n",
       "      <td>NaN</td>\n",
       "      <td>6.437752</td>\n",
       "      <td>3.650658</td>\n",
       "    </tr>\n",
       "    <tr>\n",
       "      <th>5989</th>\n",
       "      <td>Audi</td>\n",
       "      <td>Coimbatore</td>\n",
       "      <td>2013</td>\n",
       "      <td>58629</td>\n",
       "      <td>Diesel</td>\n",
       "      <td>Automatic</td>\n",
       "      <td>Second</td>\n",
       "      <td>5.0</td>\n",
       "      <td>18.25</td>\n",
       "      <td>NaN</td>\n",
       "      <td>7.585281</td>\n",
       "      <td>5.240370</td>\n",
       "    </tr>\n",
       "    <tr>\n",
       "      <th>4565</th>\n",
       "      <td>Chevrolet</td>\n",
       "      <td>Delhi</td>\n",
       "      <td>2010</td>\n",
       "      <td>54000</td>\n",
       "      <td>Petrol</td>\n",
       "      <td>Manual</td>\n",
       "      <td>Second</td>\n",
       "      <td>5.0</td>\n",
       "      <td>17.80</td>\n",
       "      <td>NaN</td>\n",
       "      <td>7.090077</td>\n",
       "      <td>4.354141</td>\n",
       "    </tr>\n",
       "    <tr>\n",
       "      <th>538</th>\n",
       "      <td>Ford</td>\n",
       "      <td>Hyderabad</td>\n",
       "      <td>2012</td>\n",
       "      <td>107000</td>\n",
       "      <td>Diesel</td>\n",
       "      <td>Manual</td>\n",
       "      <td>First</td>\n",
       "      <td>5.0</td>\n",
       "      <td>17.80</td>\n",
       "      <td>NaN</td>\n",
       "      <td>7.244228</td>\n",
       "      <td>4.219508</td>\n",
       "    </tr>\n",
       "    <tr>\n",
       "      <th>253</th>\n",
       "      <td>Honda</td>\n",
       "      <td>Coimbatore</td>\n",
       "      <td>2017</td>\n",
       "      <td>49575</td>\n",
       "      <td>Petrol</td>\n",
       "      <td>Manual</td>\n",
       "      <td>First</td>\n",
       "      <td>5.0</td>\n",
       "      <td>18.70</td>\n",
       "      <td>NaN</td>\n",
       "      <td>7.090077</td>\n",
       "      <td>4.496471</td>\n",
       "    </tr>\n",
       "  </tbody>\n",
       "</table>\n",
       "</div>"
      ],
      "text/plain": [
       "           Name    Location  Year  Kilometers_Driven Fuel_Type Transmission  \\\n",
       "523        Tata   Ahmedabad  2014              18000    Petrol       Manual   \n",
       "5989       Audi  Coimbatore  2013              58629    Diesel    Automatic   \n",
       "4565  Chevrolet       Delhi  2010              54000    Petrol       Manual   \n",
       "538        Ford   Hyderabad  2012             107000    Diesel       Manual   \n",
       "253       Honda  Coimbatore  2017              49575    Petrol       Manual   \n",
       "\n",
       "     Owner_Type  Seats  Mileage_kmpl  Mileage_km/kg  Engine_log  Power_log  \n",
       "523      Second    4.0         25.40            NaN    6.437752   3.650658  \n",
       "5989     Second    5.0         18.25            NaN    7.585281   5.240370  \n",
       "4565     Second    5.0         17.80            NaN    7.090077   4.354141  \n",
       "538       First    5.0         17.80            NaN    7.244228   4.219508  \n",
       "253       First    5.0         18.70            NaN    7.090077   4.496471  "
      ]
     },
     "execution_count": 349,
     "metadata": {},
     "output_type": "execute_result"
    }
   ],
   "source": [
    "X_train.head()"
   ]
  },
  {
   "cell_type": "markdown",
   "metadata": {},
   "source": [
    "# 8. Owner Type Feature"
   ]
  },
  {
   "cell_type": "code",
   "execution_count": 350,
   "metadata": {},
   "outputs": [
    {
     "data": {
      "text/plain": [
       "array(['First', 'Fourth & Above', 'Second', 'Third'], dtype=object)"
      ]
     },
     "execution_count": 350,
     "metadata": {},
     "output_type": "execute_result"
    }
   ],
   "source": [
    "np.unique(X_train['Owner_Type'].values)"
   ]
  },
  {
   "cell_type": "code",
   "execution_count": 351,
   "metadata": {},
   "outputs": [],
   "source": [
    "def owner_transform(X):\n",
    "    \n",
    "    mapp = {'First':1,\n",
    "           'Second':2,\n",
    "           'Third':3,\n",
    "           'Fourth & Above':4}\n",
    "    \n",
    "    X['Owner_Type'] = X['Owner_Type'].map(mapp)\n",
    "    \n",
    "    return X"
   ]
  },
  {
   "cell_type": "code",
   "execution_count": 352,
   "metadata": {},
   "outputs": [],
   "source": [
    "X_train = owner_transform(X_train)"
   ]
  },
  {
   "cell_type": "code",
   "execution_count": 353,
   "metadata": {},
   "outputs": [
    {
     "data": {
      "text/html": [
       "<div>\n",
       "<style scoped>\n",
       "    .dataframe tbody tr th:only-of-type {\n",
       "        vertical-align: middle;\n",
       "    }\n",
       "\n",
       "    .dataframe tbody tr th {\n",
       "        vertical-align: top;\n",
       "    }\n",
       "\n",
       "    .dataframe thead th {\n",
       "        text-align: right;\n",
       "    }\n",
       "</style>\n",
       "<table border=\"1\" class=\"dataframe\">\n",
       "  <thead>\n",
       "    <tr style=\"text-align: right;\">\n",
       "      <th></th>\n",
       "      <th>Name</th>\n",
       "      <th>Location</th>\n",
       "      <th>Year</th>\n",
       "      <th>Kilometers_Driven</th>\n",
       "      <th>Fuel_Type</th>\n",
       "      <th>Transmission</th>\n",
       "      <th>Owner_Type</th>\n",
       "      <th>Seats</th>\n",
       "      <th>Mileage_kmpl</th>\n",
       "      <th>Mileage_km/kg</th>\n",
       "      <th>Engine_log</th>\n",
       "      <th>Power_log</th>\n",
       "    </tr>\n",
       "  </thead>\n",
       "  <tbody>\n",
       "    <tr>\n",
       "      <th>523</th>\n",
       "      <td>Tata</td>\n",
       "      <td>Ahmedabad</td>\n",
       "      <td>2014</td>\n",
       "      <td>18000</td>\n",
       "      <td>Petrol</td>\n",
       "      <td>Manual</td>\n",
       "      <td>2</td>\n",
       "      <td>4.0</td>\n",
       "      <td>25.40</td>\n",
       "      <td>NaN</td>\n",
       "      <td>6.437752</td>\n",
       "      <td>3.650658</td>\n",
       "    </tr>\n",
       "    <tr>\n",
       "      <th>5989</th>\n",
       "      <td>Audi</td>\n",
       "      <td>Coimbatore</td>\n",
       "      <td>2013</td>\n",
       "      <td>58629</td>\n",
       "      <td>Diesel</td>\n",
       "      <td>Automatic</td>\n",
       "      <td>2</td>\n",
       "      <td>5.0</td>\n",
       "      <td>18.25</td>\n",
       "      <td>NaN</td>\n",
       "      <td>7.585281</td>\n",
       "      <td>5.240370</td>\n",
       "    </tr>\n",
       "    <tr>\n",
       "      <th>4565</th>\n",
       "      <td>Chevrolet</td>\n",
       "      <td>Delhi</td>\n",
       "      <td>2010</td>\n",
       "      <td>54000</td>\n",
       "      <td>Petrol</td>\n",
       "      <td>Manual</td>\n",
       "      <td>2</td>\n",
       "      <td>5.0</td>\n",
       "      <td>17.80</td>\n",
       "      <td>NaN</td>\n",
       "      <td>7.090077</td>\n",
       "      <td>4.354141</td>\n",
       "    </tr>\n",
       "    <tr>\n",
       "      <th>538</th>\n",
       "      <td>Ford</td>\n",
       "      <td>Hyderabad</td>\n",
       "      <td>2012</td>\n",
       "      <td>107000</td>\n",
       "      <td>Diesel</td>\n",
       "      <td>Manual</td>\n",
       "      <td>1</td>\n",
       "      <td>5.0</td>\n",
       "      <td>17.80</td>\n",
       "      <td>NaN</td>\n",
       "      <td>7.244228</td>\n",
       "      <td>4.219508</td>\n",
       "    </tr>\n",
       "    <tr>\n",
       "      <th>253</th>\n",
       "      <td>Honda</td>\n",
       "      <td>Coimbatore</td>\n",
       "      <td>2017</td>\n",
       "      <td>49575</td>\n",
       "      <td>Petrol</td>\n",
       "      <td>Manual</td>\n",
       "      <td>1</td>\n",
       "      <td>5.0</td>\n",
       "      <td>18.70</td>\n",
       "      <td>NaN</td>\n",
       "      <td>7.090077</td>\n",
       "      <td>4.496471</td>\n",
       "    </tr>\n",
       "  </tbody>\n",
       "</table>\n",
       "</div>"
      ],
      "text/plain": [
       "           Name    Location  Year  Kilometers_Driven Fuel_Type Transmission  \\\n",
       "523        Tata   Ahmedabad  2014              18000    Petrol       Manual   \n",
       "5989       Audi  Coimbatore  2013              58629    Diesel    Automatic   \n",
       "4565  Chevrolet       Delhi  2010              54000    Petrol       Manual   \n",
       "538        Ford   Hyderabad  2012             107000    Diesel       Manual   \n",
       "253       Honda  Coimbatore  2017              49575    Petrol       Manual   \n",
       "\n",
       "      Owner_Type  Seats  Mileage_kmpl  Mileage_km/kg  Engine_log  Power_log  \n",
       "523            2    4.0         25.40            NaN    6.437752   3.650658  \n",
       "5989           2    5.0         18.25            NaN    7.585281   5.240370  \n",
       "4565           2    5.0         17.80            NaN    7.090077   4.354141  \n",
       "538            1    5.0         17.80            NaN    7.244228   4.219508  \n",
       "253            1    5.0         18.70            NaN    7.090077   4.496471  "
      ]
     },
     "execution_count": 353,
     "metadata": {},
     "output_type": "execute_result"
    }
   ],
   "source": [
    "X_train.head()"
   ]
  },
  {
   "cell_type": "markdown",
   "metadata": {},
   "source": [
    "## 9. Kilometres Driven"
   ]
  },
  {
   "cell_type": "code",
   "execution_count": 362,
   "metadata": {},
   "outputs": [
    {
     "data": {
      "text/plain": [
       "<matplotlib.axes._subplots.AxesSubplot at 0x19dae20b208>"
      ]
     },
     "execution_count": 362,
     "metadata": {},
     "output_type": "execute_result"
    },
    {
     "data": {
      "image/png": "[encoded data removed]",
      "text/plain": [
       "<Figure size 432x288 with 1 Axes>"
      ]
     },
     "metadata": {
      "needs_background": "light"
     },
     "output_type": "display_data"
    }
   ],
   "source": [
    "X_train['Kilometers_Driven'].hist()"
   ]
  },
  {
   "cell_type": "code",
   "execution_count": 363,
   "metadata": {},
   "outputs": [
    {
     "data": {
      "text/plain": [
       "<matplotlib.axes._subplots.AxesSubplot at 0x19db1369f60>"
      ]
     },
     "execution_count": 363,
     "metadata": {},
     "output_type": "execute_result"
    },
    {
     "data": {
      "image/png": "[encoded data removed]",
      "text/plain": [
       "<Figure size 432x288 with 1 Axes>"
      ]
     },
     "metadata": {
      "needs_background": "light"
     },
     "output_type": "display_data"
    }
   ],
   "source": [
    "np.log(X_train['Kilometers_Driven']).hist()"
   ]
  },
  {
   "cell_type": "code",
   "execution_count": 364,
   "metadata": {},
   "outputs": [],
   "source": [
    "def kilometers_transform(X):\n",
    "    X['Kilometers_Driven'] = np.log(X['Kilometers_Driven'])\n",
    "    \n",
    "    return X"
   ]
  },
  {
   "cell_type": "code",
   "execution_count": null,
   "metadata": {},
   "outputs": [],
   "source": []
  }
 ],
 "metadata": {
  "kernelspec": {
   "display_name": "Python 3",
   "language": "python",
   "name": "python3"
  }
 },
 "nbformat": 4,
 "nbformat_minor": 2
}
